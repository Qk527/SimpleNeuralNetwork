{
  "nbformat": 4,
  "nbformat_minor": 0,
  "metadata": {
    "colab": {
      "name": "Prueba técnica - Carricondo.ipynb",
      "provenance": [],
      "collapsed_sections": [],
      "include_colab_link": true
    },
    "kernelspec": {
      "name": "python3",
      "display_name": "Python 3"
    }
  },
  "cells": [
    {
      "cell_type": "markdown",
      "metadata": {
        "id": "view-in-github",
        "colab_type": "text"
      },
      "source": [
        "<a href=\"https://colab.research.google.com/github/Qk527/SimpleNeuralNetwork/blob/main/Prueba_t%C3%A9cnica_Carricondo.ipynb\" target=\"_parent\"><img src=\"https://colab.research.google.com/assets/colab-badge.svg\" alt=\"Open In Colab\"/></a>"
      ]
    },
    {
      "cell_type": "markdown",
      "metadata": {
        "id": "JcnNGkW2mkfN"
      },
      "source": [
        "# Prueba técnica\n",
        "\n",
        "A continuación se encuentra un ejemplo práctico del uso de Deep Learning, utilizando Keras y Tensorflow.\n",
        "\n",
        "---\n"
      ]
    },
    {
      "cell_type": "markdown",
      "metadata": {
        "id": "gnv6Jj9WoIPj"
      },
      "source": [
        "## Predicción de series ordenadas en el tiempo\n",
        "\n",
        "En este proyecto se hará una predicción de una serie ordenada en el tiempo usando un regresor RNN (Recurrent Neural Network regressor).\n",
        "\n",
        "Se hará una predicción del precio de la acción de Apple con 7 días de anticipación, en base a una serie histórica.\n",
        "\n",
        "Se hará uso de una arquitectura para el RNN conocida como [Long Term Short Memory (LTSM)](https://en.wikipedia.org/wiki/Long_short-term_memory)."
      ]
    },
    {
      "cell_type": "markdown",
      "metadata": {
        "id": "vbDklWx_tvVz"
      },
      "source": [
        "### Parte 1: Primeros pasos\n",
        "Primero se debe cargar una serie histórica. Cargaremos una serie con el precio de la acción de Apple de 140 días. Luego se hará un pre-procesamiento para utilizar la información con un modelo de una RNN. Como primer paso se normalizó el rango la serie. Esto ayuda a evitar grandes problemas numéricos asociados a como las funciones de activación como tanh transforman números muy grandes (sean positivos o negativos) y ayuda a evitar problemas con el cálculo de las derivadas.\n",
        "\n",
        "Se normaliza la serie para que pertenezca al rango [-1,1] [usando esta función de la librería scikit](https://scikit-learn.org/stable/modules/generated/sklearn.preprocessing.MinMaxScaler.html). También es común ver aplicaciones donde se normaliza utilizando la desviación estándar.\n"
      ]
    },
    {
      "cell_type": "code",
      "metadata": {
        "id": "45EDLqTnRbuI",
        "colab": {
          "base_uri": "https://localhost:8080/"
        },
        "outputId": "8d9e48c4-82ae-453a-891c-f9b57326d1d9"
      },
      "source": [
        "### Cargar las librerías necesarias para el cargado de los datos y la normalización\n",
        "%matplotlib inline\n",
        "import numpy as np\n",
        "import matplotlib.pyplot as plt\n",
        "\n",
        "\n",
        "# Clonar repositorio con los datos en espacio de trabajo\n",
        "! git clone https://bitbucket.org/botiaio/campusparty_applestock.git"
      ],
      "execution_count": null,
      "outputs": [
        {
          "output_type": "stream",
          "name": "stdout",
          "text": [
            "Cloning into 'campusparty_applestock'...\n",
            "remote: Enumerating objects: 3, done.\u001b[K\n",
            "remote: Counting objects: 100% (3/3), done.\u001b[K\n",
            "remote: Compressing objects: 100% (3/3), done.\u001b[K\n",
            "remote: Total 3 (delta 0), reused 0 (delta 0), pack-reused 0\u001b[K\n",
            "Unpacking objects: 100% (3/3), done.\n"
          ]
        }
      ]
    },
    {
      "cell_type": "code",
      "metadata": {
        "id": "nreN3_fWw2b9"
      },
      "source": [
        "### Cargar los datos normalizados\n",
        "dataset = np.loadtxt('campusparty_applestock/normalized_apple_prices.csv')"
      ],
      "execution_count": null,
      "outputs": []
    },
    {
      "cell_type": "markdown",
      "metadata": {
        "id": "-hJpnnBfzcKF"
      },
      "source": [
        "Observemos los datos cargados"
      ]
    },
    {
      "cell_type": "code",
      "metadata": {
        "id": "Y7ipXvoIyZRt",
        "colab": {
          "base_uri": "https://localhost:8080/"
        },
        "outputId": "bade1b9d-4e54-4159-d9e3-afdc6703e81b"
      },
      "source": [
        "#Grafiquemos los datos\n",
        "plt.plot(dataset)\n",
        "plt.xlabel('periodo de tiempo')\n",
        "plt.ylabel('serie normalizada')"
      ],
      "execution_count": null,
      "outputs": [
        {
          "output_type": "execute_result",
          "data": {
            "text/plain": [
              "Text(0, 0.5, 'serie normalizada')"
            ]
          },
          "metadata": {},
          "execution_count": 3
        },
        {
          "output_type": "display_data",
          "data": {
            "text/plain": [
              "<Figure size 432x288 with 1 Axes>"
            ],
            "image/png": "[encoded data removed]"
          },
          "metadata": {
            "needs_background": "light"
          }
        }
      ]
    },
    {
      "cell_type": "code",
      "source": [
        "#Check dataset shape\n",
        "dataset.shape"
      ],
      "metadata": {
        "colab": {
          "base_uri": "https://localhost:8080/"
        },
        "id": "hFhWMaM5JGAQ",
        "outputId": "9086247d-ac2f-470b-9938-ccf1d2142e45"
      },
      "execution_count": null,
      "outputs": [
        {
          "output_type": "execute_result",
          "data": {
            "text/plain": [
              "(138,)"
            ]
          },
          "metadata": {},
          "execution_count": 4
        }
      ]
    },
    {
      "cell_type": "markdown",
      "source": [
        "Tengo cargado el valor de la acción en ese día (el día sería el índice) y ya están normalizados."
      ],
      "metadata": {
        "id": "Rj7RnrGoJXzx"
      }
    },
    {
      "cell_type": "markdown",
      "metadata": {
        "id": "IuD7SivS0bMn"
      },
      "source": [
        "### Parte 2: Cortar la serie ordenada en secuencias\n",
        "\n",
        "Generalmente se representa matemáticamente una serie ordenada como:\n",
        "\n",
        "$$s_{0},s_{1},s_{2},...,s_{P}$$\n",
        "\n",
        "\n",
        "donde $s_{p}$ es el valor numérico de la serie en el intervalo de tiempo $p$ , siendo  $P$ el largo total de la serie. Para aplicar el RNN se debe tratar a la predicción como un problema de regresión. Para ello se debe usar una ventana móvil para construir un set asociado de pares de entrada-salida sobre los cuales aplicar la regresión.\n",
        "\n",
        "Por ejemplo, para una ventana de tamaño T = 3 se deben producir los siguientes pares:\n",
        "\n",
        "$$\\begin{array}{c|c}\n",
        "\\text{Input} & \\text{Output}\\\\\n",
        "\\hline \\color{CornflowerBlue} {\\langle s_{1},s_{2},s_{3}\\rangle} & \\color{Goldenrod}{ s_{4}} \\\\\n",
        "\\ \\color{CornflowerBlue} {\\langle s_{2},s_{3},s_{4} \\rangle } & \\color{Goldenrod} {s_{5} } \\\\\n",
        "\\color{CornflowerBlue}  {\\vdots} & \\color{Goldenrod} {\\vdots}\\\\\n",
        "\\color{CornflowerBlue} { \\langle s_{P-3},s_{P-2},s_{P-1} \\rangle } & \\color{Goldenrod} {s_{P}}\n",
        "\\end{array}$$\n",
        "\n",
        "\n",
        "####Ventana móvil\n",
        "Completar la función llamada **window_transform_series** que ejecuta una ventana móvil a lo largo de una serie de datos y crea los pares de input y output necesarios para el entrenamiento.\n",
        "\n",
        "La función recibe la serie de datos y el tamaño de la ventana (3 en el ejemplo de arriba). Se debe retornar un numpy array."
      ]
    },
    {
      "cell_type": "code",
      "metadata": {
        "id": "HYQ400ZvxkDS"
      },
      "source": [
        "### @TODO: completar la función debajo que transforma los datos en los pares input-output necesarios dado el tamaño de la ventana\n",
        "def window_transform_series(series,window_size):\n",
        "    # variables para los pares input-output\n",
        "    X = []\n",
        "    y = []\n",
        "    \n",
        "    ### Se recomienda usar un for dentro de otro for aquí\n",
        "    for i in range(0,len(series)-window_size-1):\n",
        "      feature = []\n",
        "      target = []\n",
        "      for j in range(0,window_size):\n",
        "        feature.append(series[i+j])\n",
        "      target.append(series[i+window_size+1])\n",
        "      \n",
        "      X.append(feature)\n",
        "      y.append(target)    \n",
        "        \n",
        "    # Paso de formato lista a numpy array\n",
        "    X = np.asarray(X)\n",
        "    X.shape = (np.shape(X)[0:2])\n",
        "    y = np.asarray(y)\n",
        "    y.shape = (len(y),1)\n",
        "    \n",
        "    return X,y"
      ],
      "execution_count": null,
      "outputs": []
    },
    {
      "cell_type": "markdown",
      "metadata": {
        "id": "Ko2NEdo-5qTg"
      },
      "source": [
        "Se puede probar la función con los datos de debajo:"
      ]
    },
    {
      "cell_type": "markdown",
      "metadata": {
        "id": "FJGLFZtrU31S"
      },
      "source": [
        "### Probar la función window_transform_series\n",
        "A continuación probar el código recién programado. Puede ser sobre la serie de datos del problema o sobre otra serie de datos cuya secuencia sea conocida (por ejemplo Fibonacci)."
      ]
    },
    {
      "cell_type": "code",
      "metadata": {
        "id": "ZE9nGiEq5mFE",
        "colab": {
          "base_uri": "https://localhost:8080/"
        },
        "outputId": "73a80dd6-515f-465b-8514-6ba5302abd13"
      },
      "source": [
        "#Parametros Fibonacci\n",
        "a = np.arange(1, 11)\n",
        "sqrtFive = np.sqrt(5)\n",
        "alpha = (1 + sqrtFive) / 2\n",
        "beta = (1 - sqrtFive) / 2\n",
        "\n",
        "#Formula Fibonacci\n",
        "test_series = np.rint(((alpha ** a) - (beta ** a)) / (sqrtFive))\n",
        "test_series[9]"
      ],
      "execution_count": null,
      "outputs": [
        {
          "output_type": "execute_result",
          "data": {
            "text/plain": [
              "55.0"
            ]
          },
          "metadata": {},
          "execution_count": 6
        }
      ]
    },
    {
      "cell_type": "code",
      "metadata": {
        "id": "4wz5jQbq5uQS"
      },
      "source": [
        "### @TODO\n",
        "# Utilizar una ventana de tamaño 2 y obtener el siguiente número de la serie\n",
        "window_size = 2\n",
        "X,y = window_transform_series(test_series,window_size)"
      ],
      "execution_count": null,
      "outputs": []
    },
    {
      "cell_type": "code",
      "metadata": {
        "id": "SYGfV2mT5wOu",
        "colab": {
          "base_uri": "https://localhost:8080/"
        },
        "outputId": "79b0aa0e-4808-4be2-e4d1-0a6c18373b1e"
      },
      "source": [
        "print ('El input X es:')\n",
        "print (X)\n",
        "\n",
        "print ('El output y asociado es:')\n",
        "print (y)"
      ],
      "execution_count": null,
      "outputs": [
        {
          "output_type": "stream",
          "name": "stdout",
          "text": [
            "El input X es:\n",
            "[[ 1.  1.]\n",
            " [ 1.  2.]\n",
            " [ 2.  3.]\n",
            " [ 3.  5.]\n",
            " [ 5.  8.]\n",
            " [ 8. 13.]\n",
            " [13. 21.]]\n",
            "El output y asociado es:\n",
            "[[ 3.]\n",
            " [ 5.]\n",
            " [ 8.]\n",
            " [13.]\n",
            " [21.]\n",
            " [34.]\n",
            " [55.]]\n"
          ]
        }
      ]
    },
    {
      "cell_type": "markdown",
      "metadata": {
        "id": "twP8lefj50wH"
      },
      "source": [
        "Una vez que la función de arriba funcione correctamente, aplicarla con una ventana de tamaño 7 al juego de datos cargados.\n",
        "\n"
      ]
    },
    {
      "cell_type": "code",
      "metadata": {
        "id": "jp03sQYp5yiy"
      },
      "source": [
        "### @TODO\n",
        "# Definir la variable window_size y usarla al invocar la función window_transform_series\n",
        "window_size = 7\n",
        "X,y = window_transform_series(dataset,window_size)"
      ],
      "execution_count": null,
      "outputs": []
    },
    {
      "cell_type": "markdown",
      "metadata": {
        "id": "t2BYsK4W56zB"
      },
      "source": [
        "###Parte 3: Separar los datos en datos de entrenamiento y de test\n",
        "Se recomienda separar al menos un tercio de los datos para validación o test. Hacer eso a continuación. Aprovechar que es una serie ordenada y no hacer un split aleatorio de los datos para separar en test y train."
      ]
    },
    {
      "cell_type": "code",
      "metadata": {
        "id": "V8iZ5rLF53zT"
      },
      "source": [
        "### @TODO\n",
        "# Separar los datos en entrenamiento y test (un tercio para test s/recomendacion)\n",
        "train_test_split = int(len(dataset) / 3)\n",
        "\n",
        "# Partir los datos\n",
        "X_train = X[train_test_split:]\n",
        "y_train = y[train_test_split:]\n",
        "\n",
        "# Mantener la última parte para test\n",
        "X_test = X[:train_test_split]\n",
        "y_test = y[:train_test_split]"
      ],
      "execution_count": null,
      "outputs": []
    },
    {
      "cell_type": "code",
      "source": [
        "#Check\n",
        "print (len(X_train), len(y_train), len(X_test), len(y_test))"
      ],
      "metadata": {
        "colab": {
          "base_uri": "https://localhost:8080/"
        },
        "id": "iE9XO8ndxmmV",
        "outputId": "6d4c5748-87a0-44c1-a7e4-beeb0684148d"
      },
      "execution_count": null,
      "outputs": [
        {
          "output_type": "stream",
          "name": "stdout",
          "text": [
            "84 84 46 46\n"
          ]
        }
      ]
    },
    {
      "cell_type": "markdown",
      "source": [
        "Realizé el código de esa forma para mantener todo con Numpy y no importar una librería como Sklearn por una sola línea de código."
      ],
      "metadata": {
        "id": "yBHi7S-m0IyA"
      }
    },
    {
      "cell_type": "code",
      "metadata": {
        "id": "WcYCHvJs6EhM"
      },
      "source": [
        "# IMPORTANTE: para utilizar el módulo RNN LSTM de Keras el input debe tener la forma [samples, window size, stepsize]\n",
        "#Estas transformaciones se hacen a continuación\n",
        "X_train = np.asarray(np.reshape(X_train, (X_train.shape[0], window_size, 1)))\n",
        "X_test = np.asarray(np.reshape(X_test, (X_test.shape[0], window_size, 1)))"
      ],
      "execution_count": null,
      "outputs": []
    },
    {
      "cell_type": "markdown",
      "metadata": {
        "id": "tJF0hQ606KI-"
      },
      "source": [
        "###Parte 4: Crear y ejecutar un modelo de regresión utilizando RNN\n",
        "\n",
        "Se utilizará Keras para construir una red neuronal con dos capas ocultas RNN con las siguientes especificaciones:\n",
        "\n",
        "* La capa 1 debe usar un módulo LSTM con 5 unidades ocultas (el input_shape de la misma debe ser (window_size,1))\n",
        "* La capa 2 usa un módulo completamente conectado (fully connected) con una unidad\n",
        "* Se debe usar la función de pérdida 'mean_squared_error'\n",
        "\n",
        "Ayudas:\n",
        "\n",
        "* [Documentación general de Keras](https://keras.io/getting-started/sequential-model-guide/)\n",
        "* [Documentación de Keras de LTSM](https://keras.io/layers/recurrent/)\n",
        "* Asegurarse de inicializar el [optimizador recomendado por Keras para RNN](https://keras.io/optimizers/)"
      ]
    },
    {
      "cell_type": "code",
      "metadata": {
        "id": "q33SHho_6GL0"
      },
      "source": [
        "### @TODO: Crear el modelo RNN\n",
        "# Importar librerías de Keras\n",
        "from keras.models import Sequential\n",
        "from keras.layers import Dense\n",
        "from keras.layers import LSTM\n",
        "from tensorflow import keras\n",
        "from keras import optimizers\n",
        "\n",
        "#Crear el modelo secuencial\n",
        "model = Sequential(name=\"PredAppleAppleActionV1.0.0\")\n",
        "#Agregar una capa LSTM con 5 unidades ocultas y el input shape necesario\n",
        "\n",
        "#Pongo el input shape afuera por mayor prolijidad\n",
        "model.add(keras.Input(shape=(window_size,1)))\n",
        "\n",
        "model.add(LSTM(\n",
        "    units = 5,\n",
        "    activation = \"tanh\",\n",
        "    dropout = 0.03, #Pongo un poco de dropout para evitar overfiting\n",
        "    return_sequences = True,\n",
        "    name = \"layer1LSTM5\"\n",
        "))\n",
        "#Agregar una capa densa con una unidad\n",
        "model.add(Dense(\n",
        "    units = 1,\n",
        "    #activation = \"tanh\",\n",
        "    name = \"layer2Dense1\"\n",
        "))\n",
        "\n",
        "# Crear el modelo utilizando el optimizador recomendado por la documentación de keras\n",
        "optimizer = keras.optimizers.Adam(learning_rate=0.01)\n",
        "\n",
        "# Compilar el modelo con la función de pérdida requerida\n",
        "model.compile(loss='mse', optimizer=optimizer, metrics=[keras.metrics.MeanSquaredError()])"
      ],
      "execution_count": null,
      "outputs": []
    },
    {
      "cell_type": "code",
      "source": [
        "#Check\n",
        "model.summary()"
      ],
      "metadata": {
        "colab": {
          "base_uri": "https://localhost:8080/"
        },
        "id": "Wrhm8w_C5MtK",
        "outputId": "c018e98d-6945-4be4-9a37-08dd92ff415d"
      },
      "execution_count": null,
      "outputs": [
        {
          "output_type": "stream",
          "name": "stdout",
          "text": [
            "Model: \"PredAppleAppleActionV1.0.0\"\n",
            "_________________________________________________________________\n",
            " Layer (type)                Output Shape              Param #   \n",
            "=================================================================\n",
            " layer1LSTM5 (LSTM)          (None, 7, 5)              140       \n",
            "                                                                 \n",
            " layer2Dense1 (Dense)        (None, 7, 1)              6         \n",
            "                                                                 \n",
            "=================================================================\n",
            "Total params: 146\n",
            "Trainable params: 146\n",
            "Non-trainable params: 0\n",
            "_________________________________________________________________\n"
          ]
        }
      ]
    },
    {
      "cell_type": "markdown",
      "metadata": {
        "id": "gd-dZ1ix60lN"
      },
      "source": [
        "Entrenar el modelo con los datos separados para esta función haciendo uso de la función fit.\n",
        "\n",
        "Sugerencia: Investigar y probar con distintos valores de epochs y tamaño de batch. Buscar en la documentación de keras por más información.\n"
      ]
    },
    {
      "cell_type": "markdown",
      "source": [
        "#### Callbacks\n",
        "\n",
        "Los callbacks de Keras permiten personalizar el comportamiento del modelo durante su entrenamiento (también evaluación y predicción).\n",
        "\n",
        "En esto caso voy a usar dos: un EarlyStopping para evitar un excesivo overfiting y LearningRateScheduler para variar el learning rate durante el entrenamiento."
      ],
      "metadata": {
        "id": "wIbnC7Jor3r1"
      }
    },
    {
      "cell_type": "code",
      "source": [
        "from keras import callbacks\n",
        "\n",
        "earlystopping = callbacks.EarlyStopping(monitor =\"val_loss\", \n",
        "                                        mode =\"min\", \n",
        "                                        patience = 5,\n",
        "                                        restore_best_weights = True,\n",
        "                                        min_delta = 0.001)"
      ],
      "metadata": {
        "id": "Nj9iVQbyWRur"
      },
      "execution_count": null,
      "outputs": []
    },
    {
      "cell_type": "code",
      "source": [
        "learning_rate = 0.05\n",
        "decay_rate = 0.5\n",
        "\n",
        "def exp_decay(epoch):\n",
        "    lrate = learning_rate * np.exp(-decay_rate*epoch)\n",
        "    return lrate\n",
        "\n",
        "lr_rate = callbacks.LearningRateScheduler(exp_decay)"
      ],
      "metadata": {
        "id": "5C0OVY-As98N"
      },
      "execution_count": null,
      "outputs": []
    },
    {
      "cell_type": "markdown",
      "source": [
        "#### Fit"
      ],
      "metadata": {
        "id": "8rPPw8gn7Cus"
      }
    },
    {
      "cell_type": "code",
      "source": [
        "from sklearn.model_selection import GridSearchCV\n",
        "from keras.wrappers.scikit_learn import KerasRegressor"
      ],
      "metadata": {
        "id": "f4VJTDJ4XEsN"
      },
      "execution_count": null,
      "outputs": []
    },
    {
      "cell_type": "code",
      "source": [
        "def build_regressor(optimizer):\n",
        "  predictor = Sequential()\n",
        "\n",
        "  predictor.add(LSTM(\n",
        "    units = 5,\n",
        "    activation = \"tanh\",\n",
        "    dropout = 0.03, #Pongo un poco de dropout para evitar overfiting\n",
        "    return_sequences = True,\n",
        "    name = \"layer1LSTM5\"\n",
        "  ))\n",
        "  \n",
        "  predictor.add(Dense(\n",
        "    units = 1,\n",
        "    #activation = \"tanh\",\n",
        "    name = \"layer2Dense1\"\n",
        "  ))\n",
        "\n",
        "  predictor.compile(loss='mse', optimizer=optimizer, metrics=[keras.metrics.MeanSquaredError()])\n",
        "\n",
        "  return predictor"
      ],
      "metadata": {
        "id": "jfqOfpn6XFZQ"
      },
      "execution_count": null,
      "outputs": []
    },
    {
      "cell_type": "code",
      "source": [
        "predictor = KerasRegressor(build_fn = build_regressor)"
      ],
      "metadata": {
        "colab": {
          "base_uri": "https://localhost:8080/"
        },
        "id": "NSfRXnXCX3kr",
        "outputId": "31610389-cbd4-4be6-ddf8-537c943b87a3"
      },
      "execution_count": null,
      "outputs": [
        {
          "output_type": "stream",
          "name": "stderr",
          "text": [
            "/usr/local/lib/python3.7/dist-packages/ipykernel_launcher.py:1: DeprecationWarning: KerasRegressor is deprecated, use Sci-Keras (https://github.com/adriangb/scikeras) instead. See https://www.adriangb.com/scikeras/stable/migration.html for help migrating.\n",
            "  \"\"\"Entry point for launching an IPython kernel.\n"
          ]
        }
      ]
    },
    {
      "cell_type": "code",
      "source": [
        "parameters = {\n",
        "    'batch_size' : [2,8, 16],\n",
        "    'nb_epoch' : [20, 50, 100], \n",
        "    'optimizer' : ['adam', 'rmsprop']\n",
        "}"
      ],
      "metadata": {
        "id": "pxjYYfsUZcu-"
      },
      "execution_count": null,
      "outputs": []
    },
    {
      "cell_type": "code",
      "source": [
        "grid_search = GridSearchCV(estimator = predictor, \n",
        "                           param_grid = parameters, \n",
        "                           scoring = 'neg_mean_squared_error', \n",
        "                           cv = 10)\n",
        "\n",
        "grid_search = grid_search.fit(X_train, y_train)\n",
        "\n",
        "best_parameters = grid_search.best_params_\n",
        "best_mse = grid_search.best_score_"
      ],
      "metadata": {
        "colab": {
          "base_uri": "https://localhost:8080/"
        },
        "id": "l2ym4lMMZtCE",
        "outputId": "5a0cd871-8474-4d85-9997-d0d0de48733f"
      },
      "execution_count": null,
      "outputs": [
        {
          "output_type": "stream",
          "name": "stdout",
          "text": [
            "38/38 [==============================] - 4s 5ms/step - loss: 0.1978 - mean_squared_error: 0.1978\n"
          ]
        },
        {
          "output_type": "stream",
          "name": "stderr",
          "text": [
            "/usr/local/lib/python3.7/dist-packages/sklearn/model_selection/_validation.py:774: UserWarning: Scoring failed. The score on this train-test partition for these parameters will be set to nan. Details: \n",
            "Traceback (most recent call last):\n",
            "  File \"/usr/local/lib/python3.7/dist-packages/sklearn/model_selection/_validation.py\", line 761, in _score\n",
            "    scores = scorer(estimator, X_test, y_test)\n",
            "  File \"/usr/local/lib/python3.7/dist-packages/sklearn/metrics/_scorer.py\", line 221, in __call__\n",
            "    sample_weight=sample_weight,\n",
            "  File \"/usr/local/lib/python3.7/dist-packages/sklearn/metrics/_scorer.py\", line 264, in _score\n",
            "    return self._sign * self._score_func(y_true, y_pred, **self._kwargs)\n",
            "  File \"/usr/local/lib/python3.7/dist-packages/sklearn/metrics/_regression.py\", line 439, in mean_squared_error\n",
            "    y_true, y_pred, multioutput\n",
            "  File \"/usr/local/lib/python3.7/dist-packages/sklearn/metrics/_regression.py\", line 107, in _check_reg_targets\n",
            "    y_true.shape[1], y_pred.shape[1]\n",
            "ValueError: y_true and y_pred have different number of output (1!=7)\n",
            "\n",
            "  UserWarning,\n"
          ]
        },
        {
          "output_type": "stream",
          "name": "stdout",
          "text": [
            "38/38 [==============================] - 3s 5ms/step - loss: 0.0850 - mean_squared_error: 0.0850\n"
          ]
        },
        {
          "output_type": "stream",
          "name": "stderr",
          "text": [
            "/usr/local/lib/python3.7/dist-packages/sklearn/model_selection/_validation.py:774: UserWarning: Scoring failed. The score on this train-test partition for these parameters will be set to nan. Details: \n",
            "Traceback (most recent call last):\n",
            "  File \"/usr/local/lib/python3.7/dist-packages/sklearn/model_selection/_validation.py\", line 761, in _score\n",
            "    scores = scorer(estimator, X_test, y_test)\n",
            "  File \"/usr/local/lib/python3.7/dist-packages/sklearn/metrics/_scorer.py\", line 221, in __call__\n",
            "    sample_weight=sample_weight,\n",
            "  File \"/usr/local/lib/python3.7/dist-packages/sklearn/metrics/_scorer.py\", line 264, in _score\n",
            "    return self._sign * self._score_func(y_true, y_pred, **self._kwargs)\n",
            "  File \"/usr/local/lib/python3.7/dist-packages/sklearn/metrics/_regression.py\", line 439, in mean_squared_error\n",
            "    y_true, y_pred, multioutput\n",
            "  File \"/usr/local/lib/python3.7/dist-packages/sklearn/metrics/_regression.py\", line 107, in _check_reg_targets\n",
            "    y_true.shape[1], y_pred.shape[1]\n",
            "ValueError: y_true and y_pred have different number of output (1!=7)\n",
            "\n",
            "  UserWarning,\n"
          ]
        },
        {
          "output_type": "stream",
          "name": "stdout",
          "text": [
            "38/38 [==============================] - 3s 5ms/step - loss: 0.1741 - mean_squared_error: 0.1741\n"
          ]
        },
        {
          "output_type": "stream",
          "name": "stderr",
          "text": [
            "/usr/local/lib/python3.7/dist-packages/sklearn/model_selection/_validation.py:774: UserWarning: Scoring failed. The score on this train-test partition for these parameters will be set to nan. Details: \n",
            "Traceback (most recent call last):\n",
            "  File \"/usr/local/lib/python3.7/dist-packages/sklearn/model_selection/_validation.py\", line 761, in _score\n",
            "    scores = scorer(estimator, X_test, y_test)\n",
            "  File \"/usr/local/lib/python3.7/dist-packages/sklearn/metrics/_scorer.py\", line 221, in __call__\n",
            "    sample_weight=sample_weight,\n",
            "  File \"/usr/local/lib/python3.7/dist-packages/sklearn/metrics/_scorer.py\", line 264, in _score\n",
            "    return self._sign * self._score_func(y_true, y_pred, **self._kwargs)\n",
            "  File \"/usr/local/lib/python3.7/dist-packages/sklearn/metrics/_regression.py\", line 439, in mean_squared_error\n",
            "    y_true, y_pred, multioutput\n",
            "  File \"/usr/local/lib/python3.7/dist-packages/sklearn/metrics/_regression.py\", line 107, in _check_reg_targets\n",
            "    y_true.shape[1], y_pred.shape[1]\n",
            "ValueError: y_true and y_pred have different number of output (1!=7)\n",
            "\n",
            "  UserWarning,\n"
          ]
        },
        {
          "output_type": "stream",
          "name": "stdout",
          "text": [
            "38/38 [==============================] - 3s 5ms/step - loss: 0.1089 - mean_squared_error: 0.1089\n"
          ]
        },
        {
          "output_type": "stream",
          "name": "stderr",
          "text": [
            "/usr/local/lib/python3.7/dist-packages/sklearn/model_selection/_validation.py:774: UserWarning: Scoring failed. The score on this train-test partition for these parameters will be set to nan. Details: \n",
            "Traceback (most recent call last):\n",
            "  File \"/usr/local/lib/python3.7/dist-packages/sklearn/model_selection/_validation.py\", line 761, in _score\n",
            "    scores = scorer(estimator, X_test, y_test)\n",
            "  File \"/usr/local/lib/python3.7/dist-packages/sklearn/metrics/_scorer.py\", line 221, in __call__\n",
            "    sample_weight=sample_weight,\n",
            "  File \"/usr/local/lib/python3.7/dist-packages/sklearn/metrics/_scorer.py\", line 264, in _score\n",
            "    return self._sign * self._score_func(y_true, y_pred, **self._kwargs)\n",
            "  File \"/usr/local/lib/python3.7/dist-packages/sklearn/metrics/_regression.py\", line 439, in mean_squared_error\n",
            "    y_true, y_pred, multioutput\n",
            "  File \"/usr/local/lib/python3.7/dist-packages/sklearn/metrics/_regression.py\", line 107, in _check_reg_targets\n",
            "    y_true.shape[1], y_pred.shape[1]\n",
            "ValueError: y_true and y_pred have different number of output (1!=7)\n",
            "\n",
            "  UserWarning,\n"
          ]
        },
        {
          "output_type": "stream",
          "name": "stdout",
          "text": [
            "38/38 [==============================] - 2s 4ms/step - loss: 0.1247 - mean_squared_error: 0.1247\n"
          ]
        },
        {
          "output_type": "stream",
          "name": "stderr",
          "text": [
            "/usr/local/lib/python3.7/dist-packages/sklearn/model_selection/_validation.py:774: UserWarning: Scoring failed. The score on this train-test partition for these parameters will be set to nan. Details: \n",
            "Traceback (most recent call last):\n",
            "  File \"/usr/local/lib/python3.7/dist-packages/sklearn/model_selection/_validation.py\", line 761, in _score\n",
            "    scores = scorer(estimator, X_test, y_test)\n",
            "  File \"/usr/local/lib/python3.7/dist-packages/sklearn/metrics/_scorer.py\", line 221, in __call__\n",
            "    sample_weight=sample_weight,\n",
            "  File \"/usr/local/lib/python3.7/dist-packages/sklearn/metrics/_scorer.py\", line 264, in _score\n",
            "    return self._sign * self._score_func(y_true, y_pred, **self._kwargs)\n",
            "  File \"/usr/local/lib/python3.7/dist-packages/sklearn/metrics/_regression.py\", line 439, in mean_squared_error\n",
            "    y_true, y_pred, multioutput\n",
            "  File \"/usr/local/lib/python3.7/dist-packages/sklearn/metrics/_regression.py\", line 107, in _check_reg_targets\n",
            "    y_true.shape[1], y_pred.shape[1]\n",
            "ValueError: y_true and y_pred have different number of output (1!=7)\n",
            "\n",
            "  UserWarning,\n"
          ]
        },
        {
          "output_type": "stream",
          "name": "stdout",
          "text": [
            "38/38 [==============================] - 2s 4ms/step - loss: 0.2223 - mean_squared_error: 0.2223\n"
          ]
        },
        {
          "output_type": "stream",
          "name": "stderr",
          "text": [
            "/usr/local/lib/python3.7/dist-packages/sklearn/model_selection/_validation.py:774: UserWarning: Scoring failed. The score on this train-test partition for these parameters will be set to nan. Details: \n",
            "Traceback (most recent call last):\n",
            "  File \"/usr/local/lib/python3.7/dist-packages/sklearn/model_selection/_validation.py\", line 761, in _score\n",
            "    scores = scorer(estimator, X_test, y_test)\n",
            "  File \"/usr/local/lib/python3.7/dist-packages/sklearn/metrics/_scorer.py\", line 221, in __call__\n",
            "    sample_weight=sample_weight,\n",
            "  File \"/usr/local/lib/python3.7/dist-packages/sklearn/metrics/_scorer.py\", line 264, in _score\n",
            "    return self._sign * self._score_func(y_true, y_pred, **self._kwargs)\n",
            "  File \"/usr/local/lib/python3.7/dist-packages/sklearn/metrics/_regression.py\", line 439, in mean_squared_error\n",
            "    y_true, y_pred, multioutput\n",
            "  File \"/usr/local/lib/python3.7/dist-packages/sklearn/metrics/_regression.py\", line 107, in _check_reg_targets\n",
            "    y_true.shape[1], y_pred.shape[1]\n",
            "ValueError: y_true and y_pred have different number of output (1!=7)\n",
            "\n",
            "  UserWarning,\n"
          ]
        },
        {
          "output_type": "stream",
          "name": "stdout",
          "text": [
            "38/38 [==============================] - 2s 4ms/step - loss: 0.0862 - mean_squared_error: 0.0862\n"
          ]
        },
        {
          "output_type": "stream",
          "name": "stderr",
          "text": [
            "/usr/local/lib/python3.7/dist-packages/sklearn/model_selection/_validation.py:774: UserWarning: Scoring failed. The score on this train-test partition for these parameters will be set to nan. Details: \n",
            "Traceback (most recent call last):\n",
            "  File \"/usr/local/lib/python3.7/dist-packages/sklearn/model_selection/_validation.py\", line 761, in _score\n",
            "    scores = scorer(estimator, X_test, y_test)\n",
            "  File \"/usr/local/lib/python3.7/dist-packages/sklearn/metrics/_scorer.py\", line 221, in __call__\n",
            "    sample_weight=sample_weight,\n",
            "  File \"/usr/local/lib/python3.7/dist-packages/sklearn/metrics/_scorer.py\", line 264, in _score\n",
            "    return self._sign * self._score_func(y_true, y_pred, **self._kwargs)\n",
            "  File \"/usr/local/lib/python3.7/dist-packages/sklearn/metrics/_regression.py\", line 439, in mean_squared_error\n",
            "    y_true, y_pred, multioutput\n",
            "  File \"/usr/local/lib/python3.7/dist-packages/sklearn/metrics/_regression.py\", line 107, in _check_reg_targets\n",
            "    y_true.shape[1], y_pred.shape[1]\n",
            "ValueError: y_true and y_pred have different number of output (1!=7)\n",
            "\n",
            "  UserWarning,\n"
          ]
        },
        {
          "output_type": "stream",
          "name": "stdout",
          "text": [
            "38/38 [==============================] - 2s 4ms/step - loss: 0.2494 - mean_squared_error: 0.2494\n"
          ]
        },
        {
          "output_type": "stream",
          "name": "stderr",
          "text": [
            "/usr/local/lib/python3.7/dist-packages/sklearn/model_selection/_validation.py:774: UserWarning: Scoring failed. The score on this train-test partition for these parameters will be set to nan. Details: \n",
            "Traceback (most recent call last):\n",
            "  File \"/usr/local/lib/python3.7/dist-packages/sklearn/model_selection/_validation.py\", line 761, in _score\n",
            "    scores = scorer(estimator, X_test, y_test)\n",
            "  File \"/usr/local/lib/python3.7/dist-packages/sklearn/metrics/_scorer.py\", line 221, in __call__\n",
            "    sample_weight=sample_weight,\n",
            "  File \"/usr/local/lib/python3.7/dist-packages/sklearn/metrics/_scorer.py\", line 264, in _score\n",
            "    return self._sign * self._score_func(y_true, y_pred, **self._kwargs)\n",
            "  File \"/usr/local/lib/python3.7/dist-packages/sklearn/metrics/_regression.py\", line 439, in mean_squared_error\n",
            "    y_true, y_pred, multioutput\n",
            "  File \"/usr/local/lib/python3.7/dist-packages/sklearn/metrics/_regression.py\", line 107, in _check_reg_targets\n",
            "    y_true.shape[1], y_pred.shape[1]\n",
            "ValueError: y_true and y_pred have different number of output (1!=7)\n",
            "\n",
            "  UserWarning,\n"
          ]
        },
        {
          "output_type": "stream",
          "name": "stdout",
          "text": [
            "38/38 [==============================] - 2s 4ms/step - loss: 0.1133 - mean_squared_error: 0.1133\n"
          ]
        },
        {
          "output_type": "stream",
          "name": "stderr",
          "text": [
            "/usr/local/lib/python3.7/dist-packages/sklearn/model_selection/_validation.py:774: UserWarning: Scoring failed. The score on this train-test partition for these parameters will be set to nan. Details: \n",
            "Traceback (most recent call last):\n",
            "  File \"/usr/local/lib/python3.7/dist-packages/sklearn/model_selection/_validation.py\", line 761, in _score\n",
            "    scores = scorer(estimator, X_test, y_test)\n",
            "  File \"/usr/local/lib/python3.7/dist-packages/sklearn/metrics/_scorer.py\", line 221, in __call__\n",
            "    sample_weight=sample_weight,\n",
            "  File \"/usr/local/lib/python3.7/dist-packages/sklearn/metrics/_scorer.py\", line 264, in _score\n",
            "    return self._sign * self._score_func(y_true, y_pred, **self._kwargs)\n",
            "  File \"/usr/local/lib/python3.7/dist-packages/sklearn/metrics/_regression.py\", line 439, in mean_squared_error\n",
            "    y_true, y_pred, multioutput\n",
            "  File \"/usr/local/lib/python3.7/dist-packages/sklearn/metrics/_regression.py\", line 107, in _check_reg_targets\n",
            "    y_true.shape[1], y_pred.shape[1]\n",
            "ValueError: y_true and y_pred have different number of output (1!=7)\n",
            "\n",
            "  UserWarning,\n"
          ]
        },
        {
          "output_type": "stream",
          "name": "stdout",
          "text": [
            "38/38 [==============================] - 2s 4ms/step - loss: 0.1426 - mean_squared_error: 0.1426\n"
          ]
        },
        {
          "output_type": "stream",
          "name": "stderr",
          "text": [
            "/usr/local/lib/python3.7/dist-packages/sklearn/model_selection/_validation.py:774: UserWarning: Scoring failed. The score on this train-test partition for these parameters will be set to nan. Details: \n",
            "Traceback (most recent call last):\n",
            "  File \"/usr/local/lib/python3.7/dist-packages/sklearn/model_selection/_validation.py\", line 761, in _score\n",
            "    scores = scorer(estimator, X_test, y_test)\n",
            "  File \"/usr/local/lib/python3.7/dist-packages/sklearn/metrics/_scorer.py\", line 221, in __call__\n",
            "    sample_weight=sample_weight,\n",
            "  File \"/usr/local/lib/python3.7/dist-packages/sklearn/metrics/_scorer.py\", line 264, in _score\n",
            "    return self._sign * self._score_func(y_true, y_pred, **self._kwargs)\n",
            "  File \"/usr/local/lib/python3.7/dist-packages/sklearn/metrics/_regression.py\", line 439, in mean_squared_error\n",
            "    y_true, y_pred, multioutput\n",
            "  File \"/usr/local/lib/python3.7/dist-packages/sklearn/metrics/_regression.py\", line 107, in _check_reg_targets\n",
            "    y_true.shape[1], y_pred.shape[1]\n",
            "ValueError: y_true and y_pred have different number of output (1!=7)\n",
            "\n",
            "  UserWarning,\n"
          ]
        },
        {
          "output_type": "stream",
          "name": "stdout",
          "text": [
            "38/38 [==============================] - 3s 5ms/step - loss: 0.0822 - mean_squared_error: 0.0822\n"
          ]
        },
        {
          "output_type": "stream",
          "name": "stderr",
          "text": [
            "/usr/local/lib/python3.7/dist-packages/sklearn/model_selection/_validation.py:774: UserWarning: Scoring failed. The score on this train-test partition for these parameters will be set to nan. Details: \n",
            "Traceback (most recent call last):\n",
            "  File \"/usr/local/lib/python3.7/dist-packages/sklearn/model_selection/_validation.py\", line 761, in _score\n",
            "    scores = scorer(estimator, X_test, y_test)\n",
            "  File \"/usr/local/lib/python3.7/dist-packages/sklearn/metrics/_scorer.py\", line 221, in __call__\n",
            "    sample_weight=sample_weight,\n",
            "  File \"/usr/local/lib/python3.7/dist-packages/sklearn/metrics/_scorer.py\", line 264, in _score\n",
            "    return self._sign * self._score_func(y_true, y_pred, **self._kwargs)\n",
            "  File \"/usr/local/lib/python3.7/dist-packages/sklearn/metrics/_regression.py\", line 439, in mean_squared_error\n",
            "    y_true, y_pred, multioutput\n",
            "  File \"/usr/local/lib/python3.7/dist-packages/sklearn/metrics/_regression.py\", line 107, in _check_reg_targets\n",
            "    y_true.shape[1], y_pred.shape[1]\n",
            "ValueError: y_true and y_pred have different number of output (1!=7)\n",
            "\n",
            "  UserWarning,\n"
          ]
        },
        {
          "output_type": "stream",
          "name": "stdout",
          "text": [
            "38/38 [==============================] - 3s 5ms/step - loss: 0.0743 - mean_squared_error: 0.0743\n"
          ]
        },
        {
          "output_type": "stream",
          "name": "stderr",
          "text": [
            "/usr/local/lib/python3.7/dist-packages/sklearn/model_selection/_validation.py:774: UserWarning: Scoring failed. The score on this train-test partition for these parameters will be set to nan. Details: \n",
            "Traceback (most recent call last):\n",
            "  File \"/usr/local/lib/python3.7/dist-packages/sklearn/model_selection/_validation.py\", line 761, in _score\n",
            "    scores = scorer(estimator, X_test, y_test)\n",
            "  File \"/usr/local/lib/python3.7/dist-packages/sklearn/metrics/_scorer.py\", line 221, in __call__\n",
            "    sample_weight=sample_weight,\n",
            "  File \"/usr/local/lib/python3.7/dist-packages/sklearn/metrics/_scorer.py\", line 264, in _score\n",
            "    return self._sign * self._score_func(y_true, y_pred, **self._kwargs)\n",
            "  File \"/usr/local/lib/python3.7/dist-packages/sklearn/metrics/_regression.py\", line 439, in mean_squared_error\n",
            "    y_true, y_pred, multioutput\n",
            "  File \"/usr/local/lib/python3.7/dist-packages/sklearn/metrics/_regression.py\", line 107, in _check_reg_targets\n",
            "    y_true.shape[1], y_pred.shape[1]\n",
            "ValueError: y_true and y_pred have different number of output (1!=7)\n",
            "\n",
            "  UserWarning,\n"
          ]
        },
        {
          "output_type": "stream",
          "name": "stdout",
          "text": [
            "38/38 [==============================] - 4s 5ms/step - loss: 0.1145 - mean_squared_error: 0.1145\n"
          ]
        },
        {
          "output_type": "stream",
          "name": "stderr",
          "text": [
            "/usr/local/lib/python3.7/dist-packages/sklearn/model_selection/_validation.py:774: UserWarning: Scoring failed. The score on this train-test partition for these parameters will be set to nan. Details: \n",
            "Traceback (most recent call last):\n",
            "  File \"/usr/local/lib/python3.7/dist-packages/sklearn/model_selection/_validation.py\", line 761, in _score\n",
            "    scores = scorer(estimator, X_test, y_test)\n",
            "  File \"/usr/local/lib/python3.7/dist-packages/sklearn/metrics/_scorer.py\", line 221, in __call__\n",
            "    sample_weight=sample_weight,\n",
            "  File \"/usr/local/lib/python3.7/dist-packages/sklearn/metrics/_scorer.py\", line 264, in _score\n",
            "    return self._sign * self._score_func(y_true, y_pred, **self._kwargs)\n",
            "  File \"/usr/local/lib/python3.7/dist-packages/sklearn/metrics/_regression.py\", line 439, in mean_squared_error\n",
            "    y_true, y_pred, multioutput\n",
            "  File \"/usr/local/lib/python3.7/dist-packages/sklearn/metrics/_regression.py\", line 107, in _check_reg_targets\n",
            "    y_true.shape[1], y_pred.shape[1]\n",
            "ValueError: y_true and y_pred have different number of output (1!=7)\n",
            "\n",
            "  UserWarning,\n"
          ]
        },
        {
          "output_type": "stream",
          "name": "stdout",
          "text": [
            "38/38 [==============================] - 3s 5ms/step - loss: 0.0901 - mean_squared_error: 0.0901\n"
          ]
        },
        {
          "output_type": "stream",
          "name": "stderr",
          "text": [
            "/usr/local/lib/python3.7/dist-packages/sklearn/model_selection/_validation.py:774: UserWarning: Scoring failed. The score on this train-test partition for these parameters will be set to nan. Details: \n",
            "Traceback (most recent call last):\n",
            "  File \"/usr/local/lib/python3.7/dist-packages/sklearn/model_selection/_validation.py\", line 761, in _score\n",
            "    scores = scorer(estimator, X_test, y_test)\n",
            "  File \"/usr/local/lib/python3.7/dist-packages/sklearn/metrics/_scorer.py\", line 221, in __call__\n",
            "    sample_weight=sample_weight,\n",
            "  File \"/usr/local/lib/python3.7/dist-packages/sklearn/metrics/_scorer.py\", line 264, in _score\n",
            "    return self._sign * self._score_func(y_true, y_pred, **self._kwargs)\n",
            "  File \"/usr/local/lib/python3.7/dist-packages/sklearn/metrics/_regression.py\", line 439, in mean_squared_error\n",
            "    y_true, y_pred, multioutput\n",
            "  File \"/usr/local/lib/python3.7/dist-packages/sklearn/metrics/_regression.py\", line 107, in _check_reg_targets\n",
            "    y_true.shape[1], y_pred.shape[1]\n",
            "ValueError: y_true and y_pred have different number of output (1!=7)\n",
            "\n",
            "  UserWarning,\n"
          ]
        },
        {
          "output_type": "stream",
          "name": "stdout",
          "text": [
            "38/38 [==============================] - 2s 4ms/step - loss: 0.0684 - mean_squared_error: 0.0684\n"
          ]
        },
        {
          "output_type": "stream",
          "name": "stderr",
          "text": [
            "/usr/local/lib/python3.7/dist-packages/sklearn/model_selection/_validation.py:774: UserWarning: Scoring failed. The score on this train-test partition for these parameters will be set to nan. Details: \n",
            "Traceback (most recent call last):\n",
            "  File \"/usr/local/lib/python3.7/dist-packages/sklearn/model_selection/_validation.py\", line 761, in _score\n",
            "    scores = scorer(estimator, X_test, y_test)\n",
            "  File \"/usr/local/lib/python3.7/dist-packages/sklearn/metrics/_scorer.py\", line 221, in __call__\n",
            "    sample_weight=sample_weight,\n",
            "  File \"/usr/local/lib/python3.7/dist-packages/sklearn/metrics/_scorer.py\", line 264, in _score\n",
            "    return self._sign * self._score_func(y_true, y_pred, **self._kwargs)\n",
            "  File \"/usr/local/lib/python3.7/dist-packages/sklearn/metrics/_regression.py\", line 439, in mean_squared_error\n",
            "    y_true, y_pred, multioutput\n",
            "  File \"/usr/local/lib/python3.7/dist-packages/sklearn/metrics/_regression.py\", line 107, in _check_reg_targets\n",
            "    y_true.shape[1], y_pred.shape[1]\n",
            "ValueError: y_true and y_pred have different number of output (1!=7)\n",
            "\n",
            "  UserWarning,\n"
          ]
        },
        {
          "output_type": "stream",
          "name": "stdout",
          "text": [
            "38/38 [==============================] - 3s 4ms/step - loss: 0.2655 - mean_squared_error: 0.2655\n"
          ]
        },
        {
          "output_type": "stream",
          "name": "stderr",
          "text": [
            "/usr/local/lib/python3.7/dist-packages/sklearn/model_selection/_validation.py:774: UserWarning: Scoring failed. The score on this train-test partition for these parameters will be set to nan. Details: \n",
            "Traceback (most recent call last):\n",
            "  File \"/usr/local/lib/python3.7/dist-packages/sklearn/model_selection/_validation.py\", line 761, in _score\n",
            "    scores = scorer(estimator, X_test, y_test)\n",
            "  File \"/usr/local/lib/python3.7/dist-packages/sklearn/metrics/_scorer.py\", line 221, in __call__\n",
            "    sample_weight=sample_weight,\n",
            "  File \"/usr/local/lib/python3.7/dist-packages/sklearn/metrics/_scorer.py\", line 264, in _score\n",
            "    return self._sign * self._score_func(y_true, y_pred, **self._kwargs)\n",
            "  File \"/usr/local/lib/python3.7/dist-packages/sklearn/metrics/_regression.py\", line 439, in mean_squared_error\n",
            "    y_true, y_pred, multioutput\n",
            "  File \"/usr/local/lib/python3.7/dist-packages/sklearn/metrics/_regression.py\", line 107, in _check_reg_targets\n",
            "    y_true.shape[1], y_pred.shape[1]\n",
            "ValueError: y_true and y_pred have different number of output (1!=7)\n",
            "\n",
            "  UserWarning,\n"
          ]
        },
        {
          "output_type": "stream",
          "name": "stdout",
          "text": [
            "38/38 [==============================] - 2s 4ms/step - loss: 0.2298 - mean_squared_error: 0.2298\n"
          ]
        },
        {
          "output_type": "stream",
          "name": "stderr",
          "text": [
            "/usr/local/lib/python3.7/dist-packages/sklearn/model_selection/_validation.py:774: UserWarning: Scoring failed. The score on this train-test partition for these parameters will be set to nan. Details: \n",
            "Traceback (most recent call last):\n",
            "  File \"/usr/local/lib/python3.7/dist-packages/sklearn/model_selection/_validation.py\", line 761, in _score\n",
            "    scores = scorer(estimator, X_test, y_test)\n",
            "  File \"/usr/local/lib/python3.7/dist-packages/sklearn/metrics/_scorer.py\", line 221, in __call__\n",
            "    sample_weight=sample_weight,\n",
            "  File \"/usr/local/lib/python3.7/dist-packages/sklearn/metrics/_scorer.py\", line 264, in _score\n",
            "    return self._sign * self._score_func(y_true, y_pred, **self._kwargs)\n",
            "  File \"/usr/local/lib/python3.7/dist-packages/sklearn/metrics/_regression.py\", line 439, in mean_squared_error\n",
            "    y_true, y_pred, multioutput\n",
            "  File \"/usr/local/lib/python3.7/dist-packages/sklearn/metrics/_regression.py\", line 107, in _check_reg_targets\n",
            "    y_true.shape[1], y_pred.shape[1]\n",
            "ValueError: y_true and y_pred have different number of output (1!=7)\n",
            "\n",
            "  UserWarning,\n"
          ]
        },
        {
          "output_type": "stream",
          "name": "stdout",
          "text": [
            "38/38 [==============================] - 2s 4ms/step - loss: 0.1313 - mean_squared_error: 0.1313\n"
          ]
        },
        {
          "output_type": "stream",
          "name": "stderr",
          "text": [
            "/usr/local/lib/python3.7/dist-packages/sklearn/model_selection/_validation.py:774: UserWarning: Scoring failed. The score on this train-test partition for these parameters will be set to nan. Details: \n",
            "Traceback (most recent call last):\n",
            "  File \"/usr/local/lib/python3.7/dist-packages/sklearn/model_selection/_validation.py\", line 761, in _score\n",
            "    scores = scorer(estimator, X_test, y_test)\n",
            "  File \"/usr/local/lib/python3.7/dist-packages/sklearn/metrics/_scorer.py\", line 221, in __call__\n",
            "    sample_weight=sample_weight,\n",
            "  File \"/usr/local/lib/python3.7/dist-packages/sklearn/metrics/_scorer.py\", line 264, in _score\n",
            "    return self._sign * self._score_func(y_true, y_pred, **self._kwargs)\n",
            "  File \"/usr/local/lib/python3.7/dist-packages/sklearn/metrics/_regression.py\", line 439, in mean_squared_error\n",
            "    y_true, y_pred, multioutput\n",
            "  File \"/usr/local/lib/python3.7/dist-packages/sklearn/metrics/_regression.py\", line 107, in _check_reg_targets\n",
            "    y_true.shape[1], y_pred.shape[1]\n",
            "ValueError: y_true and y_pred have different number of output (1!=7)\n",
            "\n",
            "  UserWarning,\n"
          ]
        },
        {
          "output_type": "stream",
          "name": "stdout",
          "text": [
            "38/38 [==============================] - 2s 4ms/step - loss: 0.1074 - mean_squared_error: 0.1074\n"
          ]
        },
        {
          "output_type": "stream",
          "name": "stderr",
          "text": [
            "/usr/local/lib/python3.7/dist-packages/sklearn/model_selection/_validation.py:774: UserWarning: Scoring failed. The score on this train-test partition for these parameters will be set to nan. Details: \n",
            "Traceback (most recent call last):\n",
            "  File \"/usr/local/lib/python3.7/dist-packages/sklearn/model_selection/_validation.py\", line 761, in _score\n",
            "    scores = scorer(estimator, X_test, y_test)\n",
            "  File \"/usr/local/lib/python3.7/dist-packages/sklearn/metrics/_scorer.py\", line 221, in __call__\n",
            "    sample_weight=sample_weight,\n",
            "  File \"/usr/local/lib/python3.7/dist-packages/sklearn/metrics/_scorer.py\", line 264, in _score\n",
            "    return self._sign * self._score_func(y_true, y_pred, **self._kwargs)\n",
            "  File \"/usr/local/lib/python3.7/dist-packages/sklearn/metrics/_regression.py\", line 439, in mean_squared_error\n",
            "    y_true, y_pred, multioutput\n",
            "  File \"/usr/local/lib/python3.7/dist-packages/sklearn/metrics/_regression.py\", line 107, in _check_reg_targets\n",
            "    y_true.shape[1], y_pred.shape[1]\n",
            "ValueError: y_true and y_pred have different number of output (1!=7)\n",
            "\n",
            "  UserWarning,\n"
          ]
        },
        {
          "output_type": "stream",
          "name": "stdout",
          "text": [
            "38/38 [==============================] - 2s 3ms/step - loss: 0.1576 - mean_squared_error: 0.1576\n"
          ]
        },
        {
          "output_type": "stream",
          "name": "stderr",
          "text": [
            "/usr/local/lib/python3.7/dist-packages/sklearn/model_selection/_validation.py:774: UserWarning: Scoring failed. The score on this train-test partition for these parameters will be set to nan. Details: \n",
            "Traceback (most recent call last):\n",
            "  File \"/usr/local/lib/python3.7/dist-packages/sklearn/model_selection/_validation.py\", line 761, in _score\n",
            "    scores = scorer(estimator, X_test, y_test)\n",
            "  File \"/usr/local/lib/python3.7/dist-packages/sklearn/metrics/_scorer.py\", line 221, in __call__\n",
            "    sample_weight=sample_weight,\n",
            "  File \"/usr/local/lib/python3.7/dist-packages/sklearn/metrics/_scorer.py\", line 264, in _score\n",
            "    return self._sign * self._score_func(y_true, y_pred, **self._kwargs)\n",
            "  File \"/usr/local/lib/python3.7/dist-packages/sklearn/metrics/_regression.py\", line 439, in mean_squared_error\n",
            "    y_true, y_pred, multioutput\n",
            "  File \"/usr/local/lib/python3.7/dist-packages/sklearn/metrics/_regression.py\", line 107, in _check_reg_targets\n",
            "    y_true.shape[1], y_pred.shape[1]\n",
            "ValueError: y_true and y_pred have different number of output (1!=7)\n",
            "\n",
            "  UserWarning,\n"
          ]
        },
        {
          "output_type": "stream",
          "name": "stdout",
          "text": [
            "38/38 [==============================] - 3s 5ms/step - loss: 0.1506 - mean_squared_error: 0.1506\n"
          ]
        },
        {
          "output_type": "stream",
          "name": "stderr",
          "text": [
            "/usr/local/lib/python3.7/dist-packages/sklearn/model_selection/_validation.py:774: UserWarning: Scoring failed. The score on this train-test partition for these parameters will be set to nan. Details: \n",
            "Traceback (most recent call last):\n",
            "  File \"/usr/local/lib/python3.7/dist-packages/sklearn/model_selection/_validation.py\", line 761, in _score\n",
            "    scores = scorer(estimator, X_test, y_test)\n",
            "  File \"/usr/local/lib/python3.7/dist-packages/sklearn/metrics/_scorer.py\", line 221, in __call__\n",
            "    sample_weight=sample_weight,\n",
            "  File \"/usr/local/lib/python3.7/dist-packages/sklearn/metrics/_scorer.py\", line 264, in _score\n",
            "    return self._sign * self._score_func(y_true, y_pred, **self._kwargs)\n",
            "  File \"/usr/local/lib/python3.7/dist-packages/sklearn/metrics/_regression.py\", line 439, in mean_squared_error\n",
            "    y_true, y_pred, multioutput\n",
            "  File \"/usr/local/lib/python3.7/dist-packages/sklearn/metrics/_regression.py\", line 107, in _check_reg_targets\n",
            "    y_true.shape[1], y_pred.shape[1]\n",
            "ValueError: y_true and y_pred have different number of output (1!=7)\n",
            "\n",
            "  UserWarning,\n"
          ]
        },
        {
          "output_type": "stream",
          "name": "stdout",
          "text": [
            "38/38 [==============================] - 3s 5ms/step - loss: 0.2707 - mean_squared_error: 0.2707\n"
          ]
        },
        {
          "output_type": "stream",
          "name": "stderr",
          "text": [
            "/usr/local/lib/python3.7/dist-packages/sklearn/model_selection/_validation.py:774: UserWarning: Scoring failed. The score on this train-test partition for these parameters will be set to nan. Details: \n",
            "Traceback (most recent call last):\n",
            "  File \"/usr/local/lib/python3.7/dist-packages/sklearn/model_selection/_validation.py\", line 761, in _score\n",
            "    scores = scorer(estimator, X_test, y_test)\n",
            "  File \"/usr/local/lib/python3.7/dist-packages/sklearn/metrics/_scorer.py\", line 221, in __call__\n",
            "    sample_weight=sample_weight,\n",
            "  File \"/usr/local/lib/python3.7/dist-packages/sklearn/metrics/_scorer.py\", line 264, in _score\n",
            "    return self._sign * self._score_func(y_true, y_pred, **self._kwargs)\n",
            "  File \"/usr/local/lib/python3.7/dist-packages/sklearn/metrics/_regression.py\", line 439, in mean_squared_error\n",
            "    y_true, y_pred, multioutput\n",
            "  File \"/usr/local/lib/python3.7/dist-packages/sklearn/metrics/_regression.py\", line 107, in _check_reg_targets\n",
            "    y_true.shape[1], y_pred.shape[1]\n",
            "ValueError: y_true and y_pred have different number of output (1!=7)\n",
            "\n",
            "  UserWarning,\n"
          ]
        },
        {
          "output_type": "stream",
          "name": "stdout",
          "text": [
            "38/38 [==============================] - 3s 5ms/step - loss: 0.0956 - mean_squared_error: 0.0956\n"
          ]
        },
        {
          "output_type": "stream",
          "name": "stderr",
          "text": [
            "/usr/local/lib/python3.7/dist-packages/sklearn/model_selection/_validation.py:774: UserWarning: Scoring failed. The score on this train-test partition for these parameters will be set to nan. Details: \n",
            "Traceback (most recent call last):\n",
            "  File \"/usr/local/lib/python3.7/dist-packages/sklearn/model_selection/_validation.py\", line 761, in _score\n",
            "    scores = scorer(estimator, X_test, y_test)\n",
            "  File \"/usr/local/lib/python3.7/dist-packages/sklearn/metrics/_scorer.py\", line 221, in __call__\n",
            "    sample_weight=sample_weight,\n",
            "  File \"/usr/local/lib/python3.7/dist-packages/sklearn/metrics/_scorer.py\", line 264, in _score\n",
            "    return self._sign * self._score_func(y_true, y_pred, **self._kwargs)\n",
            "  File \"/usr/local/lib/python3.7/dist-packages/sklearn/metrics/_regression.py\", line 439, in mean_squared_error\n",
            "    y_true, y_pred, multioutput\n",
            "  File \"/usr/local/lib/python3.7/dist-packages/sklearn/metrics/_regression.py\", line 107, in _check_reg_targets\n",
            "    y_true.shape[1], y_pred.shape[1]\n",
            "ValueError: y_true and y_pred have different number of output (1!=7)\n",
            "\n",
            "  UserWarning,\n"
          ]
        },
        {
          "output_type": "stream",
          "name": "stdout",
          "text": [
            "38/38 [==============================] - 3s 5ms/step - loss: 0.1156 - mean_squared_error: 0.1156\n"
          ]
        },
        {
          "output_type": "stream",
          "name": "stderr",
          "text": [
            "/usr/local/lib/python3.7/dist-packages/sklearn/model_selection/_validation.py:774: UserWarning: Scoring failed. The score on this train-test partition for these parameters will be set to nan. Details: \n",
            "Traceback (most recent call last):\n",
            "  File \"/usr/local/lib/python3.7/dist-packages/sklearn/model_selection/_validation.py\", line 761, in _score\n",
            "    scores = scorer(estimator, X_test, y_test)\n",
            "  File \"/usr/local/lib/python3.7/dist-packages/sklearn/metrics/_scorer.py\", line 221, in __call__\n",
            "    sample_weight=sample_weight,\n",
            "  File \"/usr/local/lib/python3.7/dist-packages/sklearn/metrics/_scorer.py\", line 264, in _score\n",
            "    return self._sign * self._score_func(y_true, y_pred, **self._kwargs)\n",
            "  File \"/usr/local/lib/python3.7/dist-packages/sklearn/metrics/_regression.py\", line 439, in mean_squared_error\n",
            "    y_true, y_pred, multioutput\n",
            "  File \"/usr/local/lib/python3.7/dist-packages/sklearn/metrics/_regression.py\", line 107, in _check_reg_targets\n",
            "    y_true.shape[1], y_pred.shape[1]\n",
            "ValueError: y_true and y_pred have different number of output (1!=7)\n",
            "\n",
            "  UserWarning,\n"
          ]
        },
        {
          "output_type": "stream",
          "name": "stdout",
          "text": [
            "38/38 [==============================] - 2s 4ms/step - loss: 0.0832 - mean_squared_error: 0.0832\n"
          ]
        },
        {
          "output_type": "stream",
          "name": "stderr",
          "text": [
            "/usr/local/lib/python3.7/dist-packages/sklearn/model_selection/_validation.py:774: UserWarning: Scoring failed. The score on this train-test partition for these parameters will be set to nan. Details: \n",
            "Traceback (most recent call last):\n",
            "  File \"/usr/local/lib/python3.7/dist-packages/sklearn/model_selection/_validation.py\", line 761, in _score\n",
            "    scores = scorer(estimator, X_test, y_test)\n",
            "  File \"/usr/local/lib/python3.7/dist-packages/sklearn/metrics/_scorer.py\", line 221, in __call__\n",
            "    sample_weight=sample_weight,\n",
            "  File \"/usr/local/lib/python3.7/dist-packages/sklearn/metrics/_scorer.py\", line 264, in _score\n",
            "    return self._sign * self._score_func(y_true, y_pred, **self._kwargs)\n",
            "  File \"/usr/local/lib/python3.7/dist-packages/sklearn/metrics/_regression.py\", line 439, in mean_squared_error\n",
            "    y_true, y_pred, multioutput\n",
            "  File \"/usr/local/lib/python3.7/dist-packages/sklearn/metrics/_regression.py\", line 107, in _check_reg_targets\n",
            "    y_true.shape[1], y_pred.shape[1]\n",
            "ValueError: y_true and y_pred have different number of output (1!=7)\n",
            "\n",
            "  UserWarning,\n"
          ]
        },
        {
          "output_type": "stream",
          "name": "stdout",
          "text": [
            "38/38 [==============================] - 2s 4ms/step - loss: 0.2143 - mean_squared_error: 0.2143\n"
          ]
        },
        {
          "output_type": "stream",
          "name": "stderr",
          "text": [
            "/usr/local/lib/python3.7/dist-packages/sklearn/model_selection/_validation.py:774: UserWarning: Scoring failed. The score on this train-test partition for these parameters will be set to nan. Details: \n",
            "Traceback (most recent call last):\n",
            "  File \"/usr/local/lib/python3.7/dist-packages/sklearn/model_selection/_validation.py\", line 761, in _score\n",
            "    scores = scorer(estimator, X_test, y_test)\n",
            "  File \"/usr/local/lib/python3.7/dist-packages/sklearn/metrics/_scorer.py\", line 221, in __call__\n",
            "    sample_weight=sample_weight,\n",
            "  File \"/usr/local/lib/python3.7/dist-packages/sklearn/metrics/_scorer.py\", line 264, in _score\n",
            "    return self._sign * self._score_func(y_true, y_pred, **self._kwargs)\n",
            "  File \"/usr/local/lib/python3.7/dist-packages/sklearn/metrics/_regression.py\", line 439, in mean_squared_error\n",
            "    y_true, y_pred, multioutput\n",
            "  File \"/usr/local/lib/python3.7/dist-packages/sklearn/metrics/_regression.py\", line 107, in _check_reg_targets\n",
            "    y_true.shape[1], y_pred.shape[1]\n",
            "ValueError: y_true and y_pred have different number of output (1!=7)\n",
            "\n",
            "  UserWarning,\n"
          ]
        },
        {
          "output_type": "stream",
          "name": "stdout",
          "text": [
            "38/38 [==============================] - 2s 4ms/step - loss: 0.2722 - mean_squared_error: 0.2722\n"
          ]
        },
        {
          "output_type": "stream",
          "name": "stderr",
          "text": [
            "/usr/local/lib/python3.7/dist-packages/sklearn/model_selection/_validation.py:774: UserWarning: Scoring failed. The score on this train-test partition for these parameters will be set to nan. Details: \n",
            "Traceback (most recent call last):\n",
            "  File \"/usr/local/lib/python3.7/dist-packages/sklearn/model_selection/_validation.py\", line 761, in _score\n",
            "    scores = scorer(estimator, X_test, y_test)\n",
            "  File \"/usr/local/lib/python3.7/dist-packages/sklearn/metrics/_scorer.py\", line 221, in __call__\n",
            "    sample_weight=sample_weight,\n",
            "  File \"/usr/local/lib/python3.7/dist-packages/sklearn/metrics/_scorer.py\", line 264, in _score\n",
            "    return self._sign * self._score_func(y_true, y_pred, **self._kwargs)\n",
            "  File \"/usr/local/lib/python3.7/dist-packages/sklearn/metrics/_regression.py\", line 439, in mean_squared_error\n",
            "    y_true, y_pred, multioutput\n",
            "  File \"/usr/local/lib/python3.7/dist-packages/sklearn/metrics/_regression.py\", line 107, in _check_reg_targets\n",
            "    y_true.shape[1], y_pred.shape[1]\n",
            "ValueError: y_true and y_pred have different number of output (1!=7)\n",
            "\n",
            "  UserWarning,\n"
          ]
        },
        {
          "output_type": "stream",
          "name": "stdout",
          "text": [
            "38/38 [==============================] - 2s 4ms/step - loss: 0.1679 - mean_squared_error: 0.1679\n"
          ]
        },
        {
          "output_type": "stream",
          "name": "stderr",
          "text": [
            "/usr/local/lib/python3.7/dist-packages/sklearn/model_selection/_validation.py:774: UserWarning: Scoring failed. The score on this train-test partition for these parameters will be set to nan. Details: \n",
            "Traceback (most recent call last):\n",
            "  File \"/usr/local/lib/python3.7/dist-packages/sklearn/model_selection/_validation.py\", line 761, in _score\n",
            "    scores = scorer(estimator, X_test, y_test)\n",
            "  File \"/usr/local/lib/python3.7/dist-packages/sklearn/metrics/_scorer.py\", line 221, in __call__\n",
            "    sample_weight=sample_weight,\n",
            "  File \"/usr/local/lib/python3.7/dist-packages/sklearn/metrics/_scorer.py\", line 264, in _score\n",
            "    return self._sign * self._score_func(y_true, y_pred, **self._kwargs)\n",
            "  File \"/usr/local/lib/python3.7/dist-packages/sklearn/metrics/_regression.py\", line 439, in mean_squared_error\n",
            "    y_true, y_pred, multioutput\n",
            "  File \"/usr/local/lib/python3.7/dist-packages/sklearn/metrics/_regression.py\", line 107, in _check_reg_targets\n",
            "    y_true.shape[1], y_pred.shape[1]\n",
            "ValueError: y_true and y_pred have different number of output (1!=7)\n",
            "\n",
            "  UserWarning,\n"
          ]
        },
        {
          "output_type": "stream",
          "name": "stdout",
          "text": [
            "38/38 [==============================] - 3s 4ms/step - loss: 0.2429 - mean_squared_error: 0.2429\n"
          ]
        },
        {
          "output_type": "stream",
          "name": "stderr",
          "text": [
            "/usr/local/lib/python3.7/dist-packages/sklearn/model_selection/_validation.py:774: UserWarning: Scoring failed. The score on this train-test partition for these parameters will be set to nan. Details: \n",
            "Traceback (most recent call last):\n",
            "  File \"/usr/local/lib/python3.7/dist-packages/sklearn/model_selection/_validation.py\", line 761, in _score\n",
            "    scores = scorer(estimator, X_test, y_test)\n",
            "  File \"/usr/local/lib/python3.7/dist-packages/sklearn/metrics/_scorer.py\", line 221, in __call__\n",
            "    sample_weight=sample_weight,\n",
            "  File \"/usr/local/lib/python3.7/dist-packages/sklearn/metrics/_scorer.py\", line 264, in _score\n",
            "    return self._sign * self._score_func(y_true, y_pred, **self._kwargs)\n",
            "  File \"/usr/local/lib/python3.7/dist-packages/sklearn/metrics/_regression.py\", line 439, in mean_squared_error\n",
            "    y_true, y_pred, multioutput\n",
            "  File \"/usr/local/lib/python3.7/dist-packages/sklearn/metrics/_regression.py\", line 107, in _check_reg_targets\n",
            "    y_true.shape[1], y_pred.shape[1]\n",
            "ValueError: y_true and y_pred have different number of output (1!=7)\n",
            "\n",
            "  UserWarning,\n"
          ]
        },
        {
          "output_type": "stream",
          "name": "stdout",
          "text": [
            "38/38 [==============================] - 2s 4ms/step - loss: 0.0923 - mean_squared_error: 0.0923\n"
          ]
        },
        {
          "output_type": "stream",
          "name": "stderr",
          "text": [
            "/usr/local/lib/python3.7/dist-packages/sklearn/model_selection/_validation.py:774: UserWarning: Scoring failed. The score on this train-test partition for these parameters will be set to nan. Details: \n",
            "Traceback (most recent call last):\n",
            "  File \"/usr/local/lib/python3.7/dist-packages/sklearn/model_selection/_validation.py\", line 761, in _score\n",
            "    scores = scorer(estimator, X_test, y_test)\n",
            "  File \"/usr/local/lib/python3.7/dist-packages/sklearn/metrics/_scorer.py\", line 221, in __call__\n",
            "    sample_weight=sample_weight,\n",
            "  File \"/usr/local/lib/python3.7/dist-packages/sklearn/metrics/_scorer.py\", line 264, in _score\n",
            "    return self._sign * self._score_func(y_true, y_pred, **self._kwargs)\n",
            "  File \"/usr/local/lib/python3.7/dist-packages/sklearn/metrics/_regression.py\", line 439, in mean_squared_error\n",
            "    y_true, y_pred, multioutput\n",
            "  File \"/usr/local/lib/python3.7/dist-packages/sklearn/metrics/_regression.py\", line 107, in _check_reg_targets\n",
            "    y_true.shape[1], y_pred.shape[1]\n",
            "ValueError: y_true and y_pred have different number of output (1!=7)\n",
            "\n",
            "  UserWarning,\n"
          ]
        },
        {
          "output_type": "stream",
          "name": "stdout",
          "text": [
            "38/38 [==============================] - 3s 5ms/step - loss: 0.1642 - mean_squared_error: 0.1642\n"
          ]
        },
        {
          "output_type": "stream",
          "name": "stderr",
          "text": [
            "/usr/local/lib/python3.7/dist-packages/sklearn/model_selection/_validation.py:774: UserWarning: Scoring failed. The score on this train-test partition for these parameters will be set to nan. Details: \n",
            "Traceback (most recent call last):\n",
            "  File \"/usr/local/lib/python3.7/dist-packages/sklearn/model_selection/_validation.py\", line 761, in _score\n",
            "    scores = scorer(estimator, X_test, y_test)\n",
            "  File \"/usr/local/lib/python3.7/dist-packages/sklearn/metrics/_scorer.py\", line 221, in __call__\n",
            "    sample_weight=sample_weight,\n",
            "  File \"/usr/local/lib/python3.7/dist-packages/sklearn/metrics/_scorer.py\", line 264, in _score\n",
            "    return self._sign * self._score_func(y_true, y_pred, **self._kwargs)\n",
            "  File \"/usr/local/lib/python3.7/dist-packages/sklearn/metrics/_regression.py\", line 439, in mean_squared_error\n",
            "    y_true, y_pred, multioutput\n",
            "  File \"/usr/local/lib/python3.7/dist-packages/sklearn/metrics/_regression.py\", line 107, in _check_reg_targets\n",
            "    y_true.shape[1], y_pred.shape[1]\n",
            "ValueError: y_true and y_pred have different number of output (1!=7)\n",
            "\n",
            "  UserWarning,\n"
          ]
        },
        {
          "output_type": "stream",
          "name": "stdout",
          "text": [
            "38/38 [==============================] - 3s 5ms/step - loss: 0.2088 - mean_squared_error: 0.2088\n"
          ]
        },
        {
          "output_type": "stream",
          "name": "stderr",
          "text": [
            "/usr/local/lib/python3.7/dist-packages/sklearn/model_selection/_validation.py:774: UserWarning: Scoring failed. The score on this train-test partition for these parameters will be set to nan. Details: \n",
            "Traceback (most recent call last):\n",
            "  File \"/usr/local/lib/python3.7/dist-packages/sklearn/model_selection/_validation.py\", line 761, in _score\n",
            "    scores = scorer(estimator, X_test, y_test)\n",
            "  File \"/usr/local/lib/python3.7/dist-packages/sklearn/metrics/_scorer.py\", line 221, in __call__\n",
            "    sample_weight=sample_weight,\n",
            "  File \"/usr/local/lib/python3.7/dist-packages/sklearn/metrics/_scorer.py\", line 264, in _score\n",
            "    return self._sign * self._score_func(y_true, y_pred, **self._kwargs)\n",
            "  File \"/usr/local/lib/python3.7/dist-packages/sklearn/metrics/_regression.py\", line 439, in mean_squared_error\n",
            "    y_true, y_pred, multioutput\n",
            "  File \"/usr/local/lib/python3.7/dist-packages/sklearn/metrics/_regression.py\", line 107, in _check_reg_targets\n",
            "    y_true.shape[1], y_pred.shape[1]\n",
            "ValueError: y_true and y_pred have different number of output (1!=7)\n",
            "\n",
            "  UserWarning,\n"
          ]
        },
        {
          "output_type": "stream",
          "name": "stdout",
          "text": [
            "38/38 [==============================] - 3s 5ms/step - loss: 0.0743 - mean_squared_error: 0.0743\n"
          ]
        },
        {
          "output_type": "stream",
          "name": "stderr",
          "text": [
            "/usr/local/lib/python3.7/dist-packages/sklearn/model_selection/_validation.py:774: UserWarning: Scoring failed. The score on this train-test partition for these parameters will be set to nan. Details: \n",
            "Traceback (most recent call last):\n",
            "  File \"/usr/local/lib/python3.7/dist-packages/sklearn/model_selection/_validation.py\", line 761, in _score\n",
            "    scores = scorer(estimator, X_test, y_test)\n",
            "  File \"/usr/local/lib/python3.7/dist-packages/sklearn/metrics/_scorer.py\", line 221, in __call__\n",
            "    sample_weight=sample_weight,\n",
            "  File \"/usr/local/lib/python3.7/dist-packages/sklearn/metrics/_scorer.py\", line 264, in _score\n",
            "    return self._sign * self._score_func(y_true, y_pred, **self._kwargs)\n",
            "  File \"/usr/local/lib/python3.7/dist-packages/sklearn/metrics/_regression.py\", line 439, in mean_squared_error\n",
            "    y_true, y_pred, multioutput\n",
            "  File \"/usr/local/lib/python3.7/dist-packages/sklearn/metrics/_regression.py\", line 107, in _check_reg_targets\n",
            "    y_true.shape[1], y_pred.shape[1]\n",
            "ValueError: y_true and y_pred have different number of output (1!=7)\n",
            "\n",
            "  UserWarning,\n"
          ]
        },
        {
          "output_type": "stream",
          "name": "stdout",
          "text": [
            "38/38 [==============================] - 3s 5ms/step - loss: 0.1080 - mean_squared_error: 0.1080\n"
          ]
        },
        {
          "output_type": "stream",
          "name": "stderr",
          "text": [
            "/usr/local/lib/python3.7/dist-packages/sklearn/model_selection/_validation.py:774: UserWarning: Scoring failed. The score on this train-test partition for these parameters will be set to nan. Details: \n",
            "Traceback (most recent call last):\n",
            "  File \"/usr/local/lib/python3.7/dist-packages/sklearn/model_selection/_validation.py\", line 761, in _score\n",
            "    scores = scorer(estimator, X_test, y_test)\n",
            "  File \"/usr/local/lib/python3.7/dist-packages/sklearn/metrics/_scorer.py\", line 221, in __call__\n",
            "    sample_weight=sample_weight,\n",
            "  File \"/usr/local/lib/python3.7/dist-packages/sklearn/metrics/_scorer.py\", line 264, in _score\n",
            "    return self._sign * self._score_func(y_true, y_pred, **self._kwargs)\n",
            "  File \"/usr/local/lib/python3.7/dist-packages/sklearn/metrics/_regression.py\", line 439, in mean_squared_error\n",
            "    y_true, y_pred, multioutput\n",
            "  File \"/usr/local/lib/python3.7/dist-packages/sklearn/metrics/_regression.py\", line 107, in _check_reg_targets\n",
            "    y_true.shape[1], y_pred.shape[1]\n",
            "ValueError: y_true and y_pred have different number of output (1!=7)\n",
            "\n",
            "  UserWarning,\n"
          ]
        },
        {
          "output_type": "stream",
          "name": "stdout",
          "text": [
            "38/38 [==============================] - 2s 3ms/step - loss: 0.1599 - mean_squared_error: 0.1599\n"
          ]
        },
        {
          "output_type": "stream",
          "name": "stderr",
          "text": [
            "/usr/local/lib/python3.7/dist-packages/sklearn/model_selection/_validation.py:774: UserWarning: Scoring failed. The score on this train-test partition for these parameters will be set to nan. Details: \n",
            "Traceback (most recent call last):\n",
            "  File \"/usr/local/lib/python3.7/dist-packages/sklearn/model_selection/_validation.py\", line 761, in _score\n",
            "    scores = scorer(estimator, X_test, y_test)\n",
            "  File \"/usr/local/lib/python3.7/dist-packages/sklearn/metrics/_scorer.py\", line 221, in __call__\n",
            "    sample_weight=sample_weight,\n",
            "  File \"/usr/local/lib/python3.7/dist-packages/sklearn/metrics/_scorer.py\", line 264, in _score\n",
            "    return self._sign * self._score_func(y_true, y_pred, **self._kwargs)\n",
            "  File \"/usr/local/lib/python3.7/dist-packages/sklearn/metrics/_regression.py\", line 439, in mean_squared_error\n",
            "    y_true, y_pred, multioutput\n",
            "  File \"/usr/local/lib/python3.7/dist-packages/sklearn/metrics/_regression.py\", line 107, in _check_reg_targets\n",
            "    y_true.shape[1], y_pred.shape[1]\n",
            "ValueError: y_true and y_pred have different number of output (1!=7)\n",
            "\n",
            "  UserWarning,\n"
          ]
        },
        {
          "output_type": "stream",
          "name": "stdout",
          "text": [
            "38/38 [==============================] - 2s 3ms/step - loss: 0.1823 - mean_squared_error: 0.1823\n"
          ]
        },
        {
          "output_type": "stream",
          "name": "stderr",
          "text": [
            "/usr/local/lib/python3.7/dist-packages/sklearn/model_selection/_validation.py:774: UserWarning: Scoring failed. The score on this train-test partition for these parameters will be set to nan. Details: \n",
            "Traceback (most recent call last):\n",
            "  File \"/usr/local/lib/python3.7/dist-packages/sklearn/model_selection/_validation.py\", line 761, in _score\n",
            "    scores = scorer(estimator, X_test, y_test)\n",
            "  File \"/usr/local/lib/python3.7/dist-packages/sklearn/metrics/_scorer.py\", line 221, in __call__\n",
            "    sample_weight=sample_weight,\n",
            "  File \"/usr/local/lib/python3.7/dist-packages/sklearn/metrics/_scorer.py\", line 264, in _score\n",
            "    return self._sign * self._score_func(y_true, y_pred, **self._kwargs)\n",
            "  File \"/usr/local/lib/python3.7/dist-packages/sklearn/metrics/_regression.py\", line 439, in mean_squared_error\n",
            "    y_true, y_pred, multioutput\n",
            "  File \"/usr/local/lib/python3.7/dist-packages/sklearn/metrics/_regression.py\", line 107, in _check_reg_targets\n",
            "    y_true.shape[1], y_pred.shape[1]\n",
            "ValueError: y_true and y_pred have different number of output (1!=7)\n",
            "\n",
            "  UserWarning,\n"
          ]
        },
        {
          "output_type": "stream",
          "name": "stdout",
          "text": [
            "38/38 [==============================] - 3s 4ms/step - loss: 0.1674 - mean_squared_error: 0.1674\n"
          ]
        },
        {
          "output_type": "stream",
          "name": "stderr",
          "text": [
            "/usr/local/lib/python3.7/dist-packages/sklearn/model_selection/_validation.py:774: UserWarning: Scoring failed. The score on this train-test partition for these parameters will be set to nan. Details: \n",
            "Traceback (most recent call last):\n",
            "  File \"/usr/local/lib/python3.7/dist-packages/sklearn/model_selection/_validation.py\", line 761, in _score\n",
            "    scores = scorer(estimator, X_test, y_test)\n",
            "  File \"/usr/local/lib/python3.7/dist-packages/sklearn/metrics/_scorer.py\", line 221, in __call__\n",
            "    sample_weight=sample_weight,\n",
            "  File \"/usr/local/lib/python3.7/dist-packages/sklearn/metrics/_scorer.py\", line 264, in _score\n",
            "    return self._sign * self._score_func(y_true, y_pred, **self._kwargs)\n",
            "  File \"/usr/local/lib/python3.7/dist-packages/sklearn/metrics/_regression.py\", line 439, in mean_squared_error\n",
            "    y_true, y_pred, multioutput\n",
            "  File \"/usr/local/lib/python3.7/dist-packages/sklearn/metrics/_regression.py\", line 107, in _check_reg_targets\n",
            "    y_true.shape[1], y_pred.shape[1]\n",
            "ValueError: y_true and y_pred have different number of output (1!=7)\n",
            "\n",
            "  UserWarning,\n"
          ]
        },
        {
          "output_type": "stream",
          "name": "stdout",
          "text": [
            "38/38 [==============================] - 2s 4ms/step - loss: 0.1229 - mean_squared_error: 0.1229\n"
          ]
        },
        {
          "output_type": "stream",
          "name": "stderr",
          "text": [
            "/usr/local/lib/python3.7/dist-packages/sklearn/model_selection/_validation.py:774: UserWarning: Scoring failed. The score on this train-test partition for these parameters will be set to nan. Details: \n",
            "Traceback (most recent call last):\n",
            "  File \"/usr/local/lib/python3.7/dist-packages/sklearn/model_selection/_validation.py\", line 761, in _score\n",
            "    scores = scorer(estimator, X_test, y_test)\n",
            "  File \"/usr/local/lib/python3.7/dist-packages/sklearn/metrics/_scorer.py\", line 221, in __call__\n",
            "    sample_weight=sample_weight,\n",
            "  File \"/usr/local/lib/python3.7/dist-packages/sklearn/metrics/_scorer.py\", line 264, in _score\n",
            "    return self._sign * self._score_func(y_true, y_pred, **self._kwargs)\n",
            "  File \"/usr/local/lib/python3.7/dist-packages/sklearn/metrics/_regression.py\", line 439, in mean_squared_error\n",
            "    y_true, y_pred, multioutput\n",
            "  File \"/usr/local/lib/python3.7/dist-packages/sklearn/metrics/_regression.py\", line 107, in _check_reg_targets\n",
            "    y_true.shape[1], y_pred.shape[1]\n",
            "ValueError: y_true and y_pred have different number of output (1!=7)\n",
            "\n",
            "  UserWarning,\n"
          ]
        },
        {
          "output_type": "stream",
          "name": "stdout",
          "text": [
            "38/38 [==============================] - 2s 3ms/step - loss: 0.1083 - mean_squared_error: 0.1083\n"
          ]
        },
        {
          "output_type": "stream",
          "name": "stderr",
          "text": [
            "/usr/local/lib/python3.7/dist-packages/sklearn/model_selection/_validation.py:774: UserWarning: Scoring failed. The score on this train-test partition for these parameters will be set to nan. Details: \n",
            "Traceback (most recent call last):\n",
            "  File \"/usr/local/lib/python3.7/dist-packages/sklearn/model_selection/_validation.py\", line 761, in _score\n",
            "    scores = scorer(estimator, X_test, y_test)\n",
            "  File \"/usr/local/lib/python3.7/dist-packages/sklearn/metrics/_scorer.py\", line 221, in __call__\n",
            "    sample_weight=sample_weight,\n",
            "  File \"/usr/local/lib/python3.7/dist-packages/sklearn/metrics/_scorer.py\", line 264, in _score\n",
            "    return self._sign * self._score_func(y_true, y_pred, **self._kwargs)\n",
            "  File \"/usr/local/lib/python3.7/dist-packages/sklearn/metrics/_regression.py\", line 439, in mean_squared_error\n",
            "    y_true, y_pred, multioutput\n",
            "  File \"/usr/local/lib/python3.7/dist-packages/sklearn/metrics/_regression.py\", line 107, in _check_reg_targets\n",
            "    y_true.shape[1], y_pred.shape[1]\n",
            "ValueError: y_true and y_pred have different number of output (1!=7)\n",
            "\n",
            "  UserWarning,\n"
          ]
        },
        {
          "output_type": "stream",
          "name": "stdout",
          "text": [
            "38/38 [==============================] - 2s 3ms/step - loss: 0.1954 - mean_squared_error: 0.1954\n"
          ]
        },
        {
          "output_type": "stream",
          "name": "stderr",
          "text": [
            "/usr/local/lib/python3.7/dist-packages/sklearn/model_selection/_validation.py:774: UserWarning: Scoring failed. The score on this train-test partition for these parameters will be set to nan. Details: \n",
            "Traceback (most recent call last):\n",
            "  File \"/usr/local/lib/python3.7/dist-packages/sklearn/model_selection/_validation.py\", line 761, in _score\n",
            "    scores = scorer(estimator, X_test, y_test)\n",
            "  File \"/usr/local/lib/python3.7/dist-packages/sklearn/metrics/_scorer.py\", line 221, in __call__\n",
            "    sample_weight=sample_weight,\n",
            "  File \"/usr/local/lib/python3.7/dist-packages/sklearn/metrics/_scorer.py\", line 264, in _score\n",
            "    return self._sign * self._score_func(y_true, y_pred, **self._kwargs)\n",
            "  File \"/usr/local/lib/python3.7/dist-packages/sklearn/metrics/_regression.py\", line 439, in mean_squared_error\n",
            "    y_true, y_pred, multioutput\n",
            "  File \"/usr/local/lib/python3.7/dist-packages/sklearn/metrics/_regression.py\", line 107, in _check_reg_targets\n",
            "    y_true.shape[1], y_pred.shape[1]\n",
            "ValueError: y_true and y_pred have different number of output (1!=7)\n",
            "\n",
            "  UserWarning,\n"
          ]
        },
        {
          "output_type": "stream",
          "name": "stdout",
          "text": [
            "38/38 [==============================] - 3s 5ms/step - loss: 0.1052 - mean_squared_error: 0.1052\n"
          ]
        },
        {
          "output_type": "stream",
          "name": "stderr",
          "text": [
            "/usr/local/lib/python3.7/dist-packages/sklearn/model_selection/_validation.py:774: UserWarning: Scoring failed. The score on this train-test partition for these parameters will be set to nan. Details: \n",
            "Traceback (most recent call last):\n",
            "  File \"/usr/local/lib/python3.7/dist-packages/sklearn/model_selection/_validation.py\", line 761, in _score\n",
            "    scores = scorer(estimator, X_test, y_test)\n",
            "  File \"/usr/local/lib/python3.7/dist-packages/sklearn/metrics/_scorer.py\", line 221, in __call__\n",
            "    sample_weight=sample_weight,\n",
            "  File \"/usr/local/lib/python3.7/dist-packages/sklearn/metrics/_scorer.py\", line 264, in _score\n",
            "    return self._sign * self._score_func(y_true, y_pred, **self._kwargs)\n",
            "  File \"/usr/local/lib/python3.7/dist-packages/sklearn/metrics/_regression.py\", line 439, in mean_squared_error\n",
            "    y_true, y_pred, multioutput\n",
            "  File \"/usr/local/lib/python3.7/dist-packages/sklearn/metrics/_regression.py\", line 107, in _check_reg_targets\n",
            "    y_true.shape[1], y_pred.shape[1]\n",
            "ValueError: y_true and y_pred have different number of output (1!=7)\n",
            "\n",
            "  UserWarning,\n"
          ]
        },
        {
          "output_type": "stream",
          "name": "stdout",
          "text": [
            "38/38 [==============================] - 3s 5ms/step - loss: 0.1343 - mean_squared_error: 0.1343\n"
          ]
        },
        {
          "output_type": "stream",
          "name": "stderr",
          "text": [
            "/usr/local/lib/python3.7/dist-packages/sklearn/model_selection/_validation.py:774: UserWarning: Scoring failed. The score on this train-test partition for these parameters will be set to nan. Details: \n",
            "Traceback (most recent call last):\n",
            "  File \"/usr/local/lib/python3.7/dist-packages/sklearn/model_selection/_validation.py\", line 761, in _score\n",
            "    scores = scorer(estimator, X_test, y_test)\n",
            "  File \"/usr/local/lib/python3.7/dist-packages/sklearn/metrics/_scorer.py\", line 221, in __call__\n",
            "    sample_weight=sample_weight,\n",
            "  File \"/usr/local/lib/python3.7/dist-packages/sklearn/metrics/_scorer.py\", line 264, in _score\n",
            "    return self._sign * self._score_func(y_true, y_pred, **self._kwargs)\n",
            "  File \"/usr/local/lib/python3.7/dist-packages/sklearn/metrics/_regression.py\", line 439, in mean_squared_error\n",
            "    y_true, y_pred, multioutput\n",
            "  File \"/usr/local/lib/python3.7/dist-packages/sklearn/metrics/_regression.py\", line 107, in _check_reg_targets\n",
            "    y_true.shape[1], y_pred.shape[1]\n",
            "ValueError: y_true and y_pred have different number of output (1!=7)\n",
            "\n",
            "  UserWarning,\n"
          ]
        },
        {
          "output_type": "stream",
          "name": "stdout",
          "text": [
            "38/38 [==============================] - 3s 5ms/step - loss: 0.1221 - mean_squared_error: 0.1221\n"
          ]
        },
        {
          "output_type": "stream",
          "name": "stderr",
          "text": [
            "/usr/local/lib/python3.7/dist-packages/sklearn/model_selection/_validation.py:774: UserWarning: Scoring failed. The score on this train-test partition for these parameters will be set to nan. Details: \n",
            "Traceback (most recent call last):\n",
            "  File \"/usr/local/lib/python3.7/dist-packages/sklearn/model_selection/_validation.py\", line 761, in _score\n",
            "    scores = scorer(estimator, X_test, y_test)\n",
            "  File \"/usr/local/lib/python3.7/dist-packages/sklearn/metrics/_scorer.py\", line 221, in __call__\n",
            "    sample_weight=sample_weight,\n",
            "  File \"/usr/local/lib/python3.7/dist-packages/sklearn/metrics/_scorer.py\", line 264, in _score\n",
            "    return self._sign * self._score_func(y_true, y_pred, **self._kwargs)\n",
            "  File \"/usr/local/lib/python3.7/dist-packages/sklearn/metrics/_regression.py\", line 439, in mean_squared_error\n",
            "    y_true, y_pred, multioutput\n",
            "  File \"/usr/local/lib/python3.7/dist-packages/sklearn/metrics/_regression.py\", line 107, in _check_reg_targets\n",
            "    y_true.shape[1], y_pred.shape[1]\n",
            "ValueError: y_true and y_pred have different number of output (1!=7)\n",
            "\n",
            "  UserWarning,\n"
          ]
        },
        {
          "output_type": "stream",
          "name": "stdout",
          "text": [
            "38/38 [==============================] - 3s 5ms/step - loss: 0.1501 - mean_squared_error: 0.1501\n"
          ]
        },
        {
          "output_type": "stream",
          "name": "stderr",
          "text": [
            "/usr/local/lib/python3.7/dist-packages/sklearn/model_selection/_validation.py:774: UserWarning: Scoring failed. The score on this train-test partition for these parameters will be set to nan. Details: \n",
            "Traceback (most recent call last):\n",
            "  File \"/usr/local/lib/python3.7/dist-packages/sklearn/model_selection/_validation.py\", line 761, in _score\n",
            "    scores = scorer(estimator, X_test, y_test)\n",
            "  File \"/usr/local/lib/python3.7/dist-packages/sklearn/metrics/_scorer.py\", line 221, in __call__\n",
            "    sample_weight=sample_weight,\n",
            "  File \"/usr/local/lib/python3.7/dist-packages/sklearn/metrics/_scorer.py\", line 264, in _score\n",
            "    return self._sign * self._score_func(y_true, y_pred, **self._kwargs)\n",
            "  File \"/usr/local/lib/python3.7/dist-packages/sklearn/metrics/_regression.py\", line 439, in mean_squared_error\n",
            "    y_true, y_pred, multioutput\n",
            "  File \"/usr/local/lib/python3.7/dist-packages/sklearn/metrics/_regression.py\", line 107, in _check_reg_targets\n",
            "    y_true.shape[1], y_pred.shape[1]\n",
            "ValueError: y_true and y_pred have different number of output (1!=7)\n",
            "\n",
            "  UserWarning,\n"
          ]
        },
        {
          "output_type": "stream",
          "name": "stdout",
          "text": [
            "38/38 [==============================] - 2s 4ms/step - loss: 0.0735 - mean_squared_error: 0.0735\n"
          ]
        },
        {
          "output_type": "stream",
          "name": "stderr",
          "text": [
            "/usr/local/lib/python3.7/dist-packages/sklearn/model_selection/_validation.py:774: UserWarning: Scoring failed. The score on this train-test partition for these parameters will be set to nan. Details: \n",
            "Traceback (most recent call last):\n",
            "  File \"/usr/local/lib/python3.7/dist-packages/sklearn/model_selection/_validation.py\", line 761, in _score\n",
            "    scores = scorer(estimator, X_test, y_test)\n",
            "  File \"/usr/local/lib/python3.7/dist-packages/sklearn/metrics/_scorer.py\", line 221, in __call__\n",
            "    sample_weight=sample_weight,\n",
            "  File \"/usr/local/lib/python3.7/dist-packages/sklearn/metrics/_scorer.py\", line 264, in _score\n",
            "    return self._sign * self._score_func(y_true, y_pred, **self._kwargs)\n",
            "  File \"/usr/local/lib/python3.7/dist-packages/sklearn/metrics/_regression.py\", line 439, in mean_squared_error\n",
            "    y_true, y_pred, multioutput\n",
            "  File \"/usr/local/lib/python3.7/dist-packages/sklearn/metrics/_regression.py\", line 107, in _check_reg_targets\n",
            "    y_true.shape[1], y_pred.shape[1]\n",
            "ValueError: y_true and y_pred have different number of output (1!=7)\n",
            "\n",
            "  UserWarning,\n"
          ]
        },
        {
          "output_type": "stream",
          "name": "stdout",
          "text": [
            "38/38 [==============================] - 2s 4ms/step - loss: 0.1090 - mean_squared_error: 0.1090\n"
          ]
        },
        {
          "output_type": "stream",
          "name": "stderr",
          "text": [
            "/usr/local/lib/python3.7/dist-packages/sklearn/model_selection/_validation.py:774: UserWarning: Scoring failed. The score on this train-test partition for these parameters will be set to nan. Details: \n",
            "Traceback (most recent call last):\n",
            "  File \"/usr/local/lib/python3.7/dist-packages/sklearn/model_selection/_validation.py\", line 761, in _score\n",
            "    scores = scorer(estimator, X_test, y_test)\n",
            "  File \"/usr/local/lib/python3.7/dist-packages/sklearn/metrics/_scorer.py\", line 221, in __call__\n",
            "    sample_weight=sample_weight,\n",
            "  File \"/usr/local/lib/python3.7/dist-packages/sklearn/metrics/_scorer.py\", line 264, in _score\n",
            "    return self._sign * self._score_func(y_true, y_pred, **self._kwargs)\n",
            "  File \"/usr/local/lib/python3.7/dist-packages/sklearn/metrics/_regression.py\", line 439, in mean_squared_error\n",
            "    y_true, y_pred, multioutput\n",
            "  File \"/usr/local/lib/python3.7/dist-packages/sklearn/metrics/_regression.py\", line 107, in _check_reg_targets\n",
            "    y_true.shape[1], y_pred.shape[1]\n",
            "ValueError: y_true and y_pred have different number of output (1!=7)\n",
            "\n",
            "  UserWarning,\n"
          ]
        },
        {
          "output_type": "stream",
          "name": "stdout",
          "text": [
            "38/38 [==============================] - 3s 4ms/step - loss: 0.1410 - mean_squared_error: 0.1410\n"
          ]
        },
        {
          "output_type": "stream",
          "name": "stderr",
          "text": [
            "/usr/local/lib/python3.7/dist-packages/sklearn/model_selection/_validation.py:774: UserWarning: Scoring failed. The score on this train-test partition for these parameters will be set to nan. Details: \n",
            "Traceback (most recent call last):\n",
            "  File \"/usr/local/lib/python3.7/dist-packages/sklearn/model_selection/_validation.py\", line 761, in _score\n",
            "    scores = scorer(estimator, X_test, y_test)\n",
            "  File \"/usr/local/lib/python3.7/dist-packages/sklearn/metrics/_scorer.py\", line 221, in __call__\n",
            "    sample_weight=sample_weight,\n",
            "  File \"/usr/local/lib/python3.7/dist-packages/sklearn/metrics/_scorer.py\", line 264, in _score\n",
            "    return self._sign * self._score_func(y_true, y_pred, **self._kwargs)\n",
            "  File \"/usr/local/lib/python3.7/dist-packages/sklearn/metrics/_regression.py\", line 439, in mean_squared_error\n",
            "    y_true, y_pred, multioutput\n",
            "  File \"/usr/local/lib/python3.7/dist-packages/sklearn/metrics/_regression.py\", line 107, in _check_reg_targets\n",
            "    y_true.shape[1], y_pred.shape[1]\n",
            "ValueError: y_true and y_pred have different number of output (1!=7)\n",
            "\n",
            "  UserWarning,\n"
          ]
        },
        {
          "output_type": "stream",
          "name": "stdout",
          "text": [
            "38/38 [==============================] - 2s 5ms/step - loss: 0.1278 - mean_squared_error: 0.1278\n"
          ]
        },
        {
          "output_type": "stream",
          "name": "stderr",
          "text": [
            "/usr/local/lib/python3.7/dist-packages/sklearn/model_selection/_validation.py:774: UserWarning: Scoring failed. The score on this train-test partition for these parameters will be set to nan. Details: \n",
            "Traceback (most recent call last):\n",
            "  File \"/usr/local/lib/python3.7/dist-packages/sklearn/model_selection/_validation.py\", line 761, in _score\n",
            "    scores = scorer(estimator, X_test, y_test)\n",
            "  File \"/usr/local/lib/python3.7/dist-packages/sklearn/metrics/_scorer.py\", line 221, in __call__\n",
            "    sample_weight=sample_weight,\n",
            "  File \"/usr/local/lib/python3.7/dist-packages/sklearn/metrics/_scorer.py\", line 264, in _score\n",
            "    return self._sign * self._score_func(y_true, y_pred, **self._kwargs)\n",
            "  File \"/usr/local/lib/python3.7/dist-packages/sklearn/metrics/_regression.py\", line 439, in mean_squared_error\n",
            "    y_true, y_pred, multioutput\n",
            "  File \"/usr/local/lib/python3.7/dist-packages/sklearn/metrics/_regression.py\", line 107, in _check_reg_targets\n",
            "    y_true.shape[1], y_pred.shape[1]\n",
            "ValueError: y_true and y_pred have different number of output (1!=7)\n",
            "\n",
            "  UserWarning,\n"
          ]
        },
        {
          "output_type": "stream",
          "name": "stdout",
          "text": [
            "38/38 [==============================] - 2s 4ms/step - loss: 0.3827 - mean_squared_error: 0.3827\n"
          ]
        },
        {
          "output_type": "stream",
          "name": "stderr",
          "text": [
            "/usr/local/lib/python3.7/dist-packages/sklearn/model_selection/_validation.py:774: UserWarning: Scoring failed. The score on this train-test partition for these parameters will be set to nan. Details: \n",
            "Traceback (most recent call last):\n",
            "  File \"/usr/local/lib/python3.7/dist-packages/sklearn/model_selection/_validation.py\", line 761, in _score\n",
            "    scores = scorer(estimator, X_test, y_test)\n",
            "  File \"/usr/local/lib/python3.7/dist-packages/sklearn/metrics/_scorer.py\", line 221, in __call__\n",
            "    sample_weight=sample_weight,\n",
            "  File \"/usr/local/lib/python3.7/dist-packages/sklearn/metrics/_scorer.py\", line 264, in _score\n",
            "    return self._sign * self._score_func(y_true, y_pred, **self._kwargs)\n",
            "  File \"/usr/local/lib/python3.7/dist-packages/sklearn/metrics/_regression.py\", line 439, in mean_squared_error\n",
            "    y_true, y_pred, multioutput\n",
            "  File \"/usr/local/lib/python3.7/dist-packages/sklearn/metrics/_regression.py\", line 107, in _check_reg_targets\n",
            "    y_true.shape[1], y_pred.shape[1]\n",
            "ValueError: y_true and y_pred have different number of output (1!=7)\n",
            "\n",
            "  UserWarning,\n"
          ]
        },
        {
          "output_type": "stream",
          "name": "stdout",
          "text": [
            "38/38 [==============================] - 3s 4ms/step - loss: 0.2391 - mean_squared_error: 0.2391\n"
          ]
        },
        {
          "output_type": "stream",
          "name": "stderr",
          "text": [
            "/usr/local/lib/python3.7/dist-packages/sklearn/model_selection/_validation.py:774: UserWarning: Scoring failed. The score on this train-test partition for these parameters will be set to nan. Details: \n",
            "Traceback (most recent call last):\n",
            "  File \"/usr/local/lib/python3.7/dist-packages/sklearn/model_selection/_validation.py\", line 761, in _score\n",
            "    scores = scorer(estimator, X_test, y_test)\n",
            "  File \"/usr/local/lib/python3.7/dist-packages/sklearn/metrics/_scorer.py\", line 221, in __call__\n",
            "    sample_weight=sample_weight,\n",
            "  File \"/usr/local/lib/python3.7/dist-packages/sklearn/metrics/_scorer.py\", line 264, in _score\n",
            "    return self._sign * self._score_func(y_true, y_pred, **self._kwargs)\n",
            "  File \"/usr/local/lib/python3.7/dist-packages/sklearn/metrics/_regression.py\", line 439, in mean_squared_error\n",
            "    y_true, y_pred, multioutput\n",
            "  File \"/usr/local/lib/python3.7/dist-packages/sklearn/metrics/_regression.py\", line 107, in _check_reg_targets\n",
            "    y_true.shape[1], y_pred.shape[1]\n",
            "ValueError: y_true and y_pred have different number of output (1!=7)\n",
            "\n",
            "  UserWarning,\n"
          ]
        },
        {
          "output_type": "stream",
          "name": "stdout",
          "text": [
            "38/38 [==============================] - 3s 5ms/step - loss: 0.0938 - mean_squared_error: 0.0938\n"
          ]
        },
        {
          "output_type": "stream",
          "name": "stderr",
          "text": [
            "/usr/local/lib/python3.7/dist-packages/sklearn/model_selection/_validation.py:774: UserWarning: Scoring failed. The score on this train-test partition for these parameters will be set to nan. Details: \n",
            "Traceback (most recent call last):\n",
            "  File \"/usr/local/lib/python3.7/dist-packages/sklearn/model_selection/_validation.py\", line 761, in _score\n",
            "    scores = scorer(estimator, X_test, y_test)\n",
            "  File \"/usr/local/lib/python3.7/dist-packages/sklearn/metrics/_scorer.py\", line 221, in __call__\n",
            "    sample_weight=sample_weight,\n",
            "  File \"/usr/local/lib/python3.7/dist-packages/sklearn/metrics/_scorer.py\", line 264, in _score\n",
            "    return self._sign * self._score_func(y_true, y_pred, **self._kwargs)\n",
            "  File \"/usr/local/lib/python3.7/dist-packages/sklearn/metrics/_regression.py\", line 439, in mean_squared_error\n",
            "    y_true, y_pred, multioutput\n",
            "  File \"/usr/local/lib/python3.7/dist-packages/sklearn/metrics/_regression.py\", line 107, in _check_reg_targets\n",
            "    y_true.shape[1], y_pred.shape[1]\n",
            "ValueError: y_true and y_pred have different number of output (1!=7)\n",
            "\n",
            "  UserWarning,\n"
          ]
        },
        {
          "output_type": "stream",
          "name": "stdout",
          "text": [
            "38/38 [==============================] - 3s 5ms/step - loss: 0.1750 - mean_squared_error: 0.1750\n"
          ]
        },
        {
          "output_type": "stream",
          "name": "stderr",
          "text": [
            "/usr/local/lib/python3.7/dist-packages/sklearn/model_selection/_validation.py:774: UserWarning: Scoring failed. The score on this train-test partition for these parameters will be set to nan. Details: \n",
            "Traceback (most recent call last):\n",
            "  File \"/usr/local/lib/python3.7/dist-packages/sklearn/model_selection/_validation.py\", line 761, in _score\n",
            "    scores = scorer(estimator, X_test, y_test)\n",
            "  File \"/usr/local/lib/python3.7/dist-packages/sklearn/metrics/_scorer.py\", line 221, in __call__\n",
            "    sample_weight=sample_weight,\n",
            "  File \"/usr/local/lib/python3.7/dist-packages/sklearn/metrics/_scorer.py\", line 264, in _score\n",
            "    return self._sign * self._score_func(y_true, y_pred, **self._kwargs)\n",
            "  File \"/usr/local/lib/python3.7/dist-packages/sklearn/metrics/_regression.py\", line 439, in mean_squared_error\n",
            "    y_true, y_pred, multioutput\n",
            "  File \"/usr/local/lib/python3.7/dist-packages/sklearn/metrics/_regression.py\", line 107, in _check_reg_targets\n",
            "    y_true.shape[1], y_pred.shape[1]\n",
            "ValueError: y_true and y_pred have different number of output (1!=7)\n",
            "\n",
            "  UserWarning,\n"
          ]
        },
        {
          "output_type": "stream",
          "name": "stdout",
          "text": [
            "38/38 [==============================] - 3s 6ms/step - loss: 0.1105 - mean_squared_error: 0.1105\n"
          ]
        },
        {
          "output_type": "stream",
          "name": "stderr",
          "text": [
            "/usr/local/lib/python3.7/dist-packages/sklearn/model_selection/_validation.py:774: UserWarning: Scoring failed. The score on this train-test partition for these parameters will be set to nan. Details: \n",
            "Traceback (most recent call last):\n",
            "  File \"/usr/local/lib/python3.7/dist-packages/sklearn/model_selection/_validation.py\", line 761, in _score\n",
            "    scores = scorer(estimator, X_test, y_test)\n",
            "  File \"/usr/local/lib/python3.7/dist-packages/sklearn/metrics/_scorer.py\", line 221, in __call__\n",
            "    sample_weight=sample_weight,\n",
            "  File \"/usr/local/lib/python3.7/dist-packages/sklearn/metrics/_scorer.py\", line 264, in _score\n",
            "    return self._sign * self._score_func(y_true, y_pred, **self._kwargs)\n",
            "  File \"/usr/local/lib/python3.7/dist-packages/sklearn/metrics/_regression.py\", line 439, in mean_squared_error\n",
            "    y_true, y_pred, multioutput\n",
            "  File \"/usr/local/lib/python3.7/dist-packages/sklearn/metrics/_regression.py\", line 107, in _check_reg_targets\n",
            "    y_true.shape[1], y_pred.shape[1]\n",
            "ValueError: y_true and y_pred have different number of output (1!=7)\n",
            "\n",
            "  UserWarning,\n"
          ]
        },
        {
          "output_type": "stream",
          "name": "stdout",
          "text": [
            "38/38 [==============================] - 3s 5ms/step - loss: 0.1949 - mean_squared_error: 0.1949\n"
          ]
        },
        {
          "output_type": "stream",
          "name": "stderr",
          "text": [
            "/usr/local/lib/python3.7/dist-packages/sklearn/model_selection/_validation.py:774: UserWarning: Scoring failed. The score on this train-test partition for these parameters will be set to nan. Details: \n",
            "Traceback (most recent call last):\n",
            "  File \"/usr/local/lib/python3.7/dist-packages/sklearn/model_selection/_validation.py\", line 761, in _score\n",
            "    scores = scorer(estimator, X_test, y_test)\n",
            "  File \"/usr/local/lib/python3.7/dist-packages/sklearn/metrics/_scorer.py\", line 221, in __call__\n",
            "    sample_weight=sample_weight,\n",
            "  File \"/usr/local/lib/python3.7/dist-packages/sklearn/metrics/_scorer.py\", line 264, in _score\n",
            "    return self._sign * self._score_func(y_true, y_pred, **self._kwargs)\n",
            "  File \"/usr/local/lib/python3.7/dist-packages/sklearn/metrics/_regression.py\", line 439, in mean_squared_error\n",
            "    y_true, y_pred, multioutput\n",
            "  File \"/usr/local/lib/python3.7/dist-packages/sklearn/metrics/_regression.py\", line 107, in _check_reg_targets\n",
            "    y_true.shape[1], y_pred.shape[1]\n",
            "ValueError: y_true and y_pred have different number of output (1!=7)\n",
            "\n",
            "  UserWarning,\n"
          ]
        },
        {
          "output_type": "stream",
          "name": "stdout",
          "text": [
            "38/38 [==============================] - 2s 4ms/step - loss: 0.1201 - mean_squared_error: 0.1201\n"
          ]
        },
        {
          "output_type": "stream",
          "name": "stderr",
          "text": [
            "/usr/local/lib/python3.7/dist-packages/sklearn/model_selection/_validation.py:774: UserWarning: Scoring failed. The score on this train-test partition for these parameters will be set to nan. Details: \n",
            "Traceback (most recent call last):\n",
            "  File \"/usr/local/lib/python3.7/dist-packages/sklearn/model_selection/_validation.py\", line 761, in _score\n",
            "    scores = scorer(estimator, X_test, y_test)\n",
            "  File \"/usr/local/lib/python3.7/dist-packages/sklearn/metrics/_scorer.py\", line 221, in __call__\n",
            "    sample_weight=sample_weight,\n",
            "  File \"/usr/local/lib/python3.7/dist-packages/sklearn/metrics/_scorer.py\", line 264, in _score\n",
            "    return self._sign * self._score_func(y_true, y_pred, **self._kwargs)\n",
            "  File \"/usr/local/lib/python3.7/dist-packages/sklearn/metrics/_regression.py\", line 439, in mean_squared_error\n",
            "    y_true, y_pred, multioutput\n",
            "  File \"/usr/local/lib/python3.7/dist-packages/sklearn/metrics/_regression.py\", line 107, in _check_reg_targets\n",
            "    y_true.shape[1], y_pred.shape[1]\n",
            "ValueError: y_true and y_pred have different number of output (1!=7)\n",
            "\n",
            "  UserWarning,\n"
          ]
        },
        {
          "output_type": "stream",
          "name": "stdout",
          "text": [
            "38/38 [==============================] - 3s 4ms/step - loss: 0.2245 - mean_squared_error: 0.2245\n"
          ]
        },
        {
          "output_type": "stream",
          "name": "stderr",
          "text": [
            "/usr/local/lib/python3.7/dist-packages/sklearn/model_selection/_validation.py:774: UserWarning: Scoring failed. The score on this train-test partition for these parameters will be set to nan. Details: \n",
            "Traceback (most recent call last):\n",
            "  File \"/usr/local/lib/python3.7/dist-packages/sklearn/model_selection/_validation.py\", line 761, in _score\n",
            "    scores = scorer(estimator, X_test, y_test)\n",
            "  File \"/usr/local/lib/python3.7/dist-packages/sklearn/metrics/_scorer.py\", line 221, in __call__\n",
            "    sample_weight=sample_weight,\n",
            "  File \"/usr/local/lib/python3.7/dist-packages/sklearn/metrics/_scorer.py\", line 264, in _score\n",
            "    return self._sign * self._score_func(y_true, y_pred, **self._kwargs)\n",
            "  File \"/usr/local/lib/python3.7/dist-packages/sklearn/metrics/_regression.py\", line 439, in mean_squared_error\n",
            "    y_true, y_pred, multioutput\n",
            "  File \"/usr/local/lib/python3.7/dist-packages/sklearn/metrics/_regression.py\", line 107, in _check_reg_targets\n",
            "    y_true.shape[1], y_pred.shape[1]\n",
            "ValueError: y_true and y_pred have different number of output (1!=7)\n",
            "\n",
            "  UserWarning,\n"
          ]
        },
        {
          "output_type": "stream",
          "name": "stdout",
          "text": [
            "38/38 [==============================] - 2s 4ms/step - loss: 0.1202 - mean_squared_error: 0.1202\n"
          ]
        },
        {
          "output_type": "stream",
          "name": "stderr",
          "text": [
            "/usr/local/lib/python3.7/dist-packages/sklearn/model_selection/_validation.py:774: UserWarning: Scoring failed. The score on this train-test partition for these parameters will be set to nan. Details: \n",
            "Traceback (most recent call last):\n",
            "  File \"/usr/local/lib/python3.7/dist-packages/sklearn/model_selection/_validation.py\", line 761, in _score\n",
            "    scores = scorer(estimator, X_test, y_test)\n",
            "  File \"/usr/local/lib/python3.7/dist-packages/sklearn/metrics/_scorer.py\", line 221, in __call__\n",
            "    sample_weight=sample_weight,\n",
            "  File \"/usr/local/lib/python3.7/dist-packages/sklearn/metrics/_scorer.py\", line 264, in _score\n",
            "    return self._sign * self._score_func(y_true, y_pred, **self._kwargs)\n",
            "  File \"/usr/local/lib/python3.7/dist-packages/sklearn/metrics/_regression.py\", line 439, in mean_squared_error\n",
            "    y_true, y_pred, multioutput\n",
            "  File \"/usr/local/lib/python3.7/dist-packages/sklearn/metrics/_regression.py\", line 107, in _check_reg_targets\n",
            "    y_true.shape[1], y_pred.shape[1]\n",
            "ValueError: y_true and y_pred have different number of output (1!=7)\n",
            "\n",
            "  UserWarning,\n"
          ]
        },
        {
          "output_type": "stream",
          "name": "stdout",
          "text": [
            "38/38 [==============================] - 2s 4ms/step - loss: 0.1301 - mean_squared_error: 0.1301\n"
          ]
        },
        {
          "output_type": "stream",
          "name": "stderr",
          "text": [
            "/usr/local/lib/python3.7/dist-packages/sklearn/model_selection/_validation.py:774: UserWarning: Scoring failed. The score on this train-test partition for these parameters will be set to nan. Details: \n",
            "Traceback (most recent call last):\n",
            "  File \"/usr/local/lib/python3.7/dist-packages/sklearn/model_selection/_validation.py\", line 761, in _score\n",
            "    scores = scorer(estimator, X_test, y_test)\n",
            "  File \"/usr/local/lib/python3.7/dist-packages/sklearn/metrics/_scorer.py\", line 221, in __call__\n",
            "    sample_weight=sample_weight,\n",
            "  File \"/usr/local/lib/python3.7/dist-packages/sklearn/metrics/_scorer.py\", line 264, in _score\n",
            "    return self._sign * self._score_func(y_true, y_pred, **self._kwargs)\n",
            "  File \"/usr/local/lib/python3.7/dist-packages/sklearn/metrics/_regression.py\", line 439, in mean_squared_error\n",
            "    y_true, y_pred, multioutput\n",
            "  File \"/usr/local/lib/python3.7/dist-packages/sklearn/metrics/_regression.py\", line 107, in _check_reg_targets\n",
            "    y_true.shape[1], y_pred.shape[1]\n",
            "ValueError: y_true and y_pred have different number of output (1!=7)\n",
            "\n",
            "  UserWarning,\n"
          ]
        },
        {
          "output_type": "stream",
          "name": "stdout",
          "text": [
            "38/38 [==============================] - 3s 4ms/step - loss: 0.0790 - mean_squared_error: 0.0790\n"
          ]
        },
        {
          "output_type": "stream",
          "name": "stderr",
          "text": [
            "/usr/local/lib/python3.7/dist-packages/sklearn/model_selection/_validation.py:774: UserWarning: Scoring failed. The score on this train-test partition for these parameters will be set to nan. Details: \n",
            "Traceback (most recent call last):\n",
            "  File \"/usr/local/lib/python3.7/dist-packages/sklearn/model_selection/_validation.py\", line 761, in _score\n",
            "    scores = scorer(estimator, X_test, y_test)\n",
            "  File \"/usr/local/lib/python3.7/dist-packages/sklearn/metrics/_scorer.py\", line 221, in __call__\n",
            "    sample_weight=sample_weight,\n",
            "  File \"/usr/local/lib/python3.7/dist-packages/sklearn/metrics/_scorer.py\", line 264, in _score\n",
            "    return self._sign * self._score_func(y_true, y_pred, **self._kwargs)\n",
            "  File \"/usr/local/lib/python3.7/dist-packages/sklearn/metrics/_regression.py\", line 439, in mean_squared_error\n",
            "    y_true, y_pred, multioutput\n",
            "  File \"/usr/local/lib/python3.7/dist-packages/sklearn/metrics/_regression.py\", line 107, in _check_reg_targets\n",
            "    y_true.shape[1], y_pred.shape[1]\n",
            "ValueError: y_true and y_pred have different number of output (1!=7)\n",
            "\n",
            "  UserWarning,\n"
          ]
        },
        {
          "output_type": "stream",
          "name": "stdout",
          "text": [
            "38/38 [==============================] - 2s 4ms/step - loss: 0.0735 - mean_squared_error: 0.0735\n"
          ]
        },
        {
          "output_type": "stream",
          "name": "stderr",
          "text": [
            "/usr/local/lib/python3.7/dist-packages/sklearn/model_selection/_validation.py:774: UserWarning: Scoring failed. The score on this train-test partition for these parameters will be set to nan. Details: \n",
            "Traceback (most recent call last):\n",
            "  File \"/usr/local/lib/python3.7/dist-packages/sklearn/model_selection/_validation.py\", line 761, in _score\n",
            "    scores = scorer(estimator, X_test, y_test)\n",
            "  File \"/usr/local/lib/python3.7/dist-packages/sklearn/metrics/_scorer.py\", line 221, in __call__\n",
            "    sample_weight=sample_weight,\n",
            "  File \"/usr/local/lib/python3.7/dist-packages/sklearn/metrics/_scorer.py\", line 264, in _score\n",
            "    return self._sign * self._score_func(y_true, y_pred, **self._kwargs)\n",
            "  File \"/usr/local/lib/python3.7/dist-packages/sklearn/metrics/_regression.py\", line 439, in mean_squared_error\n",
            "    y_true, y_pred, multioutput\n",
            "  File \"/usr/local/lib/python3.7/dist-packages/sklearn/metrics/_regression.py\", line 107, in _check_reg_targets\n",
            "    y_true.shape[1], y_pred.shape[1]\n",
            "ValueError: y_true and y_pred have different number of output (1!=7)\n",
            "\n",
            "  UserWarning,\n"
          ]
        },
        {
          "output_type": "stream",
          "name": "stdout",
          "text": [
            "10/10 [==============================] - 2s 5ms/step - loss: 0.0728 - mean_squared_error: 0.0728\n"
          ]
        },
        {
          "output_type": "stream",
          "name": "stderr",
          "text": [
            "/usr/local/lib/python3.7/dist-packages/sklearn/model_selection/_validation.py:774: UserWarning: Scoring failed. The score on this train-test partition for these parameters will be set to nan. Details: \n",
            "Traceback (most recent call last):\n",
            "  File \"/usr/local/lib/python3.7/dist-packages/sklearn/model_selection/_validation.py\", line 761, in _score\n",
            "    scores = scorer(estimator, X_test, y_test)\n",
            "  File \"/usr/local/lib/python3.7/dist-packages/sklearn/metrics/_scorer.py\", line 221, in __call__\n",
            "    sample_weight=sample_weight,\n",
            "  File \"/usr/local/lib/python3.7/dist-packages/sklearn/metrics/_scorer.py\", line 264, in _score\n",
            "    return self._sign * self._score_func(y_true, y_pred, **self._kwargs)\n",
            "  File \"/usr/local/lib/python3.7/dist-packages/sklearn/metrics/_regression.py\", line 439, in mean_squared_error\n",
            "    y_true, y_pred, multioutput\n",
            "  File \"/usr/local/lib/python3.7/dist-packages/sklearn/metrics/_regression.py\", line 107, in _check_reg_targets\n",
            "    y_true.shape[1], y_pred.shape[1]\n",
            "ValueError: y_true and y_pred have different number of output (1!=7)\n",
            "\n",
            "  UserWarning,\n"
          ]
        },
        {
          "output_type": "stream",
          "name": "stdout",
          "text": [
            "10/10 [==============================] - 3s 5ms/step - loss: 0.1604 - mean_squared_error: 0.1604\n"
          ]
        },
        {
          "output_type": "stream",
          "name": "stderr",
          "text": [
            "/usr/local/lib/python3.7/dist-packages/sklearn/model_selection/_validation.py:774: UserWarning: Scoring failed. The score on this train-test partition for these parameters will be set to nan. Details: \n",
            "Traceback (most recent call last):\n",
            "  File \"/usr/local/lib/python3.7/dist-packages/sklearn/model_selection/_validation.py\", line 761, in _score\n",
            "    scores = scorer(estimator, X_test, y_test)\n",
            "  File \"/usr/local/lib/python3.7/dist-packages/sklearn/metrics/_scorer.py\", line 221, in __call__\n",
            "    sample_weight=sample_weight,\n",
            "  File \"/usr/local/lib/python3.7/dist-packages/sklearn/metrics/_scorer.py\", line 264, in _score\n",
            "    return self._sign * self._score_func(y_true, y_pred, **self._kwargs)\n",
            "  File \"/usr/local/lib/python3.7/dist-packages/sklearn/metrics/_regression.py\", line 439, in mean_squared_error\n",
            "    y_true, y_pred, multioutput\n",
            "  File \"/usr/local/lib/python3.7/dist-packages/sklearn/metrics/_regression.py\", line 107, in _check_reg_targets\n",
            "    y_true.shape[1], y_pred.shape[1]\n",
            "ValueError: y_true and y_pred have different number of output (1!=7)\n",
            "\n",
            "  UserWarning,\n"
          ]
        },
        {
          "output_type": "stream",
          "name": "stdout",
          "text": [
            "10/10 [==============================] - 3s 5ms/step - loss: 0.1791 - mean_squared_error: 0.1791\n",
            "WARNING:tensorflow:5 out of the last 13 calls to <function Model.make_predict_function.<locals>.predict_function at 0x7fcf77215c20> triggered tf.function retracing. Tracing is expensive and the excessive number of tracings could be due to (1) creating @tf.function repeatedly in a loop, (2) passing tensors with different shapes, (3) passing Python objects instead of tensors. For (1), please define your @tf.function outside of the loop. For (2), @tf.function has experimental_relax_shapes=True option that relaxes argument shapes that can avoid unnecessary retracing. For (3), please refer to https://www.tensorflow.org/guide/function#controlling_retracing and https://www.tensorflow.org/api_docs/python/tf/function for  more details.\n"
          ]
        },
        {
          "output_type": "stream",
          "name": "stderr",
          "text": [
            "/usr/local/lib/python3.7/dist-packages/sklearn/model_selection/_validation.py:774: UserWarning: Scoring failed. The score on this train-test partition for these parameters will be set to nan. Details: \n",
            "Traceback (most recent call last):\n",
            "  File \"/usr/local/lib/python3.7/dist-packages/sklearn/model_selection/_validation.py\", line 761, in _score\n",
            "    scores = scorer(estimator, X_test, y_test)\n",
            "  File \"/usr/local/lib/python3.7/dist-packages/sklearn/metrics/_scorer.py\", line 221, in __call__\n",
            "    sample_weight=sample_weight,\n",
            "  File \"/usr/local/lib/python3.7/dist-packages/sklearn/metrics/_scorer.py\", line 264, in _score\n",
            "    return self._sign * self._score_func(y_true, y_pred, **self._kwargs)\n",
            "  File \"/usr/local/lib/python3.7/dist-packages/sklearn/metrics/_regression.py\", line 439, in mean_squared_error\n",
            "    y_true, y_pred, multioutput\n",
            "  File \"/usr/local/lib/python3.7/dist-packages/sklearn/metrics/_regression.py\", line 107, in _check_reg_targets\n",
            "    y_true.shape[1], y_pred.shape[1]\n",
            "ValueError: y_true and y_pred have different number of output (1!=7)\n",
            "\n",
            "  UserWarning,\n"
          ]
        },
        {
          "output_type": "stream",
          "name": "stdout",
          "text": [
            "10/10 [==============================] - 2s 5ms/step - loss: 0.1849 - mean_squared_error: 0.1849\n",
            "WARNING:tensorflow:5 out of the last 11 calls to <function Model.make_predict_function.<locals>.predict_function at 0x7fcf76e66c20> triggered tf.function retracing. Tracing is expensive and the excessive number of tracings could be due to (1) creating @tf.function repeatedly in a loop, (2) passing tensors with different shapes, (3) passing Python objects instead of tensors. For (1), please define your @tf.function outside of the loop. For (2), @tf.function has experimental_relax_shapes=True option that relaxes argument shapes that can avoid unnecessary retracing. For (3), please refer to https://www.tensorflow.org/guide/function#controlling_retracing and https://www.tensorflow.org/api_docs/python/tf/function for  more details.\n"
          ]
        },
        {
          "output_type": "stream",
          "name": "stderr",
          "text": [
            "/usr/local/lib/python3.7/dist-packages/sklearn/model_selection/_validation.py:774: UserWarning: Scoring failed. The score on this train-test partition for these parameters will be set to nan. Details: \n",
            "Traceback (most recent call last):\n",
            "  File \"/usr/local/lib/python3.7/dist-packages/sklearn/model_selection/_validation.py\", line 761, in _score\n",
            "    scores = scorer(estimator, X_test, y_test)\n",
            "  File \"/usr/local/lib/python3.7/dist-packages/sklearn/metrics/_scorer.py\", line 221, in __call__\n",
            "    sample_weight=sample_weight,\n",
            "  File \"/usr/local/lib/python3.7/dist-packages/sklearn/metrics/_scorer.py\", line 264, in _score\n",
            "    return self._sign * self._score_func(y_true, y_pred, **self._kwargs)\n",
            "  File \"/usr/local/lib/python3.7/dist-packages/sklearn/metrics/_regression.py\", line 439, in mean_squared_error\n",
            "    y_true, y_pred, multioutput\n",
            "  File \"/usr/local/lib/python3.7/dist-packages/sklearn/metrics/_regression.py\", line 107, in _check_reg_targets\n",
            "    y_true.shape[1], y_pred.shape[1]\n",
            "ValueError: y_true and y_pred have different number of output (1!=7)\n",
            "\n",
            "  UserWarning,\n"
          ]
        },
        {
          "output_type": "stream",
          "name": "stdout",
          "text": [
            "10/10 [==============================] - 3s 5ms/step - loss: 0.1317 - mean_squared_error: 0.1317\n"
          ]
        },
        {
          "output_type": "stream",
          "name": "stderr",
          "text": [
            "/usr/local/lib/python3.7/dist-packages/sklearn/model_selection/_validation.py:774: UserWarning: Scoring failed. The score on this train-test partition for these parameters will be set to nan. Details: \n",
            "Traceback (most recent call last):\n",
            "  File \"/usr/local/lib/python3.7/dist-packages/sklearn/model_selection/_validation.py\", line 761, in _score\n",
            "    scores = scorer(estimator, X_test, y_test)\n",
            "  File \"/usr/local/lib/python3.7/dist-packages/sklearn/metrics/_scorer.py\", line 221, in __call__\n",
            "    sample_weight=sample_weight,\n",
            "  File \"/usr/local/lib/python3.7/dist-packages/sklearn/metrics/_scorer.py\", line 264, in _score\n",
            "    return self._sign * self._score_func(y_true, y_pred, **self._kwargs)\n",
            "  File \"/usr/local/lib/python3.7/dist-packages/sklearn/metrics/_regression.py\", line 439, in mean_squared_error\n",
            "    y_true, y_pred, multioutput\n",
            "  File \"/usr/local/lib/python3.7/dist-packages/sklearn/metrics/_regression.py\", line 107, in _check_reg_targets\n",
            "    y_true.shape[1], y_pred.shape[1]\n",
            "ValueError: y_true and y_pred have different number of output (1!=7)\n",
            "\n",
            "  UserWarning,\n"
          ]
        },
        {
          "output_type": "stream",
          "name": "stdout",
          "text": [
            "10/10 [==============================] - 3s 5ms/step - loss: 0.2492 - mean_squared_error: 0.2492\n"
          ]
        },
        {
          "output_type": "stream",
          "name": "stderr",
          "text": [
            "/usr/local/lib/python3.7/dist-packages/sklearn/model_selection/_validation.py:774: UserWarning: Scoring failed. The score on this train-test partition for these parameters will be set to nan. Details: \n",
            "Traceback (most recent call last):\n",
            "  File \"/usr/local/lib/python3.7/dist-packages/sklearn/model_selection/_validation.py\", line 761, in _score\n",
            "    scores = scorer(estimator, X_test, y_test)\n",
            "  File \"/usr/local/lib/python3.7/dist-packages/sklearn/metrics/_scorer.py\", line 221, in __call__\n",
            "    sample_weight=sample_weight,\n",
            "  File \"/usr/local/lib/python3.7/dist-packages/sklearn/metrics/_scorer.py\", line 264, in _score\n",
            "    return self._sign * self._score_func(y_true, y_pred, **self._kwargs)\n",
            "  File \"/usr/local/lib/python3.7/dist-packages/sklearn/metrics/_regression.py\", line 439, in mean_squared_error\n",
            "    y_true, y_pred, multioutput\n",
            "  File \"/usr/local/lib/python3.7/dist-packages/sklearn/metrics/_regression.py\", line 107, in _check_reg_targets\n",
            "    y_true.shape[1], y_pred.shape[1]\n",
            "ValueError: y_true and y_pred have different number of output (1!=7)\n",
            "\n",
            "  UserWarning,\n"
          ]
        },
        {
          "output_type": "stream",
          "name": "stdout",
          "text": [
            "10/10 [==============================] - 3s 5ms/step - loss: 0.1534 - mean_squared_error: 0.1534\n"
          ]
        },
        {
          "output_type": "stream",
          "name": "stderr",
          "text": [
            "/usr/local/lib/python3.7/dist-packages/sklearn/model_selection/_validation.py:774: UserWarning: Scoring failed. The score on this train-test partition for these parameters will be set to nan. Details: \n",
            "Traceback (most recent call last):\n",
            "  File \"/usr/local/lib/python3.7/dist-packages/sklearn/model_selection/_validation.py\", line 761, in _score\n",
            "    scores = scorer(estimator, X_test, y_test)\n",
            "  File \"/usr/local/lib/python3.7/dist-packages/sklearn/metrics/_scorer.py\", line 221, in __call__\n",
            "    sample_weight=sample_weight,\n",
            "  File \"/usr/local/lib/python3.7/dist-packages/sklearn/metrics/_scorer.py\", line 264, in _score\n",
            "    return self._sign * self._score_func(y_true, y_pred, **self._kwargs)\n",
            "  File \"/usr/local/lib/python3.7/dist-packages/sklearn/metrics/_regression.py\", line 439, in mean_squared_error\n",
            "    y_true, y_pred, multioutput\n",
            "  File \"/usr/local/lib/python3.7/dist-packages/sklearn/metrics/_regression.py\", line 107, in _check_reg_targets\n",
            "    y_true.shape[1], y_pred.shape[1]\n",
            "ValueError: y_true and y_pred have different number of output (1!=7)\n",
            "\n",
            "  UserWarning,\n"
          ]
        },
        {
          "output_type": "stream",
          "name": "stdout",
          "text": [
            "10/10 [==============================] - 3s 5ms/step - loss: 0.2658 - mean_squared_error: 0.2658\n"
          ]
        },
        {
          "output_type": "stream",
          "name": "stderr",
          "text": [
            "/usr/local/lib/python3.7/dist-packages/sklearn/model_selection/_validation.py:774: UserWarning: Scoring failed. The score on this train-test partition for these parameters will be set to nan. Details: \n",
            "Traceback (most recent call last):\n",
            "  File \"/usr/local/lib/python3.7/dist-packages/sklearn/model_selection/_validation.py\", line 761, in _score\n",
            "    scores = scorer(estimator, X_test, y_test)\n",
            "  File \"/usr/local/lib/python3.7/dist-packages/sklearn/metrics/_scorer.py\", line 221, in __call__\n",
            "    sample_weight=sample_weight,\n",
            "  File \"/usr/local/lib/python3.7/dist-packages/sklearn/metrics/_scorer.py\", line 264, in _score\n",
            "    return self._sign * self._score_func(y_true, y_pred, **self._kwargs)\n",
            "  File \"/usr/local/lib/python3.7/dist-packages/sklearn/metrics/_regression.py\", line 439, in mean_squared_error\n",
            "    y_true, y_pred, multioutput\n",
            "  File \"/usr/local/lib/python3.7/dist-packages/sklearn/metrics/_regression.py\", line 107, in _check_reg_targets\n",
            "    y_true.shape[1], y_pred.shape[1]\n",
            "ValueError: y_true and y_pred have different number of output (1!=7)\n",
            "\n",
            "  UserWarning,\n"
          ]
        },
        {
          "output_type": "stream",
          "name": "stdout",
          "text": [
            "10/10 [==============================] - 3s 5ms/step - loss: 0.1213 - mean_squared_error: 0.1213\n"
          ]
        },
        {
          "output_type": "stream",
          "name": "stderr",
          "text": [
            "/usr/local/lib/python3.7/dist-packages/sklearn/model_selection/_validation.py:774: UserWarning: Scoring failed. The score on this train-test partition for these parameters will be set to nan. Details: \n",
            "Traceback (most recent call last):\n",
            "  File \"/usr/local/lib/python3.7/dist-packages/sklearn/model_selection/_validation.py\", line 761, in _score\n",
            "    scores = scorer(estimator, X_test, y_test)\n",
            "  File \"/usr/local/lib/python3.7/dist-packages/sklearn/metrics/_scorer.py\", line 221, in __call__\n",
            "    sample_weight=sample_weight,\n",
            "  File \"/usr/local/lib/python3.7/dist-packages/sklearn/metrics/_scorer.py\", line 264, in _score\n",
            "    return self._sign * self._score_func(y_true, y_pred, **self._kwargs)\n",
            "  File \"/usr/local/lib/python3.7/dist-packages/sklearn/metrics/_regression.py\", line 439, in mean_squared_error\n",
            "    y_true, y_pred, multioutput\n",
            "  File \"/usr/local/lib/python3.7/dist-packages/sklearn/metrics/_regression.py\", line 107, in _check_reg_targets\n",
            "    y_true.shape[1], y_pred.shape[1]\n",
            "ValueError: y_true and y_pred have different number of output (1!=7)\n",
            "\n",
            "  UserWarning,\n"
          ]
        },
        {
          "output_type": "stream",
          "name": "stdout",
          "text": [
            "10/10 [==============================] - 3s 5ms/step - loss: 0.1678 - mean_squared_error: 0.1678\n"
          ]
        },
        {
          "output_type": "stream",
          "name": "stderr",
          "text": [
            "/usr/local/lib/python3.7/dist-packages/sklearn/model_selection/_validation.py:774: UserWarning: Scoring failed. The score on this train-test partition for these parameters will be set to nan. Details: \n",
            "Traceback (most recent call last):\n",
            "  File \"/usr/local/lib/python3.7/dist-packages/sklearn/model_selection/_validation.py\", line 761, in _score\n",
            "    scores = scorer(estimator, X_test, y_test)\n",
            "  File \"/usr/local/lib/python3.7/dist-packages/sklearn/metrics/_scorer.py\", line 221, in __call__\n",
            "    sample_weight=sample_weight,\n",
            "  File \"/usr/local/lib/python3.7/dist-packages/sklearn/metrics/_scorer.py\", line 264, in _score\n",
            "    return self._sign * self._score_func(y_true, y_pred, **self._kwargs)\n",
            "  File \"/usr/local/lib/python3.7/dist-packages/sklearn/metrics/_regression.py\", line 439, in mean_squared_error\n",
            "    y_true, y_pred, multioutput\n",
            "  File \"/usr/local/lib/python3.7/dist-packages/sklearn/metrics/_regression.py\", line 107, in _check_reg_targets\n",
            "    y_true.shape[1], y_pred.shape[1]\n",
            "ValueError: y_true and y_pred have different number of output (1!=7)\n",
            "\n",
            "  UserWarning,\n"
          ]
        },
        {
          "output_type": "stream",
          "name": "stdout",
          "text": [
            "10/10 [==============================] - 3s 5ms/step - loss: 0.1430 - mean_squared_error: 0.1430\n"
          ]
        },
        {
          "output_type": "stream",
          "name": "stderr",
          "text": [
            "/usr/local/lib/python3.7/dist-packages/sklearn/model_selection/_validation.py:774: UserWarning: Scoring failed. The score on this train-test partition for these parameters will be set to nan. Details: \n",
            "Traceback (most recent call last):\n",
            "  File \"/usr/local/lib/python3.7/dist-packages/sklearn/model_selection/_validation.py\", line 761, in _score\n",
            "    scores = scorer(estimator, X_test, y_test)\n",
            "  File \"/usr/local/lib/python3.7/dist-packages/sklearn/metrics/_scorer.py\", line 221, in __call__\n",
            "    sample_weight=sample_weight,\n",
            "  File \"/usr/local/lib/python3.7/dist-packages/sklearn/metrics/_scorer.py\", line 264, in _score\n",
            "    return self._sign * self._score_func(y_true, y_pred, **self._kwargs)\n",
            "  File \"/usr/local/lib/python3.7/dist-packages/sklearn/metrics/_regression.py\", line 439, in mean_squared_error\n",
            "    y_true, y_pred, multioutput\n",
            "  File \"/usr/local/lib/python3.7/dist-packages/sklearn/metrics/_regression.py\", line 107, in _check_reg_targets\n",
            "    y_true.shape[1], y_pred.shape[1]\n",
            "ValueError: y_true and y_pred have different number of output (1!=7)\n",
            "\n",
            "  UserWarning,\n"
          ]
        },
        {
          "output_type": "stream",
          "name": "stdout",
          "text": [
            "10/10 [==============================] - 3s 5ms/step - loss: 0.1790 - mean_squared_error: 0.1790\n"
          ]
        },
        {
          "output_type": "stream",
          "name": "stderr",
          "text": [
            "/usr/local/lib/python3.7/dist-packages/sklearn/model_selection/_validation.py:774: UserWarning: Scoring failed. The score on this train-test partition for these parameters will be set to nan. Details: \n",
            "Traceback (most recent call last):\n",
            "  File \"/usr/local/lib/python3.7/dist-packages/sklearn/model_selection/_validation.py\", line 761, in _score\n",
            "    scores = scorer(estimator, X_test, y_test)\n",
            "  File \"/usr/local/lib/python3.7/dist-packages/sklearn/metrics/_scorer.py\", line 221, in __call__\n",
            "    sample_weight=sample_weight,\n",
            "  File \"/usr/local/lib/python3.7/dist-packages/sklearn/metrics/_scorer.py\", line 264, in _score\n",
            "    return self._sign * self._score_func(y_true, y_pred, **self._kwargs)\n",
            "  File \"/usr/local/lib/python3.7/dist-packages/sklearn/metrics/_regression.py\", line 439, in mean_squared_error\n",
            "    y_true, y_pred, multioutput\n",
            "  File \"/usr/local/lib/python3.7/dist-packages/sklearn/metrics/_regression.py\", line 107, in _check_reg_targets\n",
            "    y_true.shape[1], y_pred.shape[1]\n",
            "ValueError: y_true and y_pred have different number of output (1!=7)\n",
            "\n",
            "  UserWarning,\n"
          ]
        },
        {
          "output_type": "stream",
          "name": "stdout",
          "text": [
            "10/10 [==============================] - 3s 5ms/step - loss: 0.2230 - mean_squared_error: 0.2230\n"
          ]
        },
        {
          "output_type": "stream",
          "name": "stderr",
          "text": [
            "/usr/local/lib/python3.7/dist-packages/sklearn/model_selection/_validation.py:774: UserWarning: Scoring failed. The score on this train-test partition for these parameters will be set to nan. Details: \n",
            "Traceback (most recent call last):\n",
            "  File \"/usr/local/lib/python3.7/dist-packages/sklearn/model_selection/_validation.py\", line 761, in _score\n",
            "    scores = scorer(estimator, X_test, y_test)\n",
            "  File \"/usr/local/lib/python3.7/dist-packages/sklearn/metrics/_scorer.py\", line 221, in __call__\n",
            "    sample_weight=sample_weight,\n",
            "  File \"/usr/local/lib/python3.7/dist-packages/sklearn/metrics/_scorer.py\", line 264, in _score\n",
            "    return self._sign * self._score_func(y_true, y_pred, **self._kwargs)\n",
            "  File \"/usr/local/lib/python3.7/dist-packages/sklearn/metrics/_regression.py\", line 439, in mean_squared_error\n",
            "    y_true, y_pred, multioutput\n",
            "  File \"/usr/local/lib/python3.7/dist-packages/sklearn/metrics/_regression.py\", line 107, in _check_reg_targets\n",
            "    y_true.shape[1], y_pred.shape[1]\n",
            "ValueError: y_true and y_pred have different number of output (1!=7)\n",
            "\n",
            "  UserWarning,\n"
          ]
        },
        {
          "output_type": "stream",
          "name": "stdout",
          "text": [
            "10/10 [==============================] - 3s 5ms/step - loss: 0.2012 - mean_squared_error: 0.2012\n"
          ]
        },
        {
          "output_type": "stream",
          "name": "stderr",
          "text": [
            "/usr/local/lib/python3.7/dist-packages/sklearn/model_selection/_validation.py:774: UserWarning: Scoring failed. The score on this train-test partition for these parameters will be set to nan. Details: \n",
            "Traceback (most recent call last):\n",
            "  File \"/usr/local/lib/python3.7/dist-packages/sklearn/model_selection/_validation.py\", line 761, in _score\n",
            "    scores = scorer(estimator, X_test, y_test)\n",
            "  File \"/usr/local/lib/python3.7/dist-packages/sklearn/metrics/_scorer.py\", line 221, in __call__\n",
            "    sample_weight=sample_weight,\n",
            "  File \"/usr/local/lib/python3.7/dist-packages/sklearn/metrics/_scorer.py\", line 264, in _score\n",
            "    return self._sign * self._score_func(y_true, y_pred, **self._kwargs)\n",
            "  File \"/usr/local/lib/python3.7/dist-packages/sklearn/metrics/_regression.py\", line 439, in mean_squared_error\n",
            "    y_true, y_pred, multioutput\n",
            "  File \"/usr/local/lib/python3.7/dist-packages/sklearn/metrics/_regression.py\", line 107, in _check_reg_targets\n",
            "    y_true.shape[1], y_pred.shape[1]\n",
            "ValueError: y_true and y_pred have different number of output (1!=7)\n",
            "\n",
            "  UserWarning,\n"
          ]
        },
        {
          "output_type": "stream",
          "name": "stdout",
          "text": [
            "10/10 [==============================] - 3s 7ms/step - loss: 0.1224 - mean_squared_error: 0.1224\n"
          ]
        },
        {
          "output_type": "stream",
          "name": "stderr",
          "text": [
            "/usr/local/lib/python3.7/dist-packages/sklearn/model_selection/_validation.py:774: UserWarning: Scoring failed. The score on this train-test partition for these parameters will be set to nan. Details: \n",
            "Traceback (most recent call last):\n",
            "  File \"/usr/local/lib/python3.7/dist-packages/sklearn/model_selection/_validation.py\", line 761, in _score\n",
            "    scores = scorer(estimator, X_test, y_test)\n",
            "  File \"/usr/local/lib/python3.7/dist-packages/sklearn/metrics/_scorer.py\", line 221, in __call__\n",
            "    sample_weight=sample_weight,\n",
            "  File \"/usr/local/lib/python3.7/dist-packages/sklearn/metrics/_scorer.py\", line 264, in _score\n",
            "    return self._sign * self._score_func(y_true, y_pred, **self._kwargs)\n",
            "  File \"/usr/local/lib/python3.7/dist-packages/sklearn/metrics/_regression.py\", line 439, in mean_squared_error\n",
            "    y_true, y_pred, multioutput\n",
            "  File \"/usr/local/lib/python3.7/dist-packages/sklearn/metrics/_regression.py\", line 107, in _check_reg_targets\n",
            "    y_true.shape[1], y_pred.shape[1]\n",
            "ValueError: y_true and y_pred have different number of output (1!=7)\n",
            "\n",
            "  UserWarning,\n"
          ]
        },
        {
          "output_type": "stream",
          "name": "stdout",
          "text": [
            "10/10 [==============================] - 3s 5ms/step - loss: 0.1389 - mean_squared_error: 0.1389\n"
          ]
        },
        {
          "output_type": "stream",
          "name": "stderr",
          "text": [
            "/usr/local/lib/python3.7/dist-packages/sklearn/model_selection/_validation.py:774: UserWarning: Scoring failed. The score on this train-test partition for these parameters will be set to nan. Details: \n",
            "Traceback (most recent call last):\n",
            "  File \"/usr/local/lib/python3.7/dist-packages/sklearn/model_selection/_validation.py\", line 761, in _score\n",
            "    scores = scorer(estimator, X_test, y_test)\n",
            "  File \"/usr/local/lib/python3.7/dist-packages/sklearn/metrics/_scorer.py\", line 221, in __call__\n",
            "    sample_weight=sample_weight,\n",
            "  File \"/usr/local/lib/python3.7/dist-packages/sklearn/metrics/_scorer.py\", line 264, in _score\n",
            "    return self._sign * self._score_func(y_true, y_pred, **self._kwargs)\n",
            "  File \"/usr/local/lib/python3.7/dist-packages/sklearn/metrics/_regression.py\", line 439, in mean_squared_error\n",
            "    y_true, y_pred, multioutput\n",
            "  File \"/usr/local/lib/python3.7/dist-packages/sklearn/metrics/_regression.py\", line 107, in _check_reg_targets\n",
            "    y_true.shape[1], y_pred.shape[1]\n",
            "ValueError: y_true and y_pred have different number of output (1!=7)\n",
            "\n",
            "  UserWarning,\n"
          ]
        },
        {
          "output_type": "stream",
          "name": "stdout",
          "text": [
            "10/10 [==============================] - 3s 5ms/step - loss: 0.1629 - mean_squared_error: 0.1629\n"
          ]
        },
        {
          "output_type": "stream",
          "name": "stderr",
          "text": [
            "/usr/local/lib/python3.7/dist-packages/sklearn/model_selection/_validation.py:774: UserWarning: Scoring failed. The score on this train-test partition for these parameters will be set to nan. Details: \n",
            "Traceback (most recent call last):\n",
            "  File \"/usr/local/lib/python3.7/dist-packages/sklearn/model_selection/_validation.py\", line 761, in _score\n",
            "    scores = scorer(estimator, X_test, y_test)\n",
            "  File \"/usr/local/lib/python3.7/dist-packages/sklearn/metrics/_scorer.py\", line 221, in __call__\n",
            "    sample_weight=sample_weight,\n",
            "  File \"/usr/local/lib/python3.7/dist-packages/sklearn/metrics/_scorer.py\", line 264, in _score\n",
            "    return self._sign * self._score_func(y_true, y_pred, **self._kwargs)\n",
            "  File \"/usr/local/lib/python3.7/dist-packages/sklearn/metrics/_regression.py\", line 439, in mean_squared_error\n",
            "    y_true, y_pred, multioutput\n",
            "  File \"/usr/local/lib/python3.7/dist-packages/sklearn/metrics/_regression.py\", line 107, in _check_reg_targets\n",
            "    y_true.shape[1], y_pred.shape[1]\n",
            "ValueError: y_true and y_pred have different number of output (1!=7)\n",
            "\n",
            "  UserWarning,\n"
          ]
        },
        {
          "output_type": "stream",
          "name": "stdout",
          "text": [
            "10/10 [==============================] - 3s 5ms/step - loss: 0.1900 - mean_squared_error: 0.1900\n"
          ]
        },
        {
          "output_type": "stream",
          "name": "stderr",
          "text": [
            "/usr/local/lib/python3.7/dist-packages/sklearn/model_selection/_validation.py:774: UserWarning: Scoring failed. The score on this train-test partition for these parameters will be set to nan. Details: \n",
            "Traceback (most recent call last):\n",
            "  File \"/usr/local/lib/python3.7/dist-packages/sklearn/model_selection/_validation.py\", line 761, in _score\n",
            "    scores = scorer(estimator, X_test, y_test)\n",
            "  File \"/usr/local/lib/python3.7/dist-packages/sklearn/metrics/_scorer.py\", line 221, in __call__\n",
            "    sample_weight=sample_weight,\n",
            "  File \"/usr/local/lib/python3.7/dist-packages/sklearn/metrics/_scorer.py\", line 264, in _score\n",
            "    return self._sign * self._score_func(y_true, y_pred, **self._kwargs)\n",
            "  File \"/usr/local/lib/python3.7/dist-packages/sklearn/metrics/_regression.py\", line 439, in mean_squared_error\n",
            "    y_true, y_pred, multioutput\n",
            "  File \"/usr/local/lib/python3.7/dist-packages/sklearn/metrics/_regression.py\", line 107, in _check_reg_targets\n",
            "    y_true.shape[1], y_pred.shape[1]\n",
            "ValueError: y_true and y_pred have different number of output (1!=7)\n",
            "\n",
            "  UserWarning,\n"
          ]
        },
        {
          "output_type": "stream",
          "name": "stdout",
          "text": [
            "10/10 [==============================] - 3s 5ms/step - loss: 0.3022 - mean_squared_error: 0.3022\n"
          ]
        },
        {
          "output_type": "stream",
          "name": "stderr",
          "text": [
            "/usr/local/lib/python3.7/dist-packages/sklearn/model_selection/_validation.py:774: UserWarning: Scoring failed. The score on this train-test partition for these parameters will be set to nan. Details: \n",
            "Traceback (most recent call last):\n",
            "  File \"/usr/local/lib/python3.7/dist-packages/sklearn/model_selection/_validation.py\", line 761, in _score\n",
            "    scores = scorer(estimator, X_test, y_test)\n",
            "  File \"/usr/local/lib/python3.7/dist-packages/sklearn/metrics/_scorer.py\", line 221, in __call__\n",
            "    sample_weight=sample_weight,\n",
            "  File \"/usr/local/lib/python3.7/dist-packages/sklearn/metrics/_scorer.py\", line 264, in _score\n",
            "    return self._sign * self._score_func(y_true, y_pred, **self._kwargs)\n",
            "  File \"/usr/local/lib/python3.7/dist-packages/sklearn/metrics/_regression.py\", line 439, in mean_squared_error\n",
            "    y_true, y_pred, multioutput\n",
            "  File \"/usr/local/lib/python3.7/dist-packages/sklearn/metrics/_regression.py\", line 107, in _check_reg_targets\n",
            "    y_true.shape[1], y_pred.shape[1]\n",
            "ValueError: y_true and y_pred have different number of output (1!=7)\n",
            "\n",
            "  UserWarning,\n"
          ]
        },
        {
          "output_type": "stream",
          "name": "stdout",
          "text": [
            "10/10 [==============================] - 3s 5ms/step - loss: 0.1946 - mean_squared_error: 0.1946\n"
          ]
        },
        {
          "output_type": "stream",
          "name": "stderr",
          "text": [
            "/usr/local/lib/python3.7/dist-packages/sklearn/model_selection/_validation.py:774: UserWarning: Scoring failed. The score on this train-test partition for these parameters will be set to nan. Details: \n",
            "Traceback (most recent call last):\n",
            "  File \"/usr/local/lib/python3.7/dist-packages/sklearn/model_selection/_validation.py\", line 761, in _score\n",
            "    scores = scorer(estimator, X_test, y_test)\n",
            "  File \"/usr/local/lib/python3.7/dist-packages/sklearn/metrics/_scorer.py\", line 221, in __call__\n",
            "    sample_weight=sample_weight,\n",
            "  File \"/usr/local/lib/python3.7/dist-packages/sklearn/metrics/_scorer.py\", line 264, in _score\n",
            "    return self._sign * self._score_func(y_true, y_pred, **self._kwargs)\n",
            "  File \"/usr/local/lib/python3.7/dist-packages/sklearn/metrics/_regression.py\", line 439, in mean_squared_error\n",
            "    y_true, y_pred, multioutput\n",
            "  File \"/usr/local/lib/python3.7/dist-packages/sklearn/metrics/_regression.py\", line 107, in _check_reg_targets\n",
            "    y_true.shape[1], y_pred.shape[1]\n",
            "ValueError: y_true and y_pred have different number of output (1!=7)\n",
            "\n",
            "  UserWarning,\n"
          ]
        },
        {
          "output_type": "stream",
          "name": "stdout",
          "text": [
            "10/10 [==============================] - 3s 6ms/step - loss: 0.0748 - mean_squared_error: 0.0748\n"
          ]
        },
        {
          "output_type": "stream",
          "name": "stderr",
          "text": [
            "/usr/local/lib/python3.7/dist-packages/sklearn/model_selection/_validation.py:774: UserWarning: Scoring failed. The score on this train-test partition for these parameters will be set to nan. Details: \n",
            "Traceback (most recent call last):\n",
            "  File \"/usr/local/lib/python3.7/dist-packages/sklearn/model_selection/_validation.py\", line 761, in _score\n",
            "    scores = scorer(estimator, X_test, y_test)\n",
            "  File \"/usr/local/lib/python3.7/dist-packages/sklearn/metrics/_scorer.py\", line 221, in __call__\n",
            "    sample_weight=sample_weight,\n",
            "  File \"/usr/local/lib/python3.7/dist-packages/sklearn/metrics/_scorer.py\", line 264, in _score\n",
            "    return self._sign * self._score_func(y_true, y_pred, **self._kwargs)\n",
            "  File \"/usr/local/lib/python3.7/dist-packages/sklearn/metrics/_regression.py\", line 439, in mean_squared_error\n",
            "    y_true, y_pred, multioutput\n",
            "  File \"/usr/local/lib/python3.7/dist-packages/sklearn/metrics/_regression.py\", line 107, in _check_reg_targets\n",
            "    y_true.shape[1], y_pred.shape[1]\n",
            "ValueError: y_true and y_pred have different number of output (1!=7)\n",
            "\n",
            "  UserWarning,\n"
          ]
        },
        {
          "output_type": "stream",
          "name": "stdout",
          "text": [
            "10/10 [==============================] - 3s 7ms/step - loss: 0.0912 - mean_squared_error: 0.0912\n"
          ]
        },
        {
          "output_type": "stream",
          "name": "stderr",
          "text": [
            "/usr/local/lib/python3.7/dist-packages/sklearn/model_selection/_validation.py:774: UserWarning: Scoring failed. The score on this train-test partition for these parameters will be set to nan. Details: \n",
            "Traceback (most recent call last):\n",
            "  File \"/usr/local/lib/python3.7/dist-packages/sklearn/model_selection/_validation.py\", line 761, in _score\n",
            "    scores = scorer(estimator, X_test, y_test)\n",
            "  File \"/usr/local/lib/python3.7/dist-packages/sklearn/metrics/_scorer.py\", line 221, in __call__\n",
            "    sample_weight=sample_weight,\n",
            "  File \"/usr/local/lib/python3.7/dist-packages/sklearn/metrics/_scorer.py\", line 264, in _score\n",
            "    return self._sign * self._score_func(y_true, y_pred, **self._kwargs)\n",
            "  File \"/usr/local/lib/python3.7/dist-packages/sklearn/metrics/_regression.py\", line 439, in mean_squared_error\n",
            "    y_true, y_pred, multioutput\n",
            "  File \"/usr/local/lib/python3.7/dist-packages/sklearn/metrics/_regression.py\", line 107, in _check_reg_targets\n",
            "    y_true.shape[1], y_pred.shape[1]\n",
            "ValueError: y_true and y_pred have different number of output (1!=7)\n",
            "\n",
            "  UserWarning,\n"
          ]
        },
        {
          "output_type": "stream",
          "name": "stdout",
          "text": [
            "10/10 [==============================] - 3s 6ms/step - loss: 0.1137 - mean_squared_error: 0.1137\n"
          ]
        },
        {
          "output_type": "stream",
          "name": "stderr",
          "text": [
            "/usr/local/lib/python3.7/dist-packages/sklearn/model_selection/_validation.py:774: UserWarning: Scoring failed. The score on this train-test partition for these parameters will be set to nan. Details: \n",
            "Traceback (most recent call last):\n",
            "  File \"/usr/local/lib/python3.7/dist-packages/sklearn/model_selection/_validation.py\", line 761, in _score\n",
            "    scores = scorer(estimator, X_test, y_test)\n",
            "  File \"/usr/local/lib/python3.7/dist-packages/sklearn/metrics/_scorer.py\", line 221, in __call__\n",
            "    sample_weight=sample_weight,\n",
            "  File \"/usr/local/lib/python3.7/dist-packages/sklearn/metrics/_scorer.py\", line 264, in _score\n",
            "    return self._sign * self._score_func(y_true, y_pred, **self._kwargs)\n",
            "  File \"/usr/local/lib/python3.7/dist-packages/sklearn/metrics/_regression.py\", line 439, in mean_squared_error\n",
            "    y_true, y_pred, multioutput\n",
            "  File \"/usr/local/lib/python3.7/dist-packages/sklearn/metrics/_regression.py\", line 107, in _check_reg_targets\n",
            "    y_true.shape[1], y_pred.shape[1]\n",
            "ValueError: y_true and y_pred have different number of output (1!=7)\n",
            "\n",
            "  UserWarning,\n"
          ]
        },
        {
          "output_type": "stream",
          "name": "stdout",
          "text": [
            "10/10 [==============================] - 3s 5ms/step - loss: 0.2511 - mean_squared_error: 0.2511\n"
          ]
        },
        {
          "output_type": "stream",
          "name": "stderr",
          "text": [
            "/usr/local/lib/python3.7/dist-packages/sklearn/model_selection/_validation.py:774: UserWarning: Scoring failed. The score on this train-test partition for these parameters will be set to nan. Details: \n",
            "Traceback (most recent call last):\n",
            "  File \"/usr/local/lib/python3.7/dist-packages/sklearn/model_selection/_validation.py\", line 761, in _score\n",
            "    scores = scorer(estimator, X_test, y_test)\n",
            "  File \"/usr/local/lib/python3.7/dist-packages/sklearn/metrics/_scorer.py\", line 221, in __call__\n",
            "    sample_weight=sample_weight,\n",
            "  File \"/usr/local/lib/python3.7/dist-packages/sklearn/metrics/_scorer.py\", line 264, in _score\n",
            "    return self._sign * self._score_func(y_true, y_pred, **self._kwargs)\n",
            "  File \"/usr/local/lib/python3.7/dist-packages/sklearn/metrics/_regression.py\", line 439, in mean_squared_error\n",
            "    y_true, y_pred, multioutput\n",
            "  File \"/usr/local/lib/python3.7/dist-packages/sklearn/metrics/_regression.py\", line 107, in _check_reg_targets\n",
            "    y_true.shape[1], y_pred.shape[1]\n",
            "ValueError: y_true and y_pred have different number of output (1!=7)\n",
            "\n",
            "  UserWarning,\n"
          ]
        },
        {
          "output_type": "stream",
          "name": "stdout",
          "text": [
            "10/10 [==============================] - 3s 6ms/step - loss: 0.1345 - mean_squared_error: 0.1345\n"
          ]
        },
        {
          "output_type": "stream",
          "name": "stderr",
          "text": [
            "/usr/local/lib/python3.7/dist-packages/sklearn/model_selection/_validation.py:774: UserWarning: Scoring failed. The score on this train-test partition for these parameters will be set to nan. Details: \n",
            "Traceback (most recent call last):\n",
            "  File \"/usr/local/lib/python3.7/dist-packages/sklearn/model_selection/_validation.py\", line 761, in _score\n",
            "    scores = scorer(estimator, X_test, y_test)\n",
            "  File \"/usr/local/lib/python3.7/dist-packages/sklearn/metrics/_scorer.py\", line 221, in __call__\n",
            "    sample_weight=sample_weight,\n",
            "  File \"/usr/local/lib/python3.7/dist-packages/sklearn/metrics/_scorer.py\", line 264, in _score\n",
            "    return self._sign * self._score_func(y_true, y_pred, **self._kwargs)\n",
            "  File \"/usr/local/lib/python3.7/dist-packages/sklearn/metrics/_regression.py\", line 439, in mean_squared_error\n",
            "    y_true, y_pred, multioutput\n",
            "  File \"/usr/local/lib/python3.7/dist-packages/sklearn/metrics/_regression.py\", line 107, in _check_reg_targets\n",
            "    y_true.shape[1], y_pred.shape[1]\n",
            "ValueError: y_true and y_pred have different number of output (1!=7)\n",
            "\n",
            "  UserWarning,\n"
          ]
        },
        {
          "output_type": "stream",
          "name": "stdout",
          "text": [
            "10/10 [==============================] - 3s 5ms/step - loss: 0.2998 - mean_squared_error: 0.2998\n"
          ]
        },
        {
          "output_type": "stream",
          "name": "stderr",
          "text": [
            "/usr/local/lib/python3.7/dist-packages/sklearn/model_selection/_validation.py:774: UserWarning: Scoring failed. The score on this train-test partition for these parameters will be set to nan. Details: \n",
            "Traceback (most recent call last):\n",
            "  File \"/usr/local/lib/python3.7/dist-packages/sklearn/model_selection/_validation.py\", line 761, in _score\n",
            "    scores = scorer(estimator, X_test, y_test)\n",
            "  File \"/usr/local/lib/python3.7/dist-packages/sklearn/metrics/_scorer.py\", line 221, in __call__\n",
            "    sample_weight=sample_weight,\n",
            "  File \"/usr/local/lib/python3.7/dist-packages/sklearn/metrics/_scorer.py\", line 264, in _score\n",
            "    return self._sign * self._score_func(y_true, y_pred, **self._kwargs)\n",
            "  File \"/usr/local/lib/python3.7/dist-packages/sklearn/metrics/_regression.py\", line 439, in mean_squared_error\n",
            "    y_true, y_pred, multioutput\n",
            "  File \"/usr/local/lib/python3.7/dist-packages/sklearn/metrics/_regression.py\", line 107, in _check_reg_targets\n",
            "    y_true.shape[1], y_pred.shape[1]\n",
            "ValueError: y_true and y_pred have different number of output (1!=7)\n",
            "\n",
            "  UserWarning,\n"
          ]
        },
        {
          "output_type": "stream",
          "name": "stdout",
          "text": [
            "10/10 [==============================] - 3s 5ms/step - loss: 0.3107 - mean_squared_error: 0.3107\n"
          ]
        },
        {
          "output_type": "stream",
          "name": "stderr",
          "text": [
            "/usr/local/lib/python3.7/dist-packages/sklearn/model_selection/_validation.py:774: UserWarning: Scoring failed. The score on this train-test partition for these parameters will be set to nan. Details: \n",
            "Traceback (most recent call last):\n",
            "  File \"/usr/local/lib/python3.7/dist-packages/sklearn/model_selection/_validation.py\", line 761, in _score\n",
            "    scores = scorer(estimator, X_test, y_test)\n",
            "  File \"/usr/local/lib/python3.7/dist-packages/sklearn/metrics/_scorer.py\", line 221, in __call__\n",
            "    sample_weight=sample_weight,\n",
            "  File \"/usr/local/lib/python3.7/dist-packages/sklearn/metrics/_scorer.py\", line 264, in _score\n",
            "    return self._sign * self._score_func(y_true, y_pred, **self._kwargs)\n",
            "  File \"/usr/local/lib/python3.7/dist-packages/sklearn/metrics/_regression.py\", line 439, in mean_squared_error\n",
            "    y_true, y_pred, multioutput\n",
            "  File \"/usr/local/lib/python3.7/dist-packages/sklearn/metrics/_regression.py\", line 107, in _check_reg_targets\n",
            "    y_true.shape[1], y_pred.shape[1]\n",
            "ValueError: y_true and y_pred have different number of output (1!=7)\n",
            "\n",
            "  UserWarning,\n"
          ]
        },
        {
          "output_type": "stream",
          "name": "stdout",
          "text": [
            "10/10 [==============================] - 3s 5ms/step - loss: 0.2537 - mean_squared_error: 0.2537\n"
          ]
        },
        {
          "output_type": "stream",
          "name": "stderr",
          "text": [
            "/usr/local/lib/python3.7/dist-packages/sklearn/model_selection/_validation.py:774: UserWarning: Scoring failed. The score on this train-test partition for these parameters will be set to nan. Details: \n",
            "Traceback (most recent call last):\n",
            "  File \"/usr/local/lib/python3.7/dist-packages/sklearn/model_selection/_validation.py\", line 761, in _score\n",
            "    scores = scorer(estimator, X_test, y_test)\n",
            "  File \"/usr/local/lib/python3.7/dist-packages/sklearn/metrics/_scorer.py\", line 221, in __call__\n",
            "    sample_weight=sample_weight,\n",
            "  File \"/usr/local/lib/python3.7/dist-packages/sklearn/metrics/_scorer.py\", line 264, in _score\n",
            "    return self._sign * self._score_func(y_true, y_pred, **self._kwargs)\n",
            "  File \"/usr/local/lib/python3.7/dist-packages/sklearn/metrics/_regression.py\", line 439, in mean_squared_error\n",
            "    y_true, y_pred, multioutput\n",
            "  File \"/usr/local/lib/python3.7/dist-packages/sklearn/metrics/_regression.py\", line 107, in _check_reg_targets\n",
            "    y_true.shape[1], y_pred.shape[1]\n",
            "ValueError: y_true and y_pred have different number of output (1!=7)\n",
            "\n",
            "  UserWarning,\n"
          ]
        },
        {
          "output_type": "stream",
          "name": "stdout",
          "text": [
            "10/10 [==============================] - 3s 6ms/step - loss: 0.2100 - mean_squared_error: 0.2100\n"
          ]
        },
        {
          "output_type": "stream",
          "name": "stderr",
          "text": [
            "/usr/local/lib/python3.7/dist-packages/sklearn/model_selection/_validation.py:774: UserWarning: Scoring failed. The score on this train-test partition for these parameters will be set to nan. Details: \n",
            "Traceback (most recent call last):\n",
            "  File \"/usr/local/lib/python3.7/dist-packages/sklearn/model_selection/_validation.py\", line 761, in _score\n",
            "    scores = scorer(estimator, X_test, y_test)\n",
            "  File \"/usr/local/lib/python3.7/dist-packages/sklearn/metrics/_scorer.py\", line 221, in __call__\n",
            "    sample_weight=sample_weight,\n",
            "  File \"/usr/local/lib/python3.7/dist-packages/sklearn/metrics/_scorer.py\", line 264, in _score\n",
            "    return self._sign * self._score_func(y_true, y_pred, **self._kwargs)\n",
            "  File \"/usr/local/lib/python3.7/dist-packages/sklearn/metrics/_regression.py\", line 439, in mean_squared_error\n",
            "    y_true, y_pred, multioutput\n",
            "  File \"/usr/local/lib/python3.7/dist-packages/sklearn/metrics/_regression.py\", line 107, in _check_reg_targets\n",
            "    y_true.shape[1], y_pred.shape[1]\n",
            "ValueError: y_true and y_pred have different number of output (1!=7)\n",
            "\n",
            "  UserWarning,\n"
          ]
        },
        {
          "output_type": "stream",
          "name": "stdout",
          "text": [
            "10/10 [==============================] - 3s 5ms/step - loss: 0.2225 - mean_squared_error: 0.2225\n"
          ]
        },
        {
          "output_type": "stream",
          "name": "stderr",
          "text": [
            "/usr/local/lib/python3.7/dist-packages/sklearn/model_selection/_validation.py:774: UserWarning: Scoring failed. The score on this train-test partition for these parameters will be set to nan. Details: \n",
            "Traceback (most recent call last):\n",
            "  File \"/usr/local/lib/python3.7/dist-packages/sklearn/model_selection/_validation.py\", line 761, in _score\n",
            "    scores = scorer(estimator, X_test, y_test)\n",
            "  File \"/usr/local/lib/python3.7/dist-packages/sklearn/metrics/_scorer.py\", line 221, in __call__\n",
            "    sample_weight=sample_weight,\n",
            "  File \"/usr/local/lib/python3.7/dist-packages/sklearn/metrics/_scorer.py\", line 264, in _score\n",
            "    return self._sign * self._score_func(y_true, y_pred, **self._kwargs)\n",
            "  File \"/usr/local/lib/python3.7/dist-packages/sklearn/metrics/_regression.py\", line 439, in mean_squared_error\n",
            "    y_true, y_pred, multioutput\n",
            "  File \"/usr/local/lib/python3.7/dist-packages/sklearn/metrics/_regression.py\", line 107, in _check_reg_targets\n",
            "    y_true.shape[1], y_pred.shape[1]\n",
            "ValueError: y_true and y_pred have different number of output (1!=7)\n",
            "\n",
            "  UserWarning,\n"
          ]
        },
        {
          "output_type": "stream",
          "name": "stdout",
          "text": [
            "10/10 [==============================] - 3s 5ms/step - loss: 0.1265 - mean_squared_error: 0.1265\n"
          ]
        },
        {
          "output_type": "stream",
          "name": "stderr",
          "text": [
            "/usr/local/lib/python3.7/dist-packages/sklearn/model_selection/_validation.py:774: UserWarning: Scoring failed. The score on this train-test partition for these parameters will be set to nan. Details: \n",
            "Traceback (most recent call last):\n",
            "  File \"/usr/local/lib/python3.7/dist-packages/sklearn/model_selection/_validation.py\", line 761, in _score\n",
            "    scores = scorer(estimator, X_test, y_test)\n",
            "  File \"/usr/local/lib/python3.7/dist-packages/sklearn/metrics/_scorer.py\", line 221, in __call__\n",
            "    sample_weight=sample_weight,\n",
            "  File \"/usr/local/lib/python3.7/dist-packages/sklearn/metrics/_scorer.py\", line 264, in _score\n",
            "    return self._sign * self._score_func(y_true, y_pred, **self._kwargs)\n",
            "  File \"/usr/local/lib/python3.7/dist-packages/sklearn/metrics/_regression.py\", line 439, in mean_squared_error\n",
            "    y_true, y_pred, multioutput\n",
            "  File \"/usr/local/lib/python3.7/dist-packages/sklearn/metrics/_regression.py\", line 107, in _check_reg_targets\n",
            "    y_true.shape[1], y_pred.shape[1]\n",
            "ValueError: y_true and y_pred have different number of output (1!=7)\n",
            "\n",
            "  UserWarning,\n"
          ]
        },
        {
          "output_type": "stream",
          "name": "stdout",
          "text": [
            "10/10 [==============================] - 3s 5ms/step - loss: 0.1606 - mean_squared_error: 0.1606\n"
          ]
        },
        {
          "output_type": "stream",
          "name": "stderr",
          "text": [
            "/usr/local/lib/python3.7/dist-packages/sklearn/model_selection/_validation.py:774: UserWarning: Scoring failed. The score on this train-test partition for these parameters will be set to nan. Details: \n",
            "Traceback (most recent call last):\n",
            "  File \"/usr/local/lib/python3.7/dist-packages/sklearn/model_selection/_validation.py\", line 761, in _score\n",
            "    scores = scorer(estimator, X_test, y_test)\n",
            "  File \"/usr/local/lib/python3.7/dist-packages/sklearn/metrics/_scorer.py\", line 221, in __call__\n",
            "    sample_weight=sample_weight,\n",
            "  File \"/usr/local/lib/python3.7/dist-packages/sklearn/metrics/_scorer.py\", line 264, in _score\n",
            "    return self._sign * self._score_func(y_true, y_pred, **self._kwargs)\n",
            "  File \"/usr/local/lib/python3.7/dist-packages/sklearn/metrics/_regression.py\", line 439, in mean_squared_error\n",
            "    y_true, y_pred, multioutput\n",
            "  File \"/usr/local/lib/python3.7/dist-packages/sklearn/metrics/_regression.py\", line 107, in _check_reg_targets\n",
            "    y_true.shape[1], y_pred.shape[1]\n",
            "ValueError: y_true and y_pred have different number of output (1!=7)\n",
            "\n",
            "  UserWarning,\n"
          ]
        },
        {
          "output_type": "stream",
          "name": "stdout",
          "text": [
            "10/10 [==============================] - 3s 5ms/step - loss: 0.0839 - mean_squared_error: 0.0839\n"
          ]
        },
        {
          "output_type": "stream",
          "name": "stderr",
          "text": [
            "/usr/local/lib/python3.7/dist-packages/sklearn/model_selection/_validation.py:774: UserWarning: Scoring failed. The score on this train-test partition for these parameters will be set to nan. Details: \n",
            "Traceback (most recent call last):\n",
            "  File \"/usr/local/lib/python3.7/dist-packages/sklearn/model_selection/_validation.py\", line 761, in _score\n",
            "    scores = scorer(estimator, X_test, y_test)\n",
            "  File \"/usr/local/lib/python3.7/dist-packages/sklearn/metrics/_scorer.py\", line 221, in __call__\n",
            "    sample_weight=sample_weight,\n",
            "  File \"/usr/local/lib/python3.7/dist-packages/sklearn/metrics/_scorer.py\", line 264, in _score\n",
            "    return self._sign * self._score_func(y_true, y_pred, **self._kwargs)\n",
            "  File \"/usr/local/lib/python3.7/dist-packages/sklearn/metrics/_regression.py\", line 439, in mean_squared_error\n",
            "    y_true, y_pred, multioutput\n",
            "  File \"/usr/local/lib/python3.7/dist-packages/sklearn/metrics/_regression.py\", line 107, in _check_reg_targets\n",
            "    y_true.shape[1], y_pred.shape[1]\n",
            "ValueError: y_true and y_pred have different number of output (1!=7)\n",
            "\n",
            "  UserWarning,\n"
          ]
        },
        {
          "output_type": "stream",
          "name": "stdout",
          "text": [
            "10/10 [==============================] - 3s 5ms/step - loss: 0.1861 - mean_squared_error: 0.1861\n"
          ]
        },
        {
          "output_type": "stream",
          "name": "stderr",
          "text": [
            "/usr/local/lib/python3.7/dist-packages/sklearn/model_selection/_validation.py:774: UserWarning: Scoring failed. The score on this train-test partition for these parameters will be set to nan. Details: \n",
            "Traceback (most recent call last):\n",
            "  File \"/usr/local/lib/python3.7/dist-packages/sklearn/model_selection/_validation.py\", line 761, in _score\n",
            "    scores = scorer(estimator, X_test, y_test)\n",
            "  File \"/usr/local/lib/python3.7/dist-packages/sklearn/metrics/_scorer.py\", line 221, in __call__\n",
            "    sample_weight=sample_weight,\n",
            "  File \"/usr/local/lib/python3.7/dist-packages/sklearn/metrics/_scorer.py\", line 264, in _score\n",
            "    return self._sign * self._score_func(y_true, y_pred, **self._kwargs)\n",
            "  File \"/usr/local/lib/python3.7/dist-packages/sklearn/metrics/_regression.py\", line 439, in mean_squared_error\n",
            "    y_true, y_pred, multioutput\n",
            "  File \"/usr/local/lib/python3.7/dist-packages/sklearn/metrics/_regression.py\", line 107, in _check_reg_targets\n",
            "    y_true.shape[1], y_pred.shape[1]\n",
            "ValueError: y_true and y_pred have different number of output (1!=7)\n",
            "\n",
            "  UserWarning,\n"
          ]
        },
        {
          "output_type": "stream",
          "name": "stdout",
          "text": [
            "10/10 [==============================] - 3s 5ms/step - loss: 0.0867 - mean_squared_error: 0.0867\n"
          ]
        },
        {
          "output_type": "stream",
          "name": "stderr",
          "text": [
            "/usr/local/lib/python3.7/dist-packages/sklearn/model_selection/_validation.py:774: UserWarning: Scoring failed. The score on this train-test partition for these parameters will be set to nan. Details: \n",
            "Traceback (most recent call last):\n",
            "  File \"/usr/local/lib/python3.7/dist-packages/sklearn/model_selection/_validation.py\", line 761, in _score\n",
            "    scores = scorer(estimator, X_test, y_test)\n",
            "  File \"/usr/local/lib/python3.7/dist-packages/sklearn/metrics/_scorer.py\", line 221, in __call__\n",
            "    sample_weight=sample_weight,\n",
            "  File \"/usr/local/lib/python3.7/dist-packages/sklearn/metrics/_scorer.py\", line 264, in _score\n",
            "    return self._sign * self._score_func(y_true, y_pred, **self._kwargs)\n",
            "  File \"/usr/local/lib/python3.7/dist-packages/sklearn/metrics/_regression.py\", line 439, in mean_squared_error\n",
            "    y_true, y_pred, multioutput\n",
            "  File \"/usr/local/lib/python3.7/dist-packages/sklearn/metrics/_regression.py\", line 107, in _check_reg_targets\n",
            "    y_true.shape[1], y_pred.shape[1]\n",
            "ValueError: y_true and y_pred have different number of output (1!=7)\n",
            "\n",
            "  UserWarning,\n"
          ]
        },
        {
          "output_type": "stream",
          "name": "stdout",
          "text": [
            "10/10 [==============================] - 3s 6ms/step - loss: 0.1975 - mean_squared_error: 0.1975\n"
          ]
        },
        {
          "output_type": "stream",
          "name": "stderr",
          "text": [
            "/usr/local/lib/python3.7/dist-packages/sklearn/model_selection/_validation.py:774: UserWarning: Scoring failed. The score on this train-test partition for these parameters will be set to nan. Details: \n",
            "Traceback (most recent call last):\n",
            "  File \"/usr/local/lib/python3.7/dist-packages/sklearn/model_selection/_validation.py\", line 761, in _score\n",
            "    scores = scorer(estimator, X_test, y_test)\n",
            "  File \"/usr/local/lib/python3.7/dist-packages/sklearn/metrics/_scorer.py\", line 221, in __call__\n",
            "    sample_weight=sample_weight,\n",
            "  File \"/usr/local/lib/python3.7/dist-packages/sklearn/metrics/_scorer.py\", line 264, in _score\n",
            "    return self._sign * self._score_func(y_true, y_pred, **self._kwargs)\n",
            "  File \"/usr/local/lib/python3.7/dist-packages/sklearn/metrics/_regression.py\", line 439, in mean_squared_error\n",
            "    y_true, y_pred, multioutput\n",
            "  File \"/usr/local/lib/python3.7/dist-packages/sklearn/metrics/_regression.py\", line 107, in _check_reg_targets\n",
            "    y_true.shape[1], y_pred.shape[1]\n",
            "ValueError: y_true and y_pred have different number of output (1!=7)\n",
            "\n",
            "  UserWarning,\n"
          ]
        },
        {
          "output_type": "stream",
          "name": "stdout",
          "text": [
            "10/10 [==============================] - 3s 5ms/step - loss: 0.2194 - mean_squared_error: 0.2194\n"
          ]
        },
        {
          "output_type": "stream",
          "name": "stderr",
          "text": [
            "/usr/local/lib/python3.7/dist-packages/sklearn/model_selection/_validation.py:774: UserWarning: Scoring failed. The score on this train-test partition for these parameters will be set to nan. Details: \n",
            "Traceback (most recent call last):\n",
            "  File \"/usr/local/lib/python3.7/dist-packages/sklearn/model_selection/_validation.py\", line 761, in _score\n",
            "    scores = scorer(estimator, X_test, y_test)\n",
            "  File \"/usr/local/lib/python3.7/dist-packages/sklearn/metrics/_scorer.py\", line 221, in __call__\n",
            "    sample_weight=sample_weight,\n",
            "  File \"/usr/local/lib/python3.7/dist-packages/sklearn/metrics/_scorer.py\", line 264, in _score\n",
            "    return self._sign * self._score_func(y_true, y_pred, **self._kwargs)\n",
            "  File \"/usr/local/lib/python3.7/dist-packages/sklearn/metrics/_regression.py\", line 439, in mean_squared_error\n",
            "    y_true, y_pred, multioutput\n",
            "  File \"/usr/local/lib/python3.7/dist-packages/sklearn/metrics/_regression.py\", line 107, in _check_reg_targets\n",
            "    y_true.shape[1], y_pred.shape[1]\n",
            "ValueError: y_true and y_pred have different number of output (1!=7)\n",
            "\n",
            "  UserWarning,\n"
          ]
        },
        {
          "output_type": "stream",
          "name": "stdout",
          "text": [
            "10/10 [==============================] - 3s 5ms/step - loss: 0.2060 - mean_squared_error: 0.2060\n"
          ]
        },
        {
          "output_type": "stream",
          "name": "stderr",
          "text": [
            "/usr/local/lib/python3.7/dist-packages/sklearn/model_selection/_validation.py:774: UserWarning: Scoring failed. The score on this train-test partition for these parameters will be set to nan. Details: \n",
            "Traceback (most recent call last):\n",
            "  File \"/usr/local/lib/python3.7/dist-packages/sklearn/model_selection/_validation.py\", line 761, in _score\n",
            "    scores = scorer(estimator, X_test, y_test)\n",
            "  File \"/usr/local/lib/python3.7/dist-packages/sklearn/metrics/_scorer.py\", line 221, in __call__\n",
            "    sample_weight=sample_weight,\n",
            "  File \"/usr/local/lib/python3.7/dist-packages/sklearn/metrics/_scorer.py\", line 264, in _score\n",
            "    return self._sign * self._score_func(y_true, y_pred, **self._kwargs)\n",
            "  File \"/usr/local/lib/python3.7/dist-packages/sklearn/metrics/_regression.py\", line 439, in mean_squared_error\n",
            "    y_true, y_pred, multioutput\n",
            "  File \"/usr/local/lib/python3.7/dist-packages/sklearn/metrics/_regression.py\", line 107, in _check_reg_targets\n",
            "    y_true.shape[1], y_pred.shape[1]\n",
            "ValueError: y_true and y_pred have different number of output (1!=7)\n",
            "\n",
            "  UserWarning,\n"
          ]
        },
        {
          "output_type": "stream",
          "name": "stdout",
          "text": [
            "10/10 [==============================] - 3s 5ms/step - loss: 0.1445 - mean_squared_error: 0.1445\n"
          ]
        },
        {
          "output_type": "stream",
          "name": "stderr",
          "text": [
            "/usr/local/lib/python3.7/dist-packages/sklearn/model_selection/_validation.py:774: UserWarning: Scoring failed. The score on this train-test partition for these parameters will be set to nan. Details: \n",
            "Traceback (most recent call last):\n",
            "  File \"/usr/local/lib/python3.7/dist-packages/sklearn/model_selection/_validation.py\", line 761, in _score\n",
            "    scores = scorer(estimator, X_test, y_test)\n",
            "  File \"/usr/local/lib/python3.7/dist-packages/sklearn/metrics/_scorer.py\", line 221, in __call__\n",
            "    sample_weight=sample_weight,\n",
            "  File \"/usr/local/lib/python3.7/dist-packages/sklearn/metrics/_scorer.py\", line 264, in _score\n",
            "    return self._sign * self._score_func(y_true, y_pred, **self._kwargs)\n",
            "  File \"/usr/local/lib/python3.7/dist-packages/sklearn/metrics/_regression.py\", line 439, in mean_squared_error\n",
            "    y_true, y_pred, multioutput\n",
            "  File \"/usr/local/lib/python3.7/dist-packages/sklearn/metrics/_regression.py\", line 107, in _check_reg_targets\n",
            "    y_true.shape[1], y_pred.shape[1]\n",
            "ValueError: y_true and y_pred have different number of output (1!=7)\n",
            "\n",
            "  UserWarning,\n"
          ]
        },
        {
          "output_type": "stream",
          "name": "stdout",
          "text": [
            "10/10 [==============================] - 3s 5ms/step - loss: 0.2064 - mean_squared_error: 0.2064\n"
          ]
        },
        {
          "output_type": "stream",
          "name": "stderr",
          "text": [
            "/usr/local/lib/python3.7/dist-packages/sklearn/model_selection/_validation.py:774: UserWarning: Scoring failed. The score on this train-test partition for these parameters will be set to nan. Details: \n",
            "Traceback (most recent call last):\n",
            "  File \"/usr/local/lib/python3.7/dist-packages/sklearn/model_selection/_validation.py\", line 761, in _score\n",
            "    scores = scorer(estimator, X_test, y_test)\n",
            "  File \"/usr/local/lib/python3.7/dist-packages/sklearn/metrics/_scorer.py\", line 221, in __call__\n",
            "    sample_weight=sample_weight,\n",
            "  File \"/usr/local/lib/python3.7/dist-packages/sklearn/metrics/_scorer.py\", line 264, in _score\n",
            "    return self._sign * self._score_func(y_true, y_pred, **self._kwargs)\n",
            "  File \"/usr/local/lib/python3.7/dist-packages/sklearn/metrics/_regression.py\", line 439, in mean_squared_error\n",
            "    y_true, y_pred, multioutput\n",
            "  File \"/usr/local/lib/python3.7/dist-packages/sklearn/metrics/_regression.py\", line 107, in _check_reg_targets\n",
            "    y_true.shape[1], y_pred.shape[1]\n",
            "ValueError: y_true and y_pred have different number of output (1!=7)\n",
            "\n",
            "  UserWarning,\n"
          ]
        },
        {
          "output_type": "stream",
          "name": "stdout",
          "text": [
            "10/10 [==============================] - 3s 6ms/step - loss: 0.1689 - mean_squared_error: 0.1689\n"
          ]
        },
        {
          "output_type": "stream",
          "name": "stderr",
          "text": [
            "/usr/local/lib/python3.7/dist-packages/sklearn/model_selection/_validation.py:774: UserWarning: Scoring failed. The score on this train-test partition for these parameters will be set to nan. Details: \n",
            "Traceback (most recent call last):\n",
            "  File \"/usr/local/lib/python3.7/dist-packages/sklearn/model_selection/_validation.py\", line 761, in _score\n",
            "    scores = scorer(estimator, X_test, y_test)\n",
            "  File \"/usr/local/lib/python3.7/dist-packages/sklearn/metrics/_scorer.py\", line 221, in __call__\n",
            "    sample_weight=sample_weight,\n",
            "  File \"/usr/local/lib/python3.7/dist-packages/sklearn/metrics/_scorer.py\", line 264, in _score\n",
            "    return self._sign * self._score_func(y_true, y_pred, **self._kwargs)\n",
            "  File \"/usr/local/lib/python3.7/dist-packages/sklearn/metrics/_regression.py\", line 439, in mean_squared_error\n",
            "    y_true, y_pred, multioutput\n",
            "  File \"/usr/local/lib/python3.7/dist-packages/sklearn/metrics/_regression.py\", line 107, in _check_reg_targets\n",
            "    y_true.shape[1], y_pred.shape[1]\n",
            "ValueError: y_true and y_pred have different number of output (1!=7)\n",
            "\n",
            "  UserWarning,\n"
          ]
        },
        {
          "output_type": "stream",
          "name": "stdout",
          "text": [
            "10/10 [==============================] - 3s 7ms/step - loss: 0.1248 - mean_squared_error: 0.1248\n"
          ]
        },
        {
          "output_type": "stream",
          "name": "stderr",
          "text": [
            "/usr/local/lib/python3.7/dist-packages/sklearn/model_selection/_validation.py:774: UserWarning: Scoring failed. The score on this train-test partition for these parameters will be set to nan. Details: \n",
            "Traceback (most recent call last):\n",
            "  File \"/usr/local/lib/python3.7/dist-packages/sklearn/model_selection/_validation.py\", line 761, in _score\n",
            "    scores = scorer(estimator, X_test, y_test)\n",
            "  File \"/usr/local/lib/python3.7/dist-packages/sklearn/metrics/_scorer.py\", line 221, in __call__\n",
            "    sample_weight=sample_weight,\n",
            "  File \"/usr/local/lib/python3.7/dist-packages/sklearn/metrics/_scorer.py\", line 264, in _score\n",
            "    return self._sign * self._score_func(y_true, y_pred, **self._kwargs)\n",
            "  File \"/usr/local/lib/python3.7/dist-packages/sklearn/metrics/_regression.py\", line 439, in mean_squared_error\n",
            "    y_true, y_pred, multioutput\n",
            "  File \"/usr/local/lib/python3.7/dist-packages/sklearn/metrics/_regression.py\", line 107, in _check_reg_targets\n",
            "    y_true.shape[1], y_pred.shape[1]\n",
            "ValueError: y_true and y_pred have different number of output (1!=7)\n",
            "\n",
            "  UserWarning,\n"
          ]
        },
        {
          "output_type": "stream",
          "name": "stdout",
          "text": [
            "10/10 [==============================] - 3s 6ms/step - loss: 0.2297 - mean_squared_error: 0.2297\n"
          ]
        },
        {
          "output_type": "stream",
          "name": "stderr",
          "text": [
            "/usr/local/lib/python3.7/dist-packages/sklearn/model_selection/_validation.py:774: UserWarning: Scoring failed. The score on this train-test partition for these parameters will be set to nan. Details: \n",
            "Traceback (most recent call last):\n",
            "  File \"/usr/local/lib/python3.7/dist-packages/sklearn/model_selection/_validation.py\", line 761, in _score\n",
            "    scores = scorer(estimator, X_test, y_test)\n",
            "  File \"/usr/local/lib/python3.7/dist-packages/sklearn/metrics/_scorer.py\", line 221, in __call__\n",
            "    sample_weight=sample_weight,\n",
            "  File \"/usr/local/lib/python3.7/dist-packages/sklearn/metrics/_scorer.py\", line 264, in _score\n",
            "    return self._sign * self._score_func(y_true, y_pred, **self._kwargs)\n",
            "  File \"/usr/local/lib/python3.7/dist-packages/sklearn/metrics/_regression.py\", line 439, in mean_squared_error\n",
            "    y_true, y_pred, multioutput\n",
            "  File \"/usr/local/lib/python3.7/dist-packages/sklearn/metrics/_regression.py\", line 107, in _check_reg_targets\n",
            "    y_true.shape[1], y_pred.shape[1]\n",
            "ValueError: y_true and y_pred have different number of output (1!=7)\n",
            "\n",
            "  UserWarning,\n"
          ]
        },
        {
          "output_type": "stream",
          "name": "stdout",
          "text": [
            "10/10 [==============================] - 3s 5ms/step - loss: 0.1646 - mean_squared_error: 0.1646\n"
          ]
        },
        {
          "output_type": "stream",
          "name": "stderr",
          "text": [
            "/usr/local/lib/python3.7/dist-packages/sklearn/model_selection/_validation.py:774: UserWarning: Scoring failed. The score on this train-test partition for these parameters will be set to nan. Details: \n",
            "Traceback (most recent call last):\n",
            "  File \"/usr/local/lib/python3.7/dist-packages/sklearn/model_selection/_validation.py\", line 761, in _score\n",
            "    scores = scorer(estimator, X_test, y_test)\n",
            "  File \"/usr/local/lib/python3.7/dist-packages/sklearn/metrics/_scorer.py\", line 221, in __call__\n",
            "    sample_weight=sample_weight,\n",
            "  File \"/usr/local/lib/python3.7/dist-packages/sklearn/metrics/_scorer.py\", line 264, in _score\n",
            "    return self._sign * self._score_func(y_true, y_pred, **self._kwargs)\n",
            "  File \"/usr/local/lib/python3.7/dist-packages/sklearn/metrics/_regression.py\", line 439, in mean_squared_error\n",
            "    y_true, y_pred, multioutput\n",
            "  File \"/usr/local/lib/python3.7/dist-packages/sklearn/metrics/_regression.py\", line 107, in _check_reg_targets\n",
            "    y_true.shape[1], y_pred.shape[1]\n",
            "ValueError: y_true and y_pred have different number of output (1!=7)\n",
            "\n",
            "  UserWarning,\n"
          ]
        },
        {
          "output_type": "stream",
          "name": "stdout",
          "text": [
            "10/10 [==============================] - 3s 5ms/step - loss: 0.1913 - mean_squared_error: 0.1913\n"
          ]
        },
        {
          "output_type": "stream",
          "name": "stderr",
          "text": [
            "/usr/local/lib/python3.7/dist-packages/sklearn/model_selection/_validation.py:774: UserWarning: Scoring failed. The score on this train-test partition for these parameters will be set to nan. Details: \n",
            "Traceback (most recent call last):\n",
            "  File \"/usr/local/lib/python3.7/dist-packages/sklearn/model_selection/_validation.py\", line 761, in _score\n",
            "    scores = scorer(estimator, X_test, y_test)\n",
            "  File \"/usr/local/lib/python3.7/dist-packages/sklearn/metrics/_scorer.py\", line 221, in __call__\n",
            "    sample_weight=sample_weight,\n",
            "  File \"/usr/local/lib/python3.7/dist-packages/sklearn/metrics/_scorer.py\", line 264, in _score\n",
            "    return self._sign * self._score_func(y_true, y_pred, **self._kwargs)\n",
            "  File \"/usr/local/lib/python3.7/dist-packages/sklearn/metrics/_regression.py\", line 439, in mean_squared_error\n",
            "    y_true, y_pred, multioutput\n",
            "  File \"/usr/local/lib/python3.7/dist-packages/sklearn/metrics/_regression.py\", line 107, in _check_reg_targets\n",
            "    y_true.shape[1], y_pred.shape[1]\n",
            "ValueError: y_true and y_pred have different number of output (1!=7)\n",
            "\n",
            "  UserWarning,\n"
          ]
        },
        {
          "output_type": "stream",
          "name": "stdout",
          "text": [
            "10/10 [==============================] - 2s 5ms/step - loss: 0.2085 - mean_squared_error: 0.2085\n"
          ]
        },
        {
          "output_type": "stream",
          "name": "stderr",
          "text": [
            "/usr/local/lib/python3.7/dist-packages/sklearn/model_selection/_validation.py:774: UserWarning: Scoring failed. The score on this train-test partition for these parameters will be set to nan. Details: \n",
            "Traceback (most recent call last):\n",
            "  File \"/usr/local/lib/python3.7/dist-packages/sklearn/model_selection/_validation.py\", line 761, in _score\n",
            "    scores = scorer(estimator, X_test, y_test)\n",
            "  File \"/usr/local/lib/python3.7/dist-packages/sklearn/metrics/_scorer.py\", line 221, in __call__\n",
            "    sample_weight=sample_weight,\n",
            "  File \"/usr/local/lib/python3.7/dist-packages/sklearn/metrics/_scorer.py\", line 264, in _score\n",
            "    return self._sign * self._score_func(y_true, y_pred, **self._kwargs)\n",
            "  File \"/usr/local/lib/python3.7/dist-packages/sklearn/metrics/_regression.py\", line 439, in mean_squared_error\n",
            "    y_true, y_pred, multioutput\n",
            "  File \"/usr/local/lib/python3.7/dist-packages/sklearn/metrics/_regression.py\", line 107, in _check_reg_targets\n",
            "    y_true.shape[1], y_pred.shape[1]\n",
            "ValueError: y_true and y_pred have different number of output (1!=7)\n",
            "\n",
            "  UserWarning,\n"
          ]
        },
        {
          "output_type": "stream",
          "name": "stdout",
          "text": [
            "10/10 [==============================] - 3s 5ms/step - loss: 0.1209 - mean_squared_error: 0.1209\n"
          ]
        },
        {
          "output_type": "stream",
          "name": "stderr",
          "text": [
            "/usr/local/lib/python3.7/dist-packages/sklearn/model_selection/_validation.py:774: UserWarning: Scoring failed. The score on this train-test partition for these parameters will be set to nan. Details: \n",
            "Traceback (most recent call last):\n",
            "  File \"/usr/local/lib/python3.7/dist-packages/sklearn/model_selection/_validation.py\", line 761, in _score\n",
            "    scores = scorer(estimator, X_test, y_test)\n",
            "  File \"/usr/local/lib/python3.7/dist-packages/sklearn/metrics/_scorer.py\", line 221, in __call__\n",
            "    sample_weight=sample_weight,\n",
            "  File \"/usr/local/lib/python3.7/dist-packages/sklearn/metrics/_scorer.py\", line 264, in _score\n",
            "    return self._sign * self._score_func(y_true, y_pred, **self._kwargs)\n",
            "  File \"/usr/local/lib/python3.7/dist-packages/sklearn/metrics/_regression.py\", line 439, in mean_squared_error\n",
            "    y_true, y_pred, multioutput\n",
            "  File \"/usr/local/lib/python3.7/dist-packages/sklearn/metrics/_regression.py\", line 107, in _check_reg_targets\n",
            "    y_true.shape[1], y_pred.shape[1]\n",
            "ValueError: y_true and y_pred have different number of output (1!=7)\n",
            "\n",
            "  UserWarning,\n"
          ]
        },
        {
          "output_type": "stream",
          "name": "stdout",
          "text": [
            "10/10 [==============================] - 3s 5ms/step - loss: 0.1381 - mean_squared_error: 0.1381\n"
          ]
        },
        {
          "output_type": "stream",
          "name": "stderr",
          "text": [
            "/usr/local/lib/python3.7/dist-packages/sklearn/model_selection/_validation.py:774: UserWarning: Scoring failed. The score on this train-test partition for these parameters will be set to nan. Details: \n",
            "Traceback (most recent call last):\n",
            "  File \"/usr/local/lib/python3.7/dist-packages/sklearn/model_selection/_validation.py\", line 761, in _score\n",
            "    scores = scorer(estimator, X_test, y_test)\n",
            "  File \"/usr/local/lib/python3.7/dist-packages/sklearn/metrics/_scorer.py\", line 221, in __call__\n",
            "    sample_weight=sample_weight,\n",
            "  File \"/usr/local/lib/python3.7/dist-packages/sklearn/metrics/_scorer.py\", line 264, in _score\n",
            "    return self._sign * self._score_func(y_true, y_pred, **self._kwargs)\n",
            "  File \"/usr/local/lib/python3.7/dist-packages/sklearn/metrics/_regression.py\", line 439, in mean_squared_error\n",
            "    y_true, y_pred, multioutput\n",
            "  File \"/usr/local/lib/python3.7/dist-packages/sklearn/metrics/_regression.py\", line 107, in _check_reg_targets\n",
            "    y_true.shape[1], y_pred.shape[1]\n",
            "ValueError: y_true and y_pred have different number of output (1!=7)\n",
            "\n",
            "  UserWarning,\n"
          ]
        },
        {
          "output_type": "stream",
          "name": "stdout",
          "text": [
            "10/10 [==============================] - 2s 5ms/step - loss: 0.1177 - mean_squared_error: 0.1177\n"
          ]
        },
        {
          "output_type": "stream",
          "name": "stderr",
          "text": [
            "/usr/local/lib/python3.7/dist-packages/sklearn/model_selection/_validation.py:774: UserWarning: Scoring failed. The score on this train-test partition for these parameters will be set to nan. Details: \n",
            "Traceback (most recent call last):\n",
            "  File \"/usr/local/lib/python3.7/dist-packages/sklearn/model_selection/_validation.py\", line 761, in _score\n",
            "    scores = scorer(estimator, X_test, y_test)\n",
            "  File \"/usr/local/lib/python3.7/dist-packages/sklearn/metrics/_scorer.py\", line 221, in __call__\n",
            "    sample_weight=sample_weight,\n",
            "  File \"/usr/local/lib/python3.7/dist-packages/sklearn/metrics/_scorer.py\", line 264, in _score\n",
            "    return self._sign * self._score_func(y_true, y_pred, **self._kwargs)\n",
            "  File \"/usr/local/lib/python3.7/dist-packages/sklearn/metrics/_regression.py\", line 439, in mean_squared_error\n",
            "    y_true, y_pred, multioutput\n",
            "  File \"/usr/local/lib/python3.7/dist-packages/sklearn/metrics/_regression.py\", line 107, in _check_reg_targets\n",
            "    y_true.shape[1], y_pred.shape[1]\n",
            "ValueError: y_true and y_pred have different number of output (1!=7)\n",
            "\n",
            "  UserWarning,\n"
          ]
        },
        {
          "output_type": "stream",
          "name": "stdout",
          "text": [
            "10/10 [==============================] - 2s 6ms/step - loss: 0.1712 - mean_squared_error: 0.1712\n"
          ]
        },
        {
          "output_type": "stream",
          "name": "stderr",
          "text": [
            "/usr/local/lib/python3.7/dist-packages/sklearn/model_selection/_validation.py:774: UserWarning: Scoring failed. The score on this train-test partition for these parameters will be set to nan. Details: \n",
            "Traceback (most recent call last):\n",
            "  File \"/usr/local/lib/python3.7/dist-packages/sklearn/model_selection/_validation.py\", line 761, in _score\n",
            "    scores = scorer(estimator, X_test, y_test)\n",
            "  File \"/usr/local/lib/python3.7/dist-packages/sklearn/metrics/_scorer.py\", line 221, in __call__\n",
            "    sample_weight=sample_weight,\n",
            "  File \"/usr/local/lib/python3.7/dist-packages/sklearn/metrics/_scorer.py\", line 264, in _score\n",
            "    return self._sign * self._score_func(y_true, y_pred, **self._kwargs)\n",
            "  File \"/usr/local/lib/python3.7/dist-packages/sklearn/metrics/_regression.py\", line 439, in mean_squared_error\n",
            "    y_true, y_pred, multioutput\n",
            "  File \"/usr/local/lib/python3.7/dist-packages/sklearn/metrics/_regression.py\", line 107, in _check_reg_targets\n",
            "    y_true.shape[1], y_pred.shape[1]\n",
            "ValueError: y_true and y_pred have different number of output (1!=7)\n",
            "\n",
            "  UserWarning,\n"
          ]
        },
        {
          "output_type": "stream",
          "name": "stdout",
          "text": [
            "10/10 [==============================] - 3s 7ms/step - loss: 0.1011 - mean_squared_error: 0.1011\n"
          ]
        },
        {
          "output_type": "stream",
          "name": "stderr",
          "text": [
            "/usr/local/lib/python3.7/dist-packages/sklearn/model_selection/_validation.py:774: UserWarning: Scoring failed. The score on this train-test partition for these parameters will be set to nan. Details: \n",
            "Traceback (most recent call last):\n",
            "  File \"/usr/local/lib/python3.7/dist-packages/sklearn/model_selection/_validation.py\", line 761, in _score\n",
            "    scores = scorer(estimator, X_test, y_test)\n",
            "  File \"/usr/local/lib/python3.7/dist-packages/sklearn/metrics/_scorer.py\", line 221, in __call__\n",
            "    sample_weight=sample_weight,\n",
            "  File \"/usr/local/lib/python3.7/dist-packages/sklearn/metrics/_scorer.py\", line 264, in _score\n",
            "    return self._sign * self._score_func(y_true, y_pred, **self._kwargs)\n",
            "  File \"/usr/local/lib/python3.7/dist-packages/sklearn/metrics/_regression.py\", line 439, in mean_squared_error\n",
            "    y_true, y_pred, multioutput\n",
            "  File \"/usr/local/lib/python3.7/dist-packages/sklearn/metrics/_regression.py\", line 107, in _check_reg_targets\n",
            "    y_true.shape[1], y_pred.shape[1]\n",
            "ValueError: y_true and y_pred have different number of output (1!=7)\n",
            "\n",
            "  UserWarning,\n"
          ]
        },
        {
          "output_type": "stream",
          "name": "stdout",
          "text": [
            "10/10 [==============================] - 3s 5ms/step - loss: 0.1112 - mean_squared_error: 0.1112\n"
          ]
        },
        {
          "output_type": "stream",
          "name": "stderr",
          "text": [
            "/usr/local/lib/python3.7/dist-packages/sklearn/model_selection/_validation.py:774: UserWarning: Scoring failed. The score on this train-test partition for these parameters will be set to nan. Details: \n",
            "Traceback (most recent call last):\n",
            "  File \"/usr/local/lib/python3.7/dist-packages/sklearn/model_selection/_validation.py\", line 761, in _score\n",
            "    scores = scorer(estimator, X_test, y_test)\n",
            "  File \"/usr/local/lib/python3.7/dist-packages/sklearn/metrics/_scorer.py\", line 221, in __call__\n",
            "    sample_weight=sample_weight,\n",
            "  File \"/usr/local/lib/python3.7/dist-packages/sklearn/metrics/_scorer.py\", line 264, in _score\n",
            "    return self._sign * self._score_func(y_true, y_pred, **self._kwargs)\n",
            "  File \"/usr/local/lib/python3.7/dist-packages/sklearn/metrics/_regression.py\", line 439, in mean_squared_error\n",
            "    y_true, y_pred, multioutput\n",
            "  File \"/usr/local/lib/python3.7/dist-packages/sklearn/metrics/_regression.py\", line 107, in _check_reg_targets\n",
            "    y_true.shape[1], y_pred.shape[1]\n",
            "ValueError: y_true and y_pred have different number of output (1!=7)\n",
            "\n",
            "  UserWarning,\n"
          ]
        },
        {
          "output_type": "stream",
          "name": "stdout",
          "text": [
            "10/10 [==============================] - 3s 5ms/step - loss: 0.1063 - mean_squared_error: 0.1063\n"
          ]
        },
        {
          "output_type": "stream",
          "name": "stderr",
          "text": [
            "/usr/local/lib/python3.7/dist-packages/sklearn/model_selection/_validation.py:774: UserWarning: Scoring failed. The score on this train-test partition for these parameters will be set to nan. Details: \n",
            "Traceback (most recent call last):\n",
            "  File \"/usr/local/lib/python3.7/dist-packages/sklearn/model_selection/_validation.py\", line 761, in _score\n",
            "    scores = scorer(estimator, X_test, y_test)\n",
            "  File \"/usr/local/lib/python3.7/dist-packages/sklearn/metrics/_scorer.py\", line 221, in __call__\n",
            "    sample_weight=sample_weight,\n",
            "  File \"/usr/local/lib/python3.7/dist-packages/sklearn/metrics/_scorer.py\", line 264, in _score\n",
            "    return self._sign * self._score_func(y_true, y_pred, **self._kwargs)\n",
            "  File \"/usr/local/lib/python3.7/dist-packages/sklearn/metrics/_regression.py\", line 439, in mean_squared_error\n",
            "    y_true, y_pred, multioutput\n",
            "  File \"/usr/local/lib/python3.7/dist-packages/sklearn/metrics/_regression.py\", line 107, in _check_reg_targets\n",
            "    y_true.shape[1], y_pred.shape[1]\n",
            "ValueError: y_true and y_pred have different number of output (1!=7)\n",
            "\n",
            "  UserWarning,\n"
          ]
        },
        {
          "output_type": "stream",
          "name": "stdout",
          "text": [
            "10/10 [==============================] - 2s 5ms/step - loss: 0.1919 - mean_squared_error: 0.1919\n"
          ]
        },
        {
          "output_type": "stream",
          "name": "stderr",
          "text": [
            "/usr/local/lib/python3.7/dist-packages/sklearn/model_selection/_validation.py:774: UserWarning: Scoring failed. The score on this train-test partition for these parameters will be set to nan. Details: \n",
            "Traceback (most recent call last):\n",
            "  File \"/usr/local/lib/python3.7/dist-packages/sklearn/model_selection/_validation.py\", line 761, in _score\n",
            "    scores = scorer(estimator, X_test, y_test)\n",
            "  File \"/usr/local/lib/python3.7/dist-packages/sklearn/metrics/_scorer.py\", line 221, in __call__\n",
            "    sample_weight=sample_weight,\n",
            "  File \"/usr/local/lib/python3.7/dist-packages/sklearn/metrics/_scorer.py\", line 264, in _score\n",
            "    return self._sign * self._score_func(y_true, y_pred, **self._kwargs)\n",
            "  File \"/usr/local/lib/python3.7/dist-packages/sklearn/metrics/_regression.py\", line 439, in mean_squared_error\n",
            "    y_true, y_pred, multioutput\n",
            "  File \"/usr/local/lib/python3.7/dist-packages/sklearn/metrics/_regression.py\", line 107, in _check_reg_targets\n",
            "    y_true.shape[1], y_pred.shape[1]\n",
            "ValueError: y_true and y_pred have different number of output (1!=7)\n",
            "\n",
            "  UserWarning,\n"
          ]
        },
        {
          "output_type": "stream",
          "name": "stdout",
          "text": [
            "10/10 [==============================] - 3s 5ms/step - loss: 0.1018 - mean_squared_error: 0.1018\n"
          ]
        },
        {
          "output_type": "stream",
          "name": "stderr",
          "text": [
            "/usr/local/lib/python3.7/dist-packages/sklearn/model_selection/_validation.py:774: UserWarning: Scoring failed. The score on this train-test partition for these parameters will be set to nan. Details: \n",
            "Traceback (most recent call last):\n",
            "  File \"/usr/local/lib/python3.7/dist-packages/sklearn/model_selection/_validation.py\", line 761, in _score\n",
            "    scores = scorer(estimator, X_test, y_test)\n",
            "  File \"/usr/local/lib/python3.7/dist-packages/sklearn/metrics/_scorer.py\", line 221, in __call__\n",
            "    sample_weight=sample_weight,\n",
            "  File \"/usr/local/lib/python3.7/dist-packages/sklearn/metrics/_scorer.py\", line 264, in _score\n",
            "    return self._sign * self._score_func(y_true, y_pred, **self._kwargs)\n",
            "  File \"/usr/local/lib/python3.7/dist-packages/sklearn/metrics/_regression.py\", line 439, in mean_squared_error\n",
            "    y_true, y_pred, multioutput\n",
            "  File \"/usr/local/lib/python3.7/dist-packages/sklearn/metrics/_regression.py\", line 107, in _check_reg_targets\n",
            "    y_true.shape[1], y_pred.shape[1]\n",
            "ValueError: y_true and y_pred have different number of output (1!=7)\n",
            "\n",
            "  UserWarning,\n"
          ]
        },
        {
          "output_type": "stream",
          "name": "stdout",
          "text": [
            "10/10 [==============================] - 3s 5ms/step - loss: 0.0825 - mean_squared_error: 0.0825\n"
          ]
        },
        {
          "output_type": "stream",
          "name": "stderr",
          "text": [
            "/usr/local/lib/python3.7/dist-packages/sklearn/model_selection/_validation.py:774: UserWarning: Scoring failed. The score on this train-test partition for these parameters will be set to nan. Details: \n",
            "Traceback (most recent call last):\n",
            "  File \"/usr/local/lib/python3.7/dist-packages/sklearn/model_selection/_validation.py\", line 761, in _score\n",
            "    scores = scorer(estimator, X_test, y_test)\n",
            "  File \"/usr/local/lib/python3.7/dist-packages/sklearn/metrics/_scorer.py\", line 221, in __call__\n",
            "    sample_weight=sample_weight,\n",
            "  File \"/usr/local/lib/python3.7/dist-packages/sklearn/metrics/_scorer.py\", line 264, in _score\n",
            "    return self._sign * self._score_func(y_true, y_pred, **self._kwargs)\n",
            "  File \"/usr/local/lib/python3.7/dist-packages/sklearn/metrics/_regression.py\", line 439, in mean_squared_error\n",
            "    y_true, y_pred, multioutput\n",
            "  File \"/usr/local/lib/python3.7/dist-packages/sklearn/metrics/_regression.py\", line 107, in _check_reg_targets\n",
            "    y_true.shape[1], y_pred.shape[1]\n",
            "ValueError: y_true and y_pred have different number of output (1!=7)\n",
            "\n",
            "  UserWarning,\n"
          ]
        },
        {
          "output_type": "stream",
          "name": "stdout",
          "text": [
            "10/10 [==============================] - 3s 5ms/step - loss: 0.0949 - mean_squared_error: 0.0949\n"
          ]
        },
        {
          "output_type": "stream",
          "name": "stderr",
          "text": [
            "/usr/local/lib/python3.7/dist-packages/sklearn/model_selection/_validation.py:774: UserWarning: Scoring failed. The score on this train-test partition for these parameters will be set to nan. Details: \n",
            "Traceback (most recent call last):\n",
            "  File \"/usr/local/lib/python3.7/dist-packages/sklearn/model_selection/_validation.py\", line 761, in _score\n",
            "    scores = scorer(estimator, X_test, y_test)\n",
            "  File \"/usr/local/lib/python3.7/dist-packages/sklearn/metrics/_scorer.py\", line 221, in __call__\n",
            "    sample_weight=sample_weight,\n",
            "  File \"/usr/local/lib/python3.7/dist-packages/sklearn/metrics/_scorer.py\", line 264, in _score\n",
            "    return self._sign * self._score_func(y_true, y_pred, **self._kwargs)\n",
            "  File \"/usr/local/lib/python3.7/dist-packages/sklearn/metrics/_regression.py\", line 439, in mean_squared_error\n",
            "    y_true, y_pred, multioutput\n",
            "  File \"/usr/local/lib/python3.7/dist-packages/sklearn/metrics/_regression.py\", line 107, in _check_reg_targets\n",
            "    y_true.shape[1], y_pred.shape[1]\n",
            "ValueError: y_true and y_pred have different number of output (1!=7)\n",
            "\n",
            "  UserWarning,\n"
          ]
        },
        {
          "output_type": "stream",
          "name": "stdout",
          "text": [
            "10/10 [==============================] - 3s 4ms/step - loss: 0.0760 - mean_squared_error: 0.0760\n"
          ]
        },
        {
          "output_type": "stream",
          "name": "stderr",
          "text": [
            "/usr/local/lib/python3.7/dist-packages/sklearn/model_selection/_validation.py:774: UserWarning: Scoring failed. The score on this train-test partition for these parameters will be set to nan. Details: \n",
            "Traceback (most recent call last):\n",
            "  File \"/usr/local/lib/python3.7/dist-packages/sklearn/model_selection/_validation.py\", line 761, in _score\n",
            "    scores = scorer(estimator, X_test, y_test)\n",
            "  File \"/usr/local/lib/python3.7/dist-packages/sklearn/metrics/_scorer.py\", line 221, in __call__\n",
            "    sample_weight=sample_weight,\n",
            "  File \"/usr/local/lib/python3.7/dist-packages/sklearn/metrics/_scorer.py\", line 264, in _score\n",
            "    return self._sign * self._score_func(y_true, y_pred, **self._kwargs)\n",
            "  File \"/usr/local/lib/python3.7/dist-packages/sklearn/metrics/_regression.py\", line 439, in mean_squared_error\n",
            "    y_true, y_pred, multioutput\n",
            "  File \"/usr/local/lib/python3.7/dist-packages/sklearn/metrics/_regression.py\", line 107, in _check_reg_targets\n",
            "    y_true.shape[1], y_pred.shape[1]\n",
            "ValueError: y_true and y_pred have different number of output (1!=7)\n",
            "\n",
            "  UserWarning,\n"
          ]
        },
        {
          "output_type": "stream",
          "name": "stdout",
          "text": [
            "10/10 [==============================] - 3s 5ms/step - loss: 0.1837 - mean_squared_error: 0.1837\n"
          ]
        },
        {
          "output_type": "stream",
          "name": "stderr",
          "text": [
            "/usr/local/lib/python3.7/dist-packages/sklearn/model_selection/_validation.py:774: UserWarning: Scoring failed. The score on this train-test partition for these parameters will be set to nan. Details: \n",
            "Traceback (most recent call last):\n",
            "  File \"/usr/local/lib/python3.7/dist-packages/sklearn/model_selection/_validation.py\", line 761, in _score\n",
            "    scores = scorer(estimator, X_test, y_test)\n",
            "  File \"/usr/local/lib/python3.7/dist-packages/sklearn/metrics/_scorer.py\", line 221, in __call__\n",
            "    sample_weight=sample_weight,\n",
            "  File \"/usr/local/lib/python3.7/dist-packages/sklearn/metrics/_scorer.py\", line 264, in _score\n",
            "    return self._sign * self._score_func(y_true, y_pred, **self._kwargs)\n",
            "  File \"/usr/local/lib/python3.7/dist-packages/sklearn/metrics/_regression.py\", line 439, in mean_squared_error\n",
            "    y_true, y_pred, multioutput\n",
            "  File \"/usr/local/lib/python3.7/dist-packages/sklearn/metrics/_regression.py\", line 107, in _check_reg_targets\n",
            "    y_true.shape[1], y_pred.shape[1]\n",
            "ValueError: y_true and y_pred have different number of output (1!=7)\n",
            "\n",
            "  UserWarning,\n"
          ]
        },
        {
          "output_type": "stream",
          "name": "stdout",
          "text": [
            "10/10 [==============================] - 3s 6ms/step - loss: 0.1672 - mean_squared_error: 0.1672\n"
          ]
        },
        {
          "output_type": "stream",
          "name": "stderr",
          "text": [
            "/usr/local/lib/python3.7/dist-packages/sklearn/model_selection/_validation.py:774: UserWarning: Scoring failed. The score on this train-test partition for these parameters will be set to nan. Details: \n",
            "Traceback (most recent call last):\n",
            "  File \"/usr/local/lib/python3.7/dist-packages/sklearn/model_selection/_validation.py\", line 761, in _score\n",
            "    scores = scorer(estimator, X_test, y_test)\n",
            "  File \"/usr/local/lib/python3.7/dist-packages/sklearn/metrics/_scorer.py\", line 221, in __call__\n",
            "    sample_weight=sample_weight,\n",
            "  File \"/usr/local/lib/python3.7/dist-packages/sklearn/metrics/_scorer.py\", line 264, in _score\n",
            "    return self._sign * self._score_func(y_true, y_pred, **self._kwargs)\n",
            "  File \"/usr/local/lib/python3.7/dist-packages/sklearn/metrics/_regression.py\", line 439, in mean_squared_error\n",
            "    y_true, y_pred, multioutput\n",
            "  File \"/usr/local/lib/python3.7/dist-packages/sklearn/metrics/_regression.py\", line 107, in _check_reg_targets\n",
            "    y_true.shape[1], y_pred.shape[1]\n",
            "ValueError: y_true and y_pred have different number of output (1!=7)\n",
            "\n",
            "  UserWarning,\n"
          ]
        },
        {
          "output_type": "stream",
          "name": "stdout",
          "text": [
            "5/5 [==============================] - 3s 7ms/step - loss: 0.1044 - mean_squared_error: 0.1044\n"
          ]
        },
        {
          "output_type": "stream",
          "name": "stderr",
          "text": [
            "/usr/local/lib/python3.7/dist-packages/sklearn/model_selection/_validation.py:774: UserWarning: Scoring failed. The score on this train-test partition for these parameters will be set to nan. Details: \n",
            "Traceback (most recent call last):\n",
            "  File \"/usr/local/lib/python3.7/dist-packages/sklearn/model_selection/_validation.py\", line 761, in _score\n",
            "    scores = scorer(estimator, X_test, y_test)\n",
            "  File \"/usr/local/lib/python3.7/dist-packages/sklearn/metrics/_scorer.py\", line 221, in __call__\n",
            "    sample_weight=sample_weight,\n",
            "  File \"/usr/local/lib/python3.7/dist-packages/sklearn/metrics/_scorer.py\", line 264, in _score\n",
            "    return self._sign * self._score_func(y_true, y_pred, **self._kwargs)\n",
            "  File \"/usr/local/lib/python3.7/dist-packages/sklearn/metrics/_regression.py\", line 439, in mean_squared_error\n",
            "    y_true, y_pred, multioutput\n",
            "  File \"/usr/local/lib/python3.7/dist-packages/sklearn/metrics/_regression.py\", line 107, in _check_reg_targets\n",
            "    y_true.shape[1], y_pred.shape[1]\n",
            "ValueError: y_true and y_pred have different number of output (1!=7)\n",
            "\n",
            "  UserWarning,\n"
          ]
        },
        {
          "output_type": "stream",
          "name": "stdout",
          "text": [
            "5/5 [==============================] - 3s 7ms/step - loss: 0.2553 - mean_squared_error: 0.2553\n"
          ]
        },
        {
          "output_type": "stream",
          "name": "stderr",
          "text": [
            "/usr/local/lib/python3.7/dist-packages/sklearn/model_selection/_validation.py:774: UserWarning: Scoring failed. The score on this train-test partition for these parameters will be set to nan. Details: \n",
            "Traceback (most recent call last):\n",
            "  File \"/usr/local/lib/python3.7/dist-packages/sklearn/model_selection/_validation.py\", line 761, in _score\n",
            "    scores = scorer(estimator, X_test, y_test)\n",
            "  File \"/usr/local/lib/python3.7/dist-packages/sklearn/metrics/_scorer.py\", line 221, in __call__\n",
            "    sample_weight=sample_weight,\n",
            "  File \"/usr/local/lib/python3.7/dist-packages/sklearn/metrics/_scorer.py\", line 264, in _score\n",
            "    return self._sign * self._score_func(y_true, y_pred, **self._kwargs)\n",
            "  File \"/usr/local/lib/python3.7/dist-packages/sklearn/metrics/_regression.py\", line 439, in mean_squared_error\n",
            "    y_true, y_pred, multioutput\n",
            "  File \"/usr/local/lib/python3.7/dist-packages/sklearn/metrics/_regression.py\", line 107, in _check_reg_targets\n",
            "    y_true.shape[1], y_pred.shape[1]\n",
            "ValueError: y_true and y_pred have different number of output (1!=7)\n",
            "\n",
            "  UserWarning,\n"
          ]
        },
        {
          "output_type": "stream",
          "name": "stdout",
          "text": [
            "5/5 [==============================] - 2s 6ms/step - loss: 0.0726 - mean_squared_error: 0.0726\n"
          ]
        },
        {
          "output_type": "stream",
          "name": "stderr",
          "text": [
            "/usr/local/lib/python3.7/dist-packages/sklearn/model_selection/_validation.py:774: UserWarning: Scoring failed. The score on this train-test partition for these parameters will be set to nan. Details: \n",
            "Traceback (most recent call last):\n",
            "  File \"/usr/local/lib/python3.7/dist-packages/sklearn/model_selection/_validation.py\", line 761, in _score\n",
            "    scores = scorer(estimator, X_test, y_test)\n",
            "  File \"/usr/local/lib/python3.7/dist-packages/sklearn/metrics/_scorer.py\", line 221, in __call__\n",
            "    sample_weight=sample_weight,\n",
            "  File \"/usr/local/lib/python3.7/dist-packages/sklearn/metrics/_scorer.py\", line 264, in _score\n",
            "    return self._sign * self._score_func(y_true, y_pred, **self._kwargs)\n",
            "  File \"/usr/local/lib/python3.7/dist-packages/sklearn/metrics/_regression.py\", line 439, in mean_squared_error\n",
            "    y_true, y_pred, multioutput\n",
            "  File \"/usr/local/lib/python3.7/dist-packages/sklearn/metrics/_regression.py\", line 107, in _check_reg_targets\n",
            "    y_true.shape[1], y_pred.shape[1]\n",
            "ValueError: y_true and y_pred have different number of output (1!=7)\n",
            "\n",
            "  UserWarning,\n"
          ]
        },
        {
          "output_type": "stream",
          "name": "stdout",
          "text": [
            "5/5 [==============================] - 2s 7ms/step - loss: 0.1146 - mean_squared_error: 0.1146\n"
          ]
        },
        {
          "output_type": "stream",
          "name": "stderr",
          "text": [
            "/usr/local/lib/python3.7/dist-packages/sklearn/model_selection/_validation.py:774: UserWarning: Scoring failed. The score on this train-test partition for these parameters will be set to nan. Details: \n",
            "Traceback (most recent call last):\n",
            "  File \"/usr/local/lib/python3.7/dist-packages/sklearn/model_selection/_validation.py\", line 761, in _score\n",
            "    scores = scorer(estimator, X_test, y_test)\n",
            "  File \"/usr/local/lib/python3.7/dist-packages/sklearn/metrics/_scorer.py\", line 221, in __call__\n",
            "    sample_weight=sample_weight,\n",
            "  File \"/usr/local/lib/python3.7/dist-packages/sklearn/metrics/_scorer.py\", line 264, in _score\n",
            "    return self._sign * self._score_func(y_true, y_pred, **self._kwargs)\n",
            "  File \"/usr/local/lib/python3.7/dist-packages/sklearn/metrics/_regression.py\", line 439, in mean_squared_error\n",
            "    y_true, y_pred, multioutput\n",
            "  File \"/usr/local/lib/python3.7/dist-packages/sklearn/metrics/_regression.py\", line 107, in _check_reg_targets\n",
            "    y_true.shape[1], y_pred.shape[1]\n",
            "ValueError: y_true and y_pred have different number of output (1!=7)\n",
            "\n",
            "  UserWarning,\n"
          ]
        },
        {
          "output_type": "stream",
          "name": "stdout",
          "text": [
            "5/5 [==============================] - 2s 6ms/step - loss: 0.0897 - mean_squared_error: 0.0897\n"
          ]
        },
        {
          "output_type": "stream",
          "name": "stderr",
          "text": [
            "/usr/local/lib/python3.7/dist-packages/sklearn/model_selection/_validation.py:774: UserWarning: Scoring failed. The score on this train-test partition for these parameters will be set to nan. Details: \n",
            "Traceback (most recent call last):\n",
            "  File \"/usr/local/lib/python3.7/dist-packages/sklearn/model_selection/_validation.py\", line 761, in _score\n",
            "    scores = scorer(estimator, X_test, y_test)\n",
            "  File \"/usr/local/lib/python3.7/dist-packages/sklearn/metrics/_scorer.py\", line 221, in __call__\n",
            "    sample_weight=sample_weight,\n",
            "  File \"/usr/local/lib/python3.7/dist-packages/sklearn/metrics/_scorer.py\", line 264, in _score\n",
            "    return self._sign * self._score_func(y_true, y_pred, **self._kwargs)\n",
            "  File \"/usr/local/lib/python3.7/dist-packages/sklearn/metrics/_regression.py\", line 439, in mean_squared_error\n",
            "    y_true, y_pred, multioutput\n",
            "  File \"/usr/local/lib/python3.7/dist-packages/sklearn/metrics/_regression.py\", line 107, in _check_reg_targets\n",
            "    y_true.shape[1], y_pred.shape[1]\n",
            "ValueError: y_true and y_pred have different number of output (1!=7)\n",
            "\n",
            "  UserWarning,\n"
          ]
        },
        {
          "output_type": "stream",
          "name": "stdout",
          "text": [
            "5/5 [==============================] - 3s 6ms/step - loss: 0.2120 - mean_squared_error: 0.2120\n"
          ]
        },
        {
          "output_type": "stream",
          "name": "stderr",
          "text": [
            "/usr/local/lib/python3.7/dist-packages/sklearn/model_selection/_validation.py:774: UserWarning: Scoring failed. The score on this train-test partition for these parameters will be set to nan. Details: \n",
            "Traceback (most recent call last):\n",
            "  File \"/usr/local/lib/python3.7/dist-packages/sklearn/model_selection/_validation.py\", line 761, in _score\n",
            "    scores = scorer(estimator, X_test, y_test)\n",
            "  File \"/usr/local/lib/python3.7/dist-packages/sklearn/metrics/_scorer.py\", line 221, in __call__\n",
            "    sample_weight=sample_weight,\n",
            "  File \"/usr/local/lib/python3.7/dist-packages/sklearn/metrics/_scorer.py\", line 264, in _score\n",
            "    return self._sign * self._score_func(y_true, y_pred, **self._kwargs)\n",
            "  File \"/usr/local/lib/python3.7/dist-packages/sklearn/metrics/_regression.py\", line 439, in mean_squared_error\n",
            "    y_true, y_pred, multioutput\n",
            "  File \"/usr/local/lib/python3.7/dist-packages/sklearn/metrics/_regression.py\", line 107, in _check_reg_targets\n",
            "    y_true.shape[1], y_pred.shape[1]\n",
            "ValueError: y_true and y_pred have different number of output (1!=7)\n",
            "\n",
            "  UserWarning,\n"
          ]
        },
        {
          "output_type": "stream",
          "name": "stdout",
          "text": [
            "5/5 [==============================] - 2s 7ms/step - loss: 0.1160 - mean_squared_error: 0.1160\n"
          ]
        },
        {
          "output_type": "stream",
          "name": "stderr",
          "text": [
            "/usr/local/lib/python3.7/dist-packages/sklearn/model_selection/_validation.py:774: UserWarning: Scoring failed. The score on this train-test partition for these parameters will be set to nan. Details: \n",
            "Traceback (most recent call last):\n",
            "  File \"/usr/local/lib/python3.7/dist-packages/sklearn/model_selection/_validation.py\", line 761, in _score\n",
            "    scores = scorer(estimator, X_test, y_test)\n",
            "  File \"/usr/local/lib/python3.7/dist-packages/sklearn/metrics/_scorer.py\", line 221, in __call__\n",
            "    sample_weight=sample_weight,\n",
            "  File \"/usr/local/lib/python3.7/dist-packages/sklearn/metrics/_scorer.py\", line 264, in _score\n",
            "    return self._sign * self._score_func(y_true, y_pred, **self._kwargs)\n",
            "  File \"/usr/local/lib/python3.7/dist-packages/sklearn/metrics/_regression.py\", line 439, in mean_squared_error\n",
            "    y_true, y_pred, multioutput\n",
            "  File \"/usr/local/lib/python3.7/dist-packages/sklearn/metrics/_regression.py\", line 107, in _check_reg_targets\n",
            "    y_true.shape[1], y_pred.shape[1]\n",
            "ValueError: y_true and y_pred have different number of output (1!=7)\n",
            "\n",
            "  UserWarning,\n"
          ]
        },
        {
          "output_type": "stream",
          "name": "stdout",
          "text": [
            "5/5 [==============================] - 2s 6ms/step - loss: 0.2426 - mean_squared_error: 0.2426\n"
          ]
        },
        {
          "output_type": "stream",
          "name": "stderr",
          "text": [
            "/usr/local/lib/python3.7/dist-packages/sklearn/model_selection/_validation.py:774: UserWarning: Scoring failed. The score on this train-test partition for these parameters will be set to nan. Details: \n",
            "Traceback (most recent call last):\n",
            "  File \"/usr/local/lib/python3.7/dist-packages/sklearn/model_selection/_validation.py\", line 761, in _score\n",
            "    scores = scorer(estimator, X_test, y_test)\n",
            "  File \"/usr/local/lib/python3.7/dist-packages/sklearn/metrics/_scorer.py\", line 221, in __call__\n",
            "    sample_weight=sample_weight,\n",
            "  File \"/usr/local/lib/python3.7/dist-packages/sklearn/metrics/_scorer.py\", line 264, in _score\n",
            "    return self._sign * self._score_func(y_true, y_pred, **self._kwargs)\n",
            "  File \"/usr/local/lib/python3.7/dist-packages/sklearn/metrics/_regression.py\", line 439, in mean_squared_error\n",
            "    y_true, y_pred, multioutput\n",
            "  File \"/usr/local/lib/python3.7/dist-packages/sklearn/metrics/_regression.py\", line 107, in _check_reg_targets\n",
            "    y_true.shape[1], y_pred.shape[1]\n",
            "ValueError: y_true and y_pred have different number of output (1!=7)\n",
            "\n",
            "  UserWarning,\n"
          ]
        },
        {
          "output_type": "stream",
          "name": "stdout",
          "text": [
            "5/5 [==============================] - 3s 6ms/step - loss: 0.1328 - mean_squared_error: 0.1328\n"
          ]
        },
        {
          "output_type": "stream",
          "name": "stderr",
          "text": [
            "/usr/local/lib/python3.7/dist-packages/sklearn/model_selection/_validation.py:774: UserWarning: Scoring failed. The score on this train-test partition for these parameters will be set to nan. Details: \n",
            "Traceback (most recent call last):\n",
            "  File \"/usr/local/lib/python3.7/dist-packages/sklearn/model_selection/_validation.py\", line 761, in _score\n",
            "    scores = scorer(estimator, X_test, y_test)\n",
            "  File \"/usr/local/lib/python3.7/dist-packages/sklearn/metrics/_scorer.py\", line 221, in __call__\n",
            "    sample_weight=sample_weight,\n",
            "  File \"/usr/local/lib/python3.7/dist-packages/sklearn/metrics/_scorer.py\", line 264, in _score\n",
            "    return self._sign * self._score_func(y_true, y_pred, **self._kwargs)\n",
            "  File \"/usr/local/lib/python3.7/dist-packages/sklearn/metrics/_regression.py\", line 439, in mean_squared_error\n",
            "    y_true, y_pred, multioutput\n",
            "  File \"/usr/local/lib/python3.7/dist-packages/sklearn/metrics/_regression.py\", line 107, in _check_reg_targets\n",
            "    y_true.shape[1], y_pred.shape[1]\n",
            "ValueError: y_true and y_pred have different number of output (1!=7)\n",
            "\n",
            "  UserWarning,\n"
          ]
        },
        {
          "output_type": "stream",
          "name": "stdout",
          "text": [
            "5/5 [==============================] - 2s 6ms/step - loss: 0.1953 - mean_squared_error: 0.1953\n"
          ]
        },
        {
          "output_type": "stream",
          "name": "stderr",
          "text": [
            "/usr/local/lib/python3.7/dist-packages/sklearn/model_selection/_validation.py:774: UserWarning: Scoring failed. The score on this train-test partition for these parameters will be set to nan. Details: \n",
            "Traceback (most recent call last):\n",
            "  File \"/usr/local/lib/python3.7/dist-packages/sklearn/model_selection/_validation.py\", line 761, in _score\n",
            "    scores = scorer(estimator, X_test, y_test)\n",
            "  File \"/usr/local/lib/python3.7/dist-packages/sklearn/metrics/_scorer.py\", line 221, in __call__\n",
            "    sample_weight=sample_weight,\n",
            "  File \"/usr/local/lib/python3.7/dist-packages/sklearn/metrics/_scorer.py\", line 264, in _score\n",
            "    return self._sign * self._score_func(y_true, y_pred, **self._kwargs)\n",
            "  File \"/usr/local/lib/python3.7/dist-packages/sklearn/metrics/_regression.py\", line 439, in mean_squared_error\n",
            "    y_true, y_pred, multioutput\n",
            "  File \"/usr/local/lib/python3.7/dist-packages/sklearn/metrics/_regression.py\", line 107, in _check_reg_targets\n",
            "    y_true.shape[1], y_pred.shape[1]\n",
            "ValueError: y_true and y_pred have different number of output (1!=7)\n",
            "\n",
            "  UserWarning,\n"
          ]
        },
        {
          "output_type": "stream",
          "name": "stdout",
          "text": [
            "5/5 [==============================] - 3s 6ms/step - loss: 0.1910 - mean_squared_error: 0.1910\n"
          ]
        },
        {
          "output_type": "stream",
          "name": "stderr",
          "text": [
            "/usr/local/lib/python3.7/dist-packages/sklearn/model_selection/_validation.py:774: UserWarning: Scoring failed. The score on this train-test partition for these parameters will be set to nan. Details: \n",
            "Traceback (most recent call last):\n",
            "  File \"/usr/local/lib/python3.7/dist-packages/sklearn/model_selection/_validation.py\", line 761, in _score\n",
            "    scores = scorer(estimator, X_test, y_test)\n",
            "  File \"/usr/local/lib/python3.7/dist-packages/sklearn/metrics/_scorer.py\", line 221, in __call__\n",
            "    sample_weight=sample_weight,\n",
            "  File \"/usr/local/lib/python3.7/dist-packages/sklearn/metrics/_scorer.py\", line 264, in _score\n",
            "    return self._sign * self._score_func(y_true, y_pred, **self._kwargs)\n",
            "  File \"/usr/local/lib/python3.7/dist-packages/sklearn/metrics/_regression.py\", line 439, in mean_squared_error\n",
            "    y_true, y_pred, multioutput\n",
            "  File \"/usr/local/lib/python3.7/dist-packages/sklearn/metrics/_regression.py\", line 107, in _check_reg_targets\n",
            "    y_true.shape[1], y_pred.shape[1]\n",
            "ValueError: y_true and y_pred have different number of output (1!=7)\n",
            "\n",
            "  UserWarning,\n"
          ]
        },
        {
          "output_type": "stream",
          "name": "stdout",
          "text": [
            "5/5 [==============================] - 3s 6ms/step - loss: 0.1675 - mean_squared_error: 0.1675\n"
          ]
        },
        {
          "output_type": "stream",
          "name": "stderr",
          "text": [
            "/usr/local/lib/python3.7/dist-packages/sklearn/model_selection/_validation.py:774: UserWarning: Scoring failed. The score on this train-test partition for these parameters will be set to nan. Details: \n",
            "Traceback (most recent call last):\n",
            "  File \"/usr/local/lib/python3.7/dist-packages/sklearn/model_selection/_validation.py\", line 761, in _score\n",
            "    scores = scorer(estimator, X_test, y_test)\n",
            "  File \"/usr/local/lib/python3.7/dist-packages/sklearn/metrics/_scorer.py\", line 221, in __call__\n",
            "    sample_weight=sample_weight,\n",
            "  File \"/usr/local/lib/python3.7/dist-packages/sklearn/metrics/_scorer.py\", line 264, in _score\n",
            "    return self._sign * self._score_func(y_true, y_pred, **self._kwargs)\n",
            "  File \"/usr/local/lib/python3.7/dist-packages/sklearn/metrics/_regression.py\", line 439, in mean_squared_error\n",
            "    y_true, y_pred, multioutput\n",
            "  File \"/usr/local/lib/python3.7/dist-packages/sklearn/metrics/_regression.py\", line 107, in _check_reg_targets\n",
            "    y_true.shape[1], y_pred.shape[1]\n",
            "ValueError: y_true and y_pred have different number of output (1!=7)\n",
            "\n",
            "  UserWarning,\n"
          ]
        },
        {
          "output_type": "stream",
          "name": "stdout",
          "text": [
            "5/5 [==============================] - 3s 6ms/step - loss: 0.1295 - mean_squared_error: 0.1295\n"
          ]
        },
        {
          "output_type": "stream",
          "name": "stderr",
          "text": [
            "/usr/local/lib/python3.7/dist-packages/sklearn/model_selection/_validation.py:774: UserWarning: Scoring failed. The score on this train-test partition for these parameters will be set to nan. Details: \n",
            "Traceback (most recent call last):\n",
            "  File \"/usr/local/lib/python3.7/dist-packages/sklearn/model_selection/_validation.py\", line 761, in _score\n",
            "    scores = scorer(estimator, X_test, y_test)\n",
            "  File \"/usr/local/lib/python3.7/dist-packages/sklearn/metrics/_scorer.py\", line 221, in __call__\n",
            "    sample_weight=sample_weight,\n",
            "  File \"/usr/local/lib/python3.7/dist-packages/sklearn/metrics/_scorer.py\", line 264, in _score\n",
            "    return self._sign * self._score_func(y_true, y_pred, **self._kwargs)\n",
            "  File \"/usr/local/lib/python3.7/dist-packages/sklearn/metrics/_regression.py\", line 439, in mean_squared_error\n",
            "    y_true, y_pred, multioutput\n",
            "  File \"/usr/local/lib/python3.7/dist-packages/sklearn/metrics/_regression.py\", line 107, in _check_reg_targets\n",
            "    y_true.shape[1], y_pred.shape[1]\n",
            "ValueError: y_true and y_pred have different number of output (1!=7)\n",
            "\n",
            "  UserWarning,\n"
          ]
        },
        {
          "output_type": "stream",
          "name": "stdout",
          "text": [
            "5/5 [==============================] - 3s 7ms/step - loss: 0.0938 - mean_squared_error: 0.0938\n"
          ]
        },
        {
          "output_type": "stream",
          "name": "stderr",
          "text": [
            "/usr/local/lib/python3.7/dist-packages/sklearn/model_selection/_validation.py:774: UserWarning: Scoring failed. The score on this train-test partition for these parameters will be set to nan. Details: \n",
            "Traceback (most recent call last):\n",
            "  File \"/usr/local/lib/python3.7/dist-packages/sklearn/model_selection/_validation.py\", line 761, in _score\n",
            "    scores = scorer(estimator, X_test, y_test)\n",
            "  File \"/usr/local/lib/python3.7/dist-packages/sklearn/metrics/_scorer.py\", line 221, in __call__\n",
            "    sample_weight=sample_weight,\n",
            "  File \"/usr/local/lib/python3.7/dist-packages/sklearn/metrics/_scorer.py\", line 264, in _score\n",
            "    return self._sign * self._score_func(y_true, y_pred, **self._kwargs)\n",
            "  File \"/usr/local/lib/python3.7/dist-packages/sklearn/metrics/_regression.py\", line 439, in mean_squared_error\n",
            "    y_true, y_pred, multioutput\n",
            "  File \"/usr/local/lib/python3.7/dist-packages/sklearn/metrics/_regression.py\", line 107, in _check_reg_targets\n",
            "    y_true.shape[1], y_pred.shape[1]\n",
            "ValueError: y_true and y_pred have different number of output (1!=7)\n",
            "\n",
            "  UserWarning,\n"
          ]
        },
        {
          "output_type": "stream",
          "name": "stdout",
          "text": [
            "5/5 [==============================] - 3s 8ms/step - loss: 0.1707 - mean_squared_error: 0.1707\n"
          ]
        },
        {
          "output_type": "stream",
          "name": "stderr",
          "text": [
            "/usr/local/lib/python3.7/dist-packages/sklearn/model_selection/_validation.py:774: UserWarning: Scoring failed. The score on this train-test partition for these parameters will be set to nan. Details: \n",
            "Traceback (most recent call last):\n",
            "  File \"/usr/local/lib/python3.7/dist-packages/sklearn/model_selection/_validation.py\", line 761, in _score\n",
            "    scores = scorer(estimator, X_test, y_test)\n",
            "  File \"/usr/local/lib/python3.7/dist-packages/sklearn/metrics/_scorer.py\", line 221, in __call__\n",
            "    sample_weight=sample_weight,\n",
            "  File \"/usr/local/lib/python3.7/dist-packages/sklearn/metrics/_scorer.py\", line 264, in _score\n",
            "    return self._sign * self._score_func(y_true, y_pred, **self._kwargs)\n",
            "  File \"/usr/local/lib/python3.7/dist-packages/sklearn/metrics/_regression.py\", line 439, in mean_squared_error\n",
            "    y_true, y_pred, multioutput\n",
            "  File \"/usr/local/lib/python3.7/dist-packages/sklearn/metrics/_regression.py\", line 107, in _check_reg_targets\n",
            "    y_true.shape[1], y_pred.shape[1]\n",
            "ValueError: y_true and y_pred have different number of output (1!=7)\n",
            "\n",
            "  UserWarning,\n"
          ]
        },
        {
          "output_type": "stream",
          "name": "stdout",
          "text": [
            "5/5 [==============================] - 2s 7ms/step - loss: 0.1153 - mean_squared_error: 0.1153\n"
          ]
        },
        {
          "output_type": "stream",
          "name": "stderr",
          "text": [
            "/usr/local/lib/python3.7/dist-packages/sklearn/model_selection/_validation.py:774: UserWarning: Scoring failed. The score on this train-test partition for these parameters will be set to nan. Details: \n",
            "Traceback (most recent call last):\n",
            "  File \"/usr/local/lib/python3.7/dist-packages/sklearn/model_selection/_validation.py\", line 761, in _score\n",
            "    scores = scorer(estimator, X_test, y_test)\n",
            "  File \"/usr/local/lib/python3.7/dist-packages/sklearn/metrics/_scorer.py\", line 221, in __call__\n",
            "    sample_weight=sample_weight,\n",
            "  File \"/usr/local/lib/python3.7/dist-packages/sklearn/metrics/_scorer.py\", line 264, in _score\n",
            "    return self._sign * self._score_func(y_true, y_pred, **self._kwargs)\n",
            "  File \"/usr/local/lib/python3.7/dist-packages/sklearn/metrics/_regression.py\", line 439, in mean_squared_error\n",
            "    y_true, y_pred, multioutput\n",
            "  File \"/usr/local/lib/python3.7/dist-packages/sklearn/metrics/_regression.py\", line 107, in _check_reg_targets\n",
            "    y_true.shape[1], y_pred.shape[1]\n",
            "ValueError: y_true and y_pred have different number of output (1!=7)\n",
            "\n",
            "  UserWarning,\n"
          ]
        },
        {
          "output_type": "stream",
          "name": "stdout",
          "text": [
            "5/5 [==============================] - 3s 6ms/step - loss: 0.1453 - mean_squared_error: 0.1453\n"
          ]
        },
        {
          "output_type": "stream",
          "name": "stderr",
          "text": [
            "/usr/local/lib/python3.7/dist-packages/sklearn/model_selection/_validation.py:774: UserWarning: Scoring failed. The score on this train-test partition for these parameters will be set to nan. Details: \n",
            "Traceback (most recent call last):\n",
            "  File \"/usr/local/lib/python3.7/dist-packages/sklearn/model_selection/_validation.py\", line 761, in _score\n",
            "    scores = scorer(estimator, X_test, y_test)\n",
            "  File \"/usr/local/lib/python3.7/dist-packages/sklearn/metrics/_scorer.py\", line 221, in __call__\n",
            "    sample_weight=sample_weight,\n",
            "  File \"/usr/local/lib/python3.7/dist-packages/sklearn/metrics/_scorer.py\", line 264, in _score\n",
            "    return self._sign * self._score_func(y_true, y_pred, **self._kwargs)\n",
            "  File \"/usr/local/lib/python3.7/dist-packages/sklearn/metrics/_regression.py\", line 439, in mean_squared_error\n",
            "    y_true, y_pred, multioutput\n",
            "  File \"/usr/local/lib/python3.7/dist-packages/sklearn/metrics/_regression.py\", line 107, in _check_reg_targets\n",
            "    y_true.shape[1], y_pred.shape[1]\n",
            "ValueError: y_true and y_pred have different number of output (1!=7)\n",
            "\n",
            "  UserWarning,\n"
          ]
        },
        {
          "output_type": "stream",
          "name": "stdout",
          "text": [
            "5/5 [==============================] - 2s 6ms/step - loss: 0.1541 - mean_squared_error: 0.1541\n"
          ]
        },
        {
          "output_type": "stream",
          "name": "stderr",
          "text": [
            "/usr/local/lib/python3.7/dist-packages/sklearn/model_selection/_validation.py:774: UserWarning: Scoring failed. The score on this train-test partition for these parameters will be set to nan. Details: \n",
            "Traceback (most recent call last):\n",
            "  File \"/usr/local/lib/python3.7/dist-packages/sklearn/model_selection/_validation.py\", line 761, in _score\n",
            "    scores = scorer(estimator, X_test, y_test)\n",
            "  File \"/usr/local/lib/python3.7/dist-packages/sklearn/metrics/_scorer.py\", line 221, in __call__\n",
            "    sample_weight=sample_weight,\n",
            "  File \"/usr/local/lib/python3.7/dist-packages/sklearn/metrics/_scorer.py\", line 264, in _score\n",
            "    return self._sign * self._score_func(y_true, y_pred, **self._kwargs)\n",
            "  File \"/usr/local/lib/python3.7/dist-packages/sklearn/metrics/_regression.py\", line 439, in mean_squared_error\n",
            "    y_true, y_pred, multioutput\n",
            "  File \"/usr/local/lib/python3.7/dist-packages/sklearn/metrics/_regression.py\", line 107, in _check_reg_targets\n",
            "    y_true.shape[1], y_pred.shape[1]\n",
            "ValueError: y_true and y_pred have different number of output (1!=7)\n",
            "\n",
            "  UserWarning,\n"
          ]
        },
        {
          "output_type": "stream",
          "name": "stdout",
          "text": [
            "5/5 [==============================] - 3s 6ms/step - loss: 0.1939 - mean_squared_error: 0.1939\n"
          ]
        },
        {
          "output_type": "stream",
          "name": "stderr",
          "text": [
            "/usr/local/lib/python3.7/dist-packages/sklearn/model_selection/_validation.py:774: UserWarning: Scoring failed. The score on this train-test partition for these parameters will be set to nan. Details: \n",
            "Traceback (most recent call last):\n",
            "  File \"/usr/local/lib/python3.7/dist-packages/sklearn/model_selection/_validation.py\", line 761, in _score\n",
            "    scores = scorer(estimator, X_test, y_test)\n",
            "  File \"/usr/local/lib/python3.7/dist-packages/sklearn/metrics/_scorer.py\", line 221, in __call__\n",
            "    sample_weight=sample_weight,\n",
            "  File \"/usr/local/lib/python3.7/dist-packages/sklearn/metrics/_scorer.py\", line 264, in _score\n",
            "    return self._sign * self._score_func(y_true, y_pred, **self._kwargs)\n",
            "  File \"/usr/local/lib/python3.7/dist-packages/sklearn/metrics/_regression.py\", line 439, in mean_squared_error\n",
            "    y_true, y_pred, multioutput\n",
            "  File \"/usr/local/lib/python3.7/dist-packages/sklearn/metrics/_regression.py\", line 107, in _check_reg_targets\n",
            "    y_true.shape[1], y_pred.shape[1]\n",
            "ValueError: y_true and y_pred have different number of output (1!=7)\n",
            "\n",
            "  UserWarning,\n"
          ]
        },
        {
          "output_type": "stream",
          "name": "stdout",
          "text": [
            "5/5 [==============================] - 3s 8ms/step - loss: 0.0621 - mean_squared_error: 0.0621\n"
          ]
        },
        {
          "output_type": "stream",
          "name": "stderr",
          "text": [
            "/usr/local/lib/python3.7/dist-packages/sklearn/model_selection/_validation.py:774: UserWarning: Scoring failed. The score on this train-test partition for these parameters will be set to nan. Details: \n",
            "Traceback (most recent call last):\n",
            "  File \"/usr/local/lib/python3.7/dist-packages/sklearn/model_selection/_validation.py\", line 761, in _score\n",
            "    scores = scorer(estimator, X_test, y_test)\n",
            "  File \"/usr/local/lib/python3.7/dist-packages/sklearn/metrics/_scorer.py\", line 221, in __call__\n",
            "    sample_weight=sample_weight,\n",
            "  File \"/usr/local/lib/python3.7/dist-packages/sklearn/metrics/_scorer.py\", line 264, in _score\n",
            "    return self._sign * self._score_func(y_true, y_pred, **self._kwargs)\n",
            "  File \"/usr/local/lib/python3.7/dist-packages/sklearn/metrics/_regression.py\", line 439, in mean_squared_error\n",
            "    y_true, y_pred, multioutput\n",
            "  File \"/usr/local/lib/python3.7/dist-packages/sklearn/metrics/_regression.py\", line 107, in _check_reg_targets\n",
            "    y_true.shape[1], y_pred.shape[1]\n",
            "ValueError: y_true and y_pred have different number of output (1!=7)\n",
            "\n",
            "  UserWarning,\n"
          ]
        },
        {
          "output_type": "stream",
          "name": "stdout",
          "text": [
            "5/5 [==============================] - 2s 7ms/step - loss: 0.1152 - mean_squared_error: 0.1152\n"
          ]
        },
        {
          "output_type": "stream",
          "name": "stderr",
          "text": [
            "/usr/local/lib/python3.7/dist-packages/sklearn/model_selection/_validation.py:774: UserWarning: Scoring failed. The score on this train-test partition for these parameters will be set to nan. Details: \n",
            "Traceback (most recent call last):\n",
            "  File \"/usr/local/lib/python3.7/dist-packages/sklearn/model_selection/_validation.py\", line 761, in _score\n",
            "    scores = scorer(estimator, X_test, y_test)\n",
            "  File \"/usr/local/lib/python3.7/dist-packages/sklearn/metrics/_scorer.py\", line 221, in __call__\n",
            "    sample_weight=sample_weight,\n",
            "  File \"/usr/local/lib/python3.7/dist-packages/sklearn/metrics/_scorer.py\", line 264, in _score\n",
            "    return self._sign * self._score_func(y_true, y_pred, **self._kwargs)\n",
            "  File \"/usr/local/lib/python3.7/dist-packages/sklearn/metrics/_regression.py\", line 439, in mean_squared_error\n",
            "    y_true, y_pred, multioutput\n",
            "  File \"/usr/local/lib/python3.7/dist-packages/sklearn/metrics/_regression.py\", line 107, in _check_reg_targets\n",
            "    y_true.shape[1], y_pred.shape[1]\n",
            "ValueError: y_true and y_pred have different number of output (1!=7)\n",
            "\n",
            "  UserWarning,\n"
          ]
        },
        {
          "output_type": "stream",
          "name": "stdout",
          "text": [
            "5/5 [==============================] - 2s 6ms/step - loss: 0.2611 - mean_squared_error: 0.2611\n"
          ]
        },
        {
          "output_type": "stream",
          "name": "stderr",
          "text": [
            "/usr/local/lib/python3.7/dist-packages/sklearn/model_selection/_validation.py:774: UserWarning: Scoring failed. The score on this train-test partition for these parameters will be set to nan. Details: \n",
            "Traceback (most recent call last):\n",
            "  File \"/usr/local/lib/python3.7/dist-packages/sklearn/model_selection/_validation.py\", line 761, in _score\n",
            "    scores = scorer(estimator, X_test, y_test)\n",
            "  File \"/usr/local/lib/python3.7/dist-packages/sklearn/metrics/_scorer.py\", line 221, in __call__\n",
            "    sample_weight=sample_weight,\n",
            "  File \"/usr/local/lib/python3.7/dist-packages/sklearn/metrics/_scorer.py\", line 264, in _score\n",
            "    return self._sign * self._score_func(y_true, y_pred, **self._kwargs)\n",
            "  File \"/usr/local/lib/python3.7/dist-packages/sklearn/metrics/_regression.py\", line 439, in mean_squared_error\n",
            "    y_true, y_pred, multioutput\n",
            "  File \"/usr/local/lib/python3.7/dist-packages/sklearn/metrics/_regression.py\", line 107, in _check_reg_targets\n",
            "    y_true.shape[1], y_pred.shape[1]\n",
            "ValueError: y_true and y_pred have different number of output (1!=7)\n",
            "\n",
            "  UserWarning,\n"
          ]
        },
        {
          "output_type": "stream",
          "name": "stdout",
          "text": [
            "5/5 [==============================] - 2s 7ms/step - loss: 0.4998 - mean_squared_error: 0.4998\n"
          ]
        },
        {
          "output_type": "stream",
          "name": "stderr",
          "text": [
            "/usr/local/lib/python3.7/dist-packages/sklearn/model_selection/_validation.py:774: UserWarning: Scoring failed. The score on this train-test partition for these parameters will be set to nan. Details: \n",
            "Traceback (most recent call last):\n",
            "  File \"/usr/local/lib/python3.7/dist-packages/sklearn/model_selection/_validation.py\", line 761, in _score\n",
            "    scores = scorer(estimator, X_test, y_test)\n",
            "  File \"/usr/local/lib/python3.7/dist-packages/sklearn/metrics/_scorer.py\", line 221, in __call__\n",
            "    sample_weight=sample_weight,\n",
            "  File \"/usr/local/lib/python3.7/dist-packages/sklearn/metrics/_scorer.py\", line 264, in _score\n",
            "    return self._sign * self._score_func(y_true, y_pred, **self._kwargs)\n",
            "  File \"/usr/local/lib/python3.7/dist-packages/sklearn/metrics/_regression.py\", line 439, in mean_squared_error\n",
            "    y_true, y_pred, multioutput\n",
            "  File \"/usr/local/lib/python3.7/dist-packages/sklearn/metrics/_regression.py\", line 107, in _check_reg_targets\n",
            "    y_true.shape[1], y_pred.shape[1]\n",
            "ValueError: y_true and y_pred have different number of output (1!=7)\n",
            "\n",
            "  UserWarning,\n"
          ]
        },
        {
          "output_type": "stream",
          "name": "stdout",
          "text": [
            "5/5 [==============================] - 2s 6ms/step - loss: 0.2242 - mean_squared_error: 0.2242\n"
          ]
        },
        {
          "output_type": "stream",
          "name": "stderr",
          "text": [
            "/usr/local/lib/python3.7/dist-packages/sklearn/model_selection/_validation.py:774: UserWarning: Scoring failed. The score on this train-test partition for these parameters will be set to nan. Details: \n",
            "Traceback (most recent call last):\n",
            "  File \"/usr/local/lib/python3.7/dist-packages/sklearn/model_selection/_validation.py\", line 761, in _score\n",
            "    scores = scorer(estimator, X_test, y_test)\n",
            "  File \"/usr/local/lib/python3.7/dist-packages/sklearn/metrics/_scorer.py\", line 221, in __call__\n",
            "    sample_weight=sample_weight,\n",
            "  File \"/usr/local/lib/python3.7/dist-packages/sklearn/metrics/_scorer.py\", line 264, in _score\n",
            "    return self._sign * self._score_func(y_true, y_pred, **self._kwargs)\n",
            "  File \"/usr/local/lib/python3.7/dist-packages/sklearn/metrics/_regression.py\", line 439, in mean_squared_error\n",
            "    y_true, y_pred, multioutput\n",
            "  File \"/usr/local/lib/python3.7/dist-packages/sklearn/metrics/_regression.py\", line 107, in _check_reg_targets\n",
            "    y_true.shape[1], y_pred.shape[1]\n",
            "ValueError: y_true and y_pred have different number of output (1!=7)\n",
            "\n",
            "  UserWarning,\n"
          ]
        },
        {
          "output_type": "stream",
          "name": "stdout",
          "text": [
            "5/5 [==============================] - 3s 7ms/step - loss: 0.1227 - mean_squared_error: 0.1227\n"
          ]
        },
        {
          "output_type": "stream",
          "name": "stderr",
          "text": [
            "/usr/local/lib/python3.7/dist-packages/sklearn/model_selection/_validation.py:774: UserWarning: Scoring failed. The score on this train-test partition for these parameters will be set to nan. Details: \n",
            "Traceback (most recent call last):\n",
            "  File \"/usr/local/lib/python3.7/dist-packages/sklearn/model_selection/_validation.py\", line 761, in _score\n",
            "    scores = scorer(estimator, X_test, y_test)\n",
            "  File \"/usr/local/lib/python3.7/dist-packages/sklearn/metrics/_scorer.py\", line 221, in __call__\n",
            "    sample_weight=sample_weight,\n",
            "  File \"/usr/local/lib/python3.7/dist-packages/sklearn/metrics/_scorer.py\", line 264, in _score\n",
            "    return self._sign * self._score_func(y_true, y_pred, **self._kwargs)\n",
            "  File \"/usr/local/lib/python3.7/dist-packages/sklearn/metrics/_regression.py\", line 439, in mean_squared_error\n",
            "    y_true, y_pred, multioutput\n",
            "  File \"/usr/local/lib/python3.7/dist-packages/sklearn/metrics/_regression.py\", line 107, in _check_reg_targets\n",
            "    y_true.shape[1], y_pred.shape[1]\n",
            "ValueError: y_true and y_pred have different number of output (1!=7)\n",
            "\n",
            "  UserWarning,\n"
          ]
        },
        {
          "output_type": "stream",
          "name": "stdout",
          "text": [
            "5/5 [==============================] - 2s 7ms/step - loss: 0.3141 - mean_squared_error: 0.3141\n"
          ]
        },
        {
          "output_type": "stream",
          "name": "stderr",
          "text": [
            "/usr/local/lib/python3.7/dist-packages/sklearn/model_selection/_validation.py:774: UserWarning: Scoring failed. The score on this train-test partition for these parameters will be set to nan. Details: \n",
            "Traceback (most recent call last):\n",
            "  File \"/usr/local/lib/python3.7/dist-packages/sklearn/model_selection/_validation.py\", line 761, in _score\n",
            "    scores = scorer(estimator, X_test, y_test)\n",
            "  File \"/usr/local/lib/python3.7/dist-packages/sklearn/metrics/_scorer.py\", line 221, in __call__\n",
            "    sample_weight=sample_weight,\n",
            "  File \"/usr/local/lib/python3.7/dist-packages/sklearn/metrics/_scorer.py\", line 264, in _score\n",
            "    return self._sign * self._score_func(y_true, y_pred, **self._kwargs)\n",
            "  File \"/usr/local/lib/python3.7/dist-packages/sklearn/metrics/_regression.py\", line 439, in mean_squared_error\n",
            "    y_true, y_pred, multioutput\n",
            "  File \"/usr/local/lib/python3.7/dist-packages/sklearn/metrics/_regression.py\", line 107, in _check_reg_targets\n",
            "    y_true.shape[1], y_pred.shape[1]\n",
            "ValueError: y_true and y_pred have different number of output (1!=7)\n",
            "\n",
            "  UserWarning,\n"
          ]
        },
        {
          "output_type": "stream",
          "name": "stdout",
          "text": [
            "5/5 [==============================] - 2s 7ms/step - loss: 0.2907 - mean_squared_error: 0.2907\n"
          ]
        },
        {
          "output_type": "stream",
          "name": "stderr",
          "text": [
            "/usr/local/lib/python3.7/dist-packages/sklearn/model_selection/_validation.py:774: UserWarning: Scoring failed. The score on this train-test partition for these parameters will be set to nan. Details: \n",
            "Traceback (most recent call last):\n",
            "  File \"/usr/local/lib/python3.7/dist-packages/sklearn/model_selection/_validation.py\", line 761, in _score\n",
            "    scores = scorer(estimator, X_test, y_test)\n",
            "  File \"/usr/local/lib/python3.7/dist-packages/sklearn/metrics/_scorer.py\", line 221, in __call__\n",
            "    sample_weight=sample_weight,\n",
            "  File \"/usr/local/lib/python3.7/dist-packages/sklearn/metrics/_scorer.py\", line 264, in _score\n",
            "    return self._sign * self._score_func(y_true, y_pred, **self._kwargs)\n",
            "  File \"/usr/local/lib/python3.7/dist-packages/sklearn/metrics/_regression.py\", line 439, in mean_squared_error\n",
            "    y_true, y_pred, multioutput\n",
            "  File \"/usr/local/lib/python3.7/dist-packages/sklearn/metrics/_regression.py\", line 107, in _check_reg_targets\n",
            "    y_true.shape[1], y_pred.shape[1]\n",
            "ValueError: y_true and y_pred have different number of output (1!=7)\n",
            "\n",
            "  UserWarning,\n"
          ]
        },
        {
          "output_type": "stream",
          "name": "stdout",
          "text": [
            "5/5 [==============================] - 3s 8ms/step - loss: 0.1194 - mean_squared_error: 0.1194\n"
          ]
        },
        {
          "output_type": "stream",
          "name": "stderr",
          "text": [
            "/usr/local/lib/python3.7/dist-packages/sklearn/model_selection/_validation.py:774: UserWarning: Scoring failed. The score on this train-test partition for these parameters will be set to nan. Details: \n",
            "Traceback (most recent call last):\n",
            "  File \"/usr/local/lib/python3.7/dist-packages/sklearn/model_selection/_validation.py\", line 761, in _score\n",
            "    scores = scorer(estimator, X_test, y_test)\n",
            "  File \"/usr/local/lib/python3.7/dist-packages/sklearn/metrics/_scorer.py\", line 221, in __call__\n",
            "    sample_weight=sample_weight,\n",
            "  File \"/usr/local/lib/python3.7/dist-packages/sklearn/metrics/_scorer.py\", line 264, in _score\n",
            "    return self._sign * self._score_func(y_true, y_pred, **self._kwargs)\n",
            "  File \"/usr/local/lib/python3.7/dist-packages/sklearn/metrics/_regression.py\", line 439, in mean_squared_error\n",
            "    y_true, y_pred, multioutput\n",
            "  File \"/usr/local/lib/python3.7/dist-packages/sklearn/metrics/_regression.py\", line 107, in _check_reg_targets\n",
            "    y_true.shape[1], y_pred.shape[1]\n",
            "ValueError: y_true and y_pred have different number of output (1!=7)\n",
            "\n",
            "  UserWarning,\n"
          ]
        },
        {
          "output_type": "stream",
          "name": "stdout",
          "text": [
            "5/5 [==============================] - 2s 7ms/step - loss: 0.1449 - mean_squared_error: 0.1449\n"
          ]
        },
        {
          "output_type": "stream",
          "name": "stderr",
          "text": [
            "/usr/local/lib/python3.7/dist-packages/sklearn/model_selection/_validation.py:774: UserWarning: Scoring failed. The score on this train-test partition for these parameters will be set to nan. Details: \n",
            "Traceback (most recent call last):\n",
            "  File \"/usr/local/lib/python3.7/dist-packages/sklearn/model_selection/_validation.py\", line 761, in _score\n",
            "    scores = scorer(estimator, X_test, y_test)\n",
            "  File \"/usr/local/lib/python3.7/dist-packages/sklearn/metrics/_scorer.py\", line 221, in __call__\n",
            "    sample_weight=sample_weight,\n",
            "  File \"/usr/local/lib/python3.7/dist-packages/sklearn/metrics/_scorer.py\", line 264, in _score\n",
            "    return self._sign * self._score_func(y_true, y_pred, **self._kwargs)\n",
            "  File \"/usr/local/lib/python3.7/dist-packages/sklearn/metrics/_regression.py\", line 439, in mean_squared_error\n",
            "    y_true, y_pred, multioutput\n",
            "  File \"/usr/local/lib/python3.7/dist-packages/sklearn/metrics/_regression.py\", line 107, in _check_reg_targets\n",
            "    y_true.shape[1], y_pred.shape[1]\n",
            "ValueError: y_true and y_pred have different number of output (1!=7)\n",
            "\n",
            "  UserWarning,\n"
          ]
        },
        {
          "output_type": "stream",
          "name": "stdout",
          "text": [
            "5/5 [==============================] - 2s 6ms/step - loss: 0.2498 - mean_squared_error: 0.2498\n"
          ]
        },
        {
          "output_type": "stream",
          "name": "stderr",
          "text": [
            "/usr/local/lib/python3.7/dist-packages/sklearn/model_selection/_validation.py:774: UserWarning: Scoring failed. The score on this train-test partition for these parameters will be set to nan. Details: \n",
            "Traceback (most recent call last):\n",
            "  File \"/usr/local/lib/python3.7/dist-packages/sklearn/model_selection/_validation.py\", line 761, in _score\n",
            "    scores = scorer(estimator, X_test, y_test)\n",
            "  File \"/usr/local/lib/python3.7/dist-packages/sklearn/metrics/_scorer.py\", line 221, in __call__\n",
            "    sample_weight=sample_weight,\n",
            "  File \"/usr/local/lib/python3.7/dist-packages/sklearn/metrics/_scorer.py\", line 264, in _score\n",
            "    return self._sign * self._score_func(y_true, y_pred, **self._kwargs)\n",
            "  File \"/usr/local/lib/python3.7/dist-packages/sklearn/metrics/_regression.py\", line 439, in mean_squared_error\n",
            "    y_true, y_pred, multioutput\n",
            "  File \"/usr/local/lib/python3.7/dist-packages/sklearn/metrics/_regression.py\", line 107, in _check_reg_targets\n",
            "    y_true.shape[1], y_pred.shape[1]\n",
            "ValueError: y_true and y_pred have different number of output (1!=7)\n",
            "\n",
            "  UserWarning,\n"
          ]
        },
        {
          "output_type": "stream",
          "name": "stdout",
          "text": [
            "5/5 [==============================] - 3s 7ms/step - loss: 0.2555 - mean_squared_error: 0.2555\n"
          ]
        },
        {
          "output_type": "stream",
          "name": "stderr",
          "text": [
            "/usr/local/lib/python3.7/dist-packages/sklearn/model_selection/_validation.py:774: UserWarning: Scoring failed. The score on this train-test partition for these parameters will be set to nan. Details: \n",
            "Traceback (most recent call last):\n",
            "  File \"/usr/local/lib/python3.7/dist-packages/sklearn/model_selection/_validation.py\", line 761, in _score\n",
            "    scores = scorer(estimator, X_test, y_test)\n",
            "  File \"/usr/local/lib/python3.7/dist-packages/sklearn/metrics/_scorer.py\", line 221, in __call__\n",
            "    sample_weight=sample_weight,\n",
            "  File \"/usr/local/lib/python3.7/dist-packages/sklearn/metrics/_scorer.py\", line 264, in _score\n",
            "    return self._sign * self._score_func(y_true, y_pred, **self._kwargs)\n",
            "  File \"/usr/local/lib/python3.7/dist-packages/sklearn/metrics/_regression.py\", line 439, in mean_squared_error\n",
            "    y_true, y_pred, multioutput\n",
            "  File \"/usr/local/lib/python3.7/dist-packages/sklearn/metrics/_regression.py\", line 107, in _check_reg_targets\n",
            "    y_true.shape[1], y_pred.shape[1]\n",
            "ValueError: y_true and y_pred have different number of output (1!=7)\n",
            "\n",
            "  UserWarning,\n"
          ]
        },
        {
          "output_type": "stream",
          "name": "stdout",
          "text": [
            "5/5 [==============================] - 3s 6ms/step - loss: 0.2423 - mean_squared_error: 0.2423\n"
          ]
        },
        {
          "output_type": "stream",
          "name": "stderr",
          "text": [
            "/usr/local/lib/python3.7/dist-packages/sklearn/model_selection/_validation.py:774: UserWarning: Scoring failed. The score on this train-test partition for these parameters will be set to nan. Details: \n",
            "Traceback (most recent call last):\n",
            "  File \"/usr/local/lib/python3.7/dist-packages/sklearn/model_selection/_validation.py\", line 761, in _score\n",
            "    scores = scorer(estimator, X_test, y_test)\n",
            "  File \"/usr/local/lib/python3.7/dist-packages/sklearn/metrics/_scorer.py\", line 221, in __call__\n",
            "    sample_weight=sample_weight,\n",
            "  File \"/usr/local/lib/python3.7/dist-packages/sklearn/metrics/_scorer.py\", line 264, in _score\n",
            "    return self._sign * self._score_func(y_true, y_pred, **self._kwargs)\n",
            "  File \"/usr/local/lib/python3.7/dist-packages/sklearn/metrics/_regression.py\", line 439, in mean_squared_error\n",
            "    y_true, y_pred, multioutput\n",
            "  File \"/usr/local/lib/python3.7/dist-packages/sklearn/metrics/_regression.py\", line 107, in _check_reg_targets\n",
            "    y_true.shape[1], y_pred.shape[1]\n",
            "ValueError: y_true and y_pred have different number of output (1!=7)\n",
            "\n",
            "  UserWarning,\n"
          ]
        },
        {
          "output_type": "stream",
          "name": "stdout",
          "text": [
            "5/5 [==============================] - 3s 6ms/step - loss: 0.2114 - mean_squared_error: 0.2114\n"
          ]
        },
        {
          "output_type": "stream",
          "name": "stderr",
          "text": [
            "/usr/local/lib/python3.7/dist-packages/sklearn/model_selection/_validation.py:774: UserWarning: Scoring failed. The score on this train-test partition for these parameters will be set to nan. Details: \n",
            "Traceback (most recent call last):\n",
            "  File \"/usr/local/lib/python3.7/dist-packages/sklearn/model_selection/_validation.py\", line 761, in _score\n",
            "    scores = scorer(estimator, X_test, y_test)\n",
            "  File \"/usr/local/lib/python3.7/dist-packages/sklearn/metrics/_scorer.py\", line 221, in __call__\n",
            "    sample_weight=sample_weight,\n",
            "  File \"/usr/local/lib/python3.7/dist-packages/sklearn/metrics/_scorer.py\", line 264, in _score\n",
            "    return self._sign * self._score_func(y_true, y_pred, **self._kwargs)\n",
            "  File \"/usr/local/lib/python3.7/dist-packages/sklearn/metrics/_regression.py\", line 439, in mean_squared_error\n",
            "    y_true, y_pred, multioutput\n",
            "  File \"/usr/local/lib/python3.7/dist-packages/sklearn/metrics/_regression.py\", line 107, in _check_reg_targets\n",
            "    y_true.shape[1], y_pred.shape[1]\n",
            "ValueError: y_true and y_pred have different number of output (1!=7)\n",
            "\n",
            "  UserWarning,\n"
          ]
        },
        {
          "output_type": "stream",
          "name": "stdout",
          "text": [
            "5/5 [==============================] - 3s 7ms/step - loss: 0.1584 - mean_squared_error: 0.1584\n"
          ]
        },
        {
          "output_type": "stream",
          "name": "stderr",
          "text": [
            "/usr/local/lib/python3.7/dist-packages/sklearn/model_selection/_validation.py:774: UserWarning: Scoring failed. The score on this train-test partition for these parameters will be set to nan. Details: \n",
            "Traceback (most recent call last):\n",
            "  File \"/usr/local/lib/python3.7/dist-packages/sklearn/model_selection/_validation.py\", line 761, in _score\n",
            "    scores = scorer(estimator, X_test, y_test)\n",
            "  File \"/usr/local/lib/python3.7/dist-packages/sklearn/metrics/_scorer.py\", line 221, in __call__\n",
            "    sample_weight=sample_weight,\n",
            "  File \"/usr/local/lib/python3.7/dist-packages/sklearn/metrics/_scorer.py\", line 264, in _score\n",
            "    return self._sign * self._score_func(y_true, y_pred, **self._kwargs)\n",
            "  File \"/usr/local/lib/python3.7/dist-packages/sklearn/metrics/_regression.py\", line 439, in mean_squared_error\n",
            "    y_true, y_pred, multioutput\n",
            "  File \"/usr/local/lib/python3.7/dist-packages/sklearn/metrics/_regression.py\", line 107, in _check_reg_targets\n",
            "    y_true.shape[1], y_pred.shape[1]\n",
            "ValueError: y_true and y_pred have different number of output (1!=7)\n",
            "\n",
            "  UserWarning,\n"
          ]
        },
        {
          "output_type": "stream",
          "name": "stdout",
          "text": [
            "5/5 [==============================] - 2s 7ms/step - loss: 0.3048 - mean_squared_error: 0.3048\n"
          ]
        },
        {
          "output_type": "stream",
          "name": "stderr",
          "text": [
            "/usr/local/lib/python3.7/dist-packages/sklearn/model_selection/_validation.py:774: UserWarning: Scoring failed. The score on this train-test partition for these parameters will be set to nan. Details: \n",
            "Traceback (most recent call last):\n",
            "  File \"/usr/local/lib/python3.7/dist-packages/sklearn/model_selection/_validation.py\", line 761, in _score\n",
            "    scores = scorer(estimator, X_test, y_test)\n",
            "  File \"/usr/local/lib/python3.7/dist-packages/sklearn/metrics/_scorer.py\", line 221, in __call__\n",
            "    sample_weight=sample_weight,\n",
            "  File \"/usr/local/lib/python3.7/dist-packages/sklearn/metrics/_scorer.py\", line 264, in _score\n",
            "    return self._sign * self._score_func(y_true, y_pred, **self._kwargs)\n",
            "  File \"/usr/local/lib/python3.7/dist-packages/sklearn/metrics/_regression.py\", line 439, in mean_squared_error\n",
            "    y_true, y_pred, multioutput\n",
            "  File \"/usr/local/lib/python3.7/dist-packages/sklearn/metrics/_regression.py\", line 107, in _check_reg_targets\n",
            "    y_true.shape[1], y_pred.shape[1]\n",
            "ValueError: y_true and y_pred have different number of output (1!=7)\n",
            "\n",
            "  UserWarning,\n"
          ]
        },
        {
          "output_type": "stream",
          "name": "stdout",
          "text": [
            "5/5 [==============================] - 3s 7ms/step - loss: 0.1994 - mean_squared_error: 0.1994\n"
          ]
        },
        {
          "output_type": "stream",
          "name": "stderr",
          "text": [
            "/usr/local/lib/python3.7/dist-packages/sklearn/model_selection/_validation.py:774: UserWarning: Scoring failed. The score on this train-test partition for these parameters will be set to nan. Details: \n",
            "Traceback (most recent call last):\n",
            "  File \"/usr/local/lib/python3.7/dist-packages/sklearn/model_selection/_validation.py\", line 761, in _score\n",
            "    scores = scorer(estimator, X_test, y_test)\n",
            "  File \"/usr/local/lib/python3.7/dist-packages/sklearn/metrics/_scorer.py\", line 221, in __call__\n",
            "    sample_weight=sample_weight,\n",
            "  File \"/usr/local/lib/python3.7/dist-packages/sklearn/metrics/_scorer.py\", line 264, in _score\n",
            "    return self._sign * self._score_func(y_true, y_pred, **self._kwargs)\n",
            "  File \"/usr/local/lib/python3.7/dist-packages/sklearn/metrics/_regression.py\", line 439, in mean_squared_error\n",
            "    y_true, y_pred, multioutput\n",
            "  File \"/usr/local/lib/python3.7/dist-packages/sklearn/metrics/_regression.py\", line 107, in _check_reg_targets\n",
            "    y_true.shape[1], y_pred.shape[1]\n",
            "ValueError: y_true and y_pred have different number of output (1!=7)\n",
            "\n",
            "  UserWarning,\n"
          ]
        },
        {
          "output_type": "stream",
          "name": "stdout",
          "text": [
            "5/5 [==============================] - 2s 7ms/step - loss: 0.2837 - mean_squared_error: 0.2837\n"
          ]
        },
        {
          "output_type": "stream",
          "name": "stderr",
          "text": [
            "/usr/local/lib/python3.7/dist-packages/sklearn/model_selection/_validation.py:774: UserWarning: Scoring failed. The score on this train-test partition for these parameters will be set to nan. Details: \n",
            "Traceback (most recent call last):\n",
            "  File \"/usr/local/lib/python3.7/dist-packages/sklearn/model_selection/_validation.py\", line 761, in _score\n",
            "    scores = scorer(estimator, X_test, y_test)\n",
            "  File \"/usr/local/lib/python3.7/dist-packages/sklearn/metrics/_scorer.py\", line 221, in __call__\n",
            "    sample_weight=sample_weight,\n",
            "  File \"/usr/local/lib/python3.7/dist-packages/sklearn/metrics/_scorer.py\", line 264, in _score\n",
            "    return self._sign * self._score_func(y_true, y_pred, **self._kwargs)\n",
            "  File \"/usr/local/lib/python3.7/dist-packages/sklearn/metrics/_regression.py\", line 439, in mean_squared_error\n",
            "    y_true, y_pred, multioutput\n",
            "  File \"/usr/local/lib/python3.7/dist-packages/sklearn/metrics/_regression.py\", line 107, in _check_reg_targets\n",
            "    y_true.shape[1], y_pred.shape[1]\n",
            "ValueError: y_true and y_pred have different number of output (1!=7)\n",
            "\n",
            "  UserWarning,\n"
          ]
        },
        {
          "output_type": "stream",
          "name": "stdout",
          "text": [
            "5/5 [==============================] - 3s 6ms/step - loss: 0.1249 - mean_squared_error: 0.1249\n"
          ]
        },
        {
          "output_type": "stream",
          "name": "stderr",
          "text": [
            "/usr/local/lib/python3.7/dist-packages/sklearn/model_selection/_validation.py:774: UserWarning: Scoring failed. The score on this train-test partition for these parameters will be set to nan. Details: \n",
            "Traceback (most recent call last):\n",
            "  File \"/usr/local/lib/python3.7/dist-packages/sklearn/model_selection/_validation.py\", line 761, in _score\n",
            "    scores = scorer(estimator, X_test, y_test)\n",
            "  File \"/usr/local/lib/python3.7/dist-packages/sklearn/metrics/_scorer.py\", line 221, in __call__\n",
            "    sample_weight=sample_weight,\n",
            "  File \"/usr/local/lib/python3.7/dist-packages/sklearn/metrics/_scorer.py\", line 264, in _score\n",
            "    return self._sign * self._score_func(y_true, y_pred, **self._kwargs)\n",
            "  File \"/usr/local/lib/python3.7/dist-packages/sklearn/metrics/_regression.py\", line 439, in mean_squared_error\n",
            "    y_true, y_pred, multioutput\n",
            "  File \"/usr/local/lib/python3.7/dist-packages/sklearn/metrics/_regression.py\", line 107, in _check_reg_targets\n",
            "    y_true.shape[1], y_pred.shape[1]\n",
            "ValueError: y_true and y_pred have different number of output (1!=7)\n",
            "\n",
            "  UserWarning,\n"
          ]
        },
        {
          "output_type": "stream",
          "name": "stdout",
          "text": [
            "5/5 [==============================] - 3s 7ms/step - loss: 0.2891 - mean_squared_error: 0.2891\n"
          ]
        },
        {
          "output_type": "stream",
          "name": "stderr",
          "text": [
            "/usr/local/lib/python3.7/dist-packages/sklearn/model_selection/_validation.py:774: UserWarning: Scoring failed. The score on this train-test partition for these parameters will be set to nan. Details: \n",
            "Traceback (most recent call last):\n",
            "  File \"/usr/local/lib/python3.7/dist-packages/sklearn/model_selection/_validation.py\", line 761, in _score\n",
            "    scores = scorer(estimator, X_test, y_test)\n",
            "  File \"/usr/local/lib/python3.7/dist-packages/sklearn/metrics/_scorer.py\", line 221, in __call__\n",
            "    sample_weight=sample_weight,\n",
            "  File \"/usr/local/lib/python3.7/dist-packages/sklearn/metrics/_scorer.py\", line 264, in _score\n",
            "    return self._sign * self._score_func(y_true, y_pred, **self._kwargs)\n",
            "  File \"/usr/local/lib/python3.7/dist-packages/sklearn/metrics/_regression.py\", line 439, in mean_squared_error\n",
            "    y_true, y_pred, multioutput\n",
            "  File \"/usr/local/lib/python3.7/dist-packages/sklearn/metrics/_regression.py\", line 107, in _check_reg_targets\n",
            "    y_true.shape[1], y_pred.shape[1]\n",
            "ValueError: y_true and y_pred have different number of output (1!=7)\n",
            "\n",
            "  UserWarning,\n"
          ]
        },
        {
          "output_type": "stream",
          "name": "stdout",
          "text": [
            "5/5 [==============================] - 3s 6ms/step - loss: 0.2490 - mean_squared_error: 0.2490\n"
          ]
        },
        {
          "output_type": "stream",
          "name": "stderr",
          "text": [
            "/usr/local/lib/python3.7/dist-packages/sklearn/model_selection/_validation.py:774: UserWarning: Scoring failed. The score on this train-test partition for these parameters will be set to nan. Details: \n",
            "Traceback (most recent call last):\n",
            "  File \"/usr/local/lib/python3.7/dist-packages/sklearn/model_selection/_validation.py\", line 761, in _score\n",
            "    scores = scorer(estimator, X_test, y_test)\n",
            "  File \"/usr/local/lib/python3.7/dist-packages/sklearn/metrics/_scorer.py\", line 221, in __call__\n",
            "    sample_weight=sample_weight,\n",
            "  File \"/usr/local/lib/python3.7/dist-packages/sklearn/metrics/_scorer.py\", line 264, in _score\n",
            "    return self._sign * self._score_func(y_true, y_pred, **self._kwargs)\n",
            "  File \"/usr/local/lib/python3.7/dist-packages/sklearn/metrics/_regression.py\", line 439, in mean_squared_error\n",
            "    y_true, y_pred, multioutput\n",
            "  File \"/usr/local/lib/python3.7/dist-packages/sklearn/metrics/_regression.py\", line 107, in _check_reg_targets\n",
            "    y_true.shape[1], y_pred.shape[1]\n",
            "ValueError: y_true and y_pred have different number of output (1!=7)\n",
            "\n",
            "  UserWarning,\n"
          ]
        },
        {
          "output_type": "stream",
          "name": "stdout",
          "text": [
            "5/5 [==============================] - 2s 7ms/step - loss: 0.2518 - mean_squared_error: 0.2518\n"
          ]
        },
        {
          "output_type": "stream",
          "name": "stderr",
          "text": [
            "/usr/local/lib/python3.7/dist-packages/sklearn/model_selection/_validation.py:774: UserWarning: Scoring failed. The score on this train-test partition for these parameters will be set to nan. Details: \n",
            "Traceback (most recent call last):\n",
            "  File \"/usr/local/lib/python3.7/dist-packages/sklearn/model_selection/_validation.py\", line 761, in _score\n",
            "    scores = scorer(estimator, X_test, y_test)\n",
            "  File \"/usr/local/lib/python3.7/dist-packages/sklearn/metrics/_scorer.py\", line 221, in __call__\n",
            "    sample_weight=sample_weight,\n",
            "  File \"/usr/local/lib/python3.7/dist-packages/sklearn/metrics/_scorer.py\", line 264, in _score\n",
            "    return self._sign * self._score_func(y_true, y_pred, **self._kwargs)\n",
            "  File \"/usr/local/lib/python3.7/dist-packages/sklearn/metrics/_regression.py\", line 439, in mean_squared_error\n",
            "    y_true, y_pred, multioutput\n",
            "  File \"/usr/local/lib/python3.7/dist-packages/sklearn/metrics/_regression.py\", line 107, in _check_reg_targets\n",
            "    y_true.shape[1], y_pred.shape[1]\n",
            "ValueError: y_true and y_pred have different number of output (1!=7)\n",
            "\n",
            "  UserWarning,\n"
          ]
        },
        {
          "output_type": "stream",
          "name": "stdout",
          "text": [
            "5/5 [==============================] - 2s 7ms/step - loss: 0.0739 - mean_squared_error: 0.0739\n"
          ]
        },
        {
          "output_type": "stream",
          "name": "stderr",
          "text": [
            "/usr/local/lib/python3.7/dist-packages/sklearn/model_selection/_validation.py:774: UserWarning: Scoring failed. The score on this train-test partition for these parameters will be set to nan. Details: \n",
            "Traceback (most recent call last):\n",
            "  File \"/usr/local/lib/python3.7/dist-packages/sklearn/model_selection/_validation.py\", line 761, in _score\n",
            "    scores = scorer(estimator, X_test, y_test)\n",
            "  File \"/usr/local/lib/python3.7/dist-packages/sklearn/metrics/_scorer.py\", line 221, in __call__\n",
            "    sample_weight=sample_weight,\n",
            "  File \"/usr/local/lib/python3.7/dist-packages/sklearn/metrics/_scorer.py\", line 264, in _score\n",
            "    return self._sign * self._score_func(y_true, y_pred, **self._kwargs)\n",
            "  File \"/usr/local/lib/python3.7/dist-packages/sklearn/metrics/_regression.py\", line 439, in mean_squared_error\n",
            "    y_true, y_pred, multioutput\n",
            "  File \"/usr/local/lib/python3.7/dist-packages/sklearn/metrics/_regression.py\", line 107, in _check_reg_targets\n",
            "    y_true.shape[1], y_pred.shape[1]\n",
            "ValueError: y_true and y_pred have different number of output (1!=7)\n",
            "\n",
            "  UserWarning,\n"
          ]
        },
        {
          "output_type": "stream",
          "name": "stdout",
          "text": [
            "5/5 [==============================] - 3s 7ms/step - loss: 0.1828 - mean_squared_error: 0.1828\n"
          ]
        },
        {
          "output_type": "stream",
          "name": "stderr",
          "text": [
            "/usr/local/lib/python3.7/dist-packages/sklearn/model_selection/_validation.py:774: UserWarning: Scoring failed. The score on this train-test partition for these parameters will be set to nan. Details: \n",
            "Traceback (most recent call last):\n",
            "  File \"/usr/local/lib/python3.7/dist-packages/sklearn/model_selection/_validation.py\", line 761, in _score\n",
            "    scores = scorer(estimator, X_test, y_test)\n",
            "  File \"/usr/local/lib/python3.7/dist-packages/sklearn/metrics/_scorer.py\", line 221, in __call__\n",
            "    sample_weight=sample_weight,\n",
            "  File \"/usr/local/lib/python3.7/dist-packages/sklearn/metrics/_scorer.py\", line 264, in _score\n",
            "    return self._sign * self._score_func(y_true, y_pred, **self._kwargs)\n",
            "  File \"/usr/local/lib/python3.7/dist-packages/sklearn/metrics/_regression.py\", line 439, in mean_squared_error\n",
            "    y_true, y_pred, multioutput\n",
            "  File \"/usr/local/lib/python3.7/dist-packages/sklearn/metrics/_regression.py\", line 107, in _check_reg_targets\n",
            "    y_true.shape[1], y_pred.shape[1]\n",
            "ValueError: y_true and y_pred have different number of output (1!=7)\n",
            "\n",
            "  UserWarning,\n"
          ]
        },
        {
          "output_type": "stream",
          "name": "stdout",
          "text": [
            "5/5 [==============================] - 3s 6ms/step - loss: 0.0815 - mean_squared_error: 0.0815\n"
          ]
        },
        {
          "output_type": "stream",
          "name": "stderr",
          "text": [
            "/usr/local/lib/python3.7/dist-packages/sklearn/model_selection/_validation.py:774: UserWarning: Scoring failed. The score on this train-test partition for these parameters will be set to nan. Details: \n",
            "Traceback (most recent call last):\n",
            "  File \"/usr/local/lib/python3.7/dist-packages/sklearn/model_selection/_validation.py\", line 761, in _score\n",
            "    scores = scorer(estimator, X_test, y_test)\n",
            "  File \"/usr/local/lib/python3.7/dist-packages/sklearn/metrics/_scorer.py\", line 221, in __call__\n",
            "    sample_weight=sample_weight,\n",
            "  File \"/usr/local/lib/python3.7/dist-packages/sklearn/metrics/_scorer.py\", line 264, in _score\n",
            "    return self._sign * self._score_func(y_true, y_pred, **self._kwargs)\n",
            "  File \"/usr/local/lib/python3.7/dist-packages/sklearn/metrics/_regression.py\", line 439, in mean_squared_error\n",
            "    y_true, y_pred, multioutput\n",
            "  File \"/usr/local/lib/python3.7/dist-packages/sklearn/metrics/_regression.py\", line 107, in _check_reg_targets\n",
            "    y_true.shape[1], y_pred.shape[1]\n",
            "ValueError: y_true and y_pred have different number of output (1!=7)\n",
            "\n",
            "  UserWarning,\n"
          ]
        },
        {
          "output_type": "stream",
          "name": "stdout",
          "text": [
            "5/5 [==============================] - 2s 7ms/step - loss: 0.1645 - mean_squared_error: 0.1645\n"
          ]
        },
        {
          "output_type": "stream",
          "name": "stderr",
          "text": [
            "/usr/local/lib/python3.7/dist-packages/sklearn/model_selection/_validation.py:774: UserWarning: Scoring failed. The score on this train-test partition for these parameters will be set to nan. Details: \n",
            "Traceback (most recent call last):\n",
            "  File \"/usr/local/lib/python3.7/dist-packages/sklearn/model_selection/_validation.py\", line 761, in _score\n",
            "    scores = scorer(estimator, X_test, y_test)\n",
            "  File \"/usr/local/lib/python3.7/dist-packages/sklearn/metrics/_scorer.py\", line 221, in __call__\n",
            "    sample_weight=sample_weight,\n",
            "  File \"/usr/local/lib/python3.7/dist-packages/sklearn/metrics/_scorer.py\", line 264, in _score\n",
            "    return self._sign * self._score_func(y_true, y_pred, **self._kwargs)\n",
            "  File \"/usr/local/lib/python3.7/dist-packages/sklearn/metrics/_regression.py\", line 439, in mean_squared_error\n",
            "    y_true, y_pred, multioutput\n",
            "  File \"/usr/local/lib/python3.7/dist-packages/sklearn/metrics/_regression.py\", line 107, in _check_reg_targets\n",
            "    y_true.shape[1], y_pred.shape[1]\n",
            "ValueError: y_true and y_pred have different number of output (1!=7)\n",
            "\n",
            "  UserWarning,\n"
          ]
        },
        {
          "output_type": "stream",
          "name": "stdout",
          "text": [
            "5/5 [==============================] - 2s 8ms/step - loss: 0.1051 - mean_squared_error: 0.1051\n"
          ]
        },
        {
          "output_type": "stream",
          "name": "stderr",
          "text": [
            "/usr/local/lib/python3.7/dist-packages/sklearn/model_selection/_validation.py:774: UserWarning: Scoring failed. The score on this train-test partition for these parameters will be set to nan. Details: \n",
            "Traceback (most recent call last):\n",
            "  File \"/usr/local/lib/python3.7/dist-packages/sklearn/model_selection/_validation.py\", line 761, in _score\n",
            "    scores = scorer(estimator, X_test, y_test)\n",
            "  File \"/usr/local/lib/python3.7/dist-packages/sklearn/metrics/_scorer.py\", line 221, in __call__\n",
            "    sample_weight=sample_weight,\n",
            "  File \"/usr/local/lib/python3.7/dist-packages/sklearn/metrics/_scorer.py\", line 264, in _score\n",
            "    return self._sign * self._score_func(y_true, y_pred, **self._kwargs)\n",
            "  File \"/usr/local/lib/python3.7/dist-packages/sklearn/metrics/_regression.py\", line 439, in mean_squared_error\n",
            "    y_true, y_pred, multioutput\n",
            "  File \"/usr/local/lib/python3.7/dist-packages/sklearn/metrics/_regression.py\", line 107, in _check_reg_targets\n",
            "    y_true.shape[1], y_pred.shape[1]\n",
            "ValueError: y_true and y_pred have different number of output (1!=7)\n",
            "\n",
            "  UserWarning,\n"
          ]
        },
        {
          "output_type": "stream",
          "name": "stdout",
          "text": [
            "5/5 [==============================] - 3s 7ms/step - loss: 0.1195 - mean_squared_error: 0.1195\n"
          ]
        },
        {
          "output_type": "stream",
          "name": "stderr",
          "text": [
            "/usr/local/lib/python3.7/dist-packages/sklearn/model_selection/_validation.py:774: UserWarning: Scoring failed. The score on this train-test partition for these parameters will be set to nan. Details: \n",
            "Traceback (most recent call last):\n",
            "  File \"/usr/local/lib/python3.7/dist-packages/sklearn/model_selection/_validation.py\", line 761, in _score\n",
            "    scores = scorer(estimator, X_test, y_test)\n",
            "  File \"/usr/local/lib/python3.7/dist-packages/sklearn/metrics/_scorer.py\", line 221, in __call__\n",
            "    sample_weight=sample_weight,\n",
            "  File \"/usr/local/lib/python3.7/dist-packages/sklearn/metrics/_scorer.py\", line 264, in _score\n",
            "    return self._sign * self._score_func(y_true, y_pred, **self._kwargs)\n",
            "  File \"/usr/local/lib/python3.7/dist-packages/sklearn/metrics/_regression.py\", line 439, in mean_squared_error\n",
            "    y_true, y_pred, multioutput\n",
            "  File \"/usr/local/lib/python3.7/dist-packages/sklearn/metrics/_regression.py\", line 107, in _check_reg_targets\n",
            "    y_true.shape[1], y_pred.shape[1]\n",
            "ValueError: y_true and y_pred have different number of output (1!=7)\n",
            "\n",
            "  UserWarning,\n"
          ]
        },
        {
          "output_type": "stream",
          "name": "stdout",
          "text": [
            "5/5 [==============================] - 3s 7ms/step - loss: 0.2283 - mean_squared_error: 0.2283\n"
          ]
        },
        {
          "output_type": "stream",
          "name": "stderr",
          "text": [
            "/usr/local/lib/python3.7/dist-packages/sklearn/model_selection/_validation.py:774: UserWarning: Scoring failed. The score on this train-test partition for these parameters will be set to nan. Details: \n",
            "Traceback (most recent call last):\n",
            "  File \"/usr/local/lib/python3.7/dist-packages/sklearn/model_selection/_validation.py\", line 761, in _score\n",
            "    scores = scorer(estimator, X_test, y_test)\n",
            "  File \"/usr/local/lib/python3.7/dist-packages/sklearn/metrics/_scorer.py\", line 221, in __call__\n",
            "    sample_weight=sample_weight,\n",
            "  File \"/usr/local/lib/python3.7/dist-packages/sklearn/metrics/_scorer.py\", line 264, in _score\n",
            "    return self._sign * self._score_func(y_true, y_pred, **self._kwargs)\n",
            "  File \"/usr/local/lib/python3.7/dist-packages/sklearn/metrics/_regression.py\", line 439, in mean_squared_error\n",
            "    y_true, y_pred, multioutput\n",
            "  File \"/usr/local/lib/python3.7/dist-packages/sklearn/metrics/_regression.py\", line 107, in _check_reg_targets\n",
            "    y_true.shape[1], y_pred.shape[1]\n",
            "ValueError: y_true and y_pred have different number of output (1!=7)\n",
            "\n",
            "  UserWarning,\n"
          ]
        },
        {
          "output_type": "stream",
          "name": "stdout",
          "text": [
            "5/5 [==============================] - 2s 9ms/step - loss: 0.1258 - mean_squared_error: 0.1258\n"
          ]
        },
        {
          "output_type": "stream",
          "name": "stderr",
          "text": [
            "/usr/local/lib/python3.7/dist-packages/sklearn/model_selection/_validation.py:774: UserWarning: Scoring failed. The score on this train-test partition for these parameters will be set to nan. Details: \n",
            "Traceback (most recent call last):\n",
            "  File \"/usr/local/lib/python3.7/dist-packages/sklearn/model_selection/_validation.py\", line 761, in _score\n",
            "    scores = scorer(estimator, X_test, y_test)\n",
            "  File \"/usr/local/lib/python3.7/dist-packages/sklearn/metrics/_scorer.py\", line 221, in __call__\n",
            "    sample_weight=sample_weight,\n",
            "  File \"/usr/local/lib/python3.7/dist-packages/sklearn/metrics/_scorer.py\", line 264, in _score\n",
            "    return self._sign * self._score_func(y_true, y_pred, **self._kwargs)\n",
            "  File \"/usr/local/lib/python3.7/dist-packages/sklearn/metrics/_regression.py\", line 439, in mean_squared_error\n",
            "    y_true, y_pred, multioutput\n",
            "  File \"/usr/local/lib/python3.7/dist-packages/sklearn/metrics/_regression.py\", line 107, in _check_reg_targets\n",
            "    y_true.shape[1], y_pred.shape[1]\n",
            "ValueError: y_true and y_pred have different number of output (1!=7)\n",
            "\n",
            "  UserWarning,\n"
          ]
        },
        {
          "output_type": "stream",
          "name": "stdout",
          "text": [
            "5/5 [==============================] - 3s 7ms/step - loss: 0.2490 - mean_squared_error: 0.2490\n"
          ]
        },
        {
          "output_type": "stream",
          "name": "stderr",
          "text": [
            "/usr/local/lib/python3.7/dist-packages/sklearn/model_selection/_validation.py:774: UserWarning: Scoring failed. The score on this train-test partition for these parameters will be set to nan. Details: \n",
            "Traceback (most recent call last):\n",
            "  File \"/usr/local/lib/python3.7/dist-packages/sklearn/model_selection/_validation.py\", line 761, in _score\n",
            "    scores = scorer(estimator, X_test, y_test)\n",
            "  File \"/usr/local/lib/python3.7/dist-packages/sklearn/metrics/_scorer.py\", line 221, in __call__\n",
            "    sample_weight=sample_weight,\n",
            "  File \"/usr/local/lib/python3.7/dist-packages/sklearn/metrics/_scorer.py\", line 264, in _score\n",
            "    return self._sign * self._score_func(y_true, y_pred, **self._kwargs)\n",
            "  File \"/usr/local/lib/python3.7/dist-packages/sklearn/metrics/_regression.py\", line 439, in mean_squared_error\n",
            "    y_true, y_pred, multioutput\n",
            "  File \"/usr/local/lib/python3.7/dist-packages/sklearn/metrics/_regression.py\", line 107, in _check_reg_targets\n",
            "    y_true.shape[1], y_pred.shape[1]\n",
            "ValueError: y_true and y_pred have different number of output (1!=7)\n",
            "\n",
            "  UserWarning,\n"
          ]
        },
        {
          "output_type": "stream",
          "name": "stdout",
          "text": [
            "5/5 [==============================] - 3s 7ms/step - loss: 0.1512 - mean_squared_error: 0.1512\n"
          ]
        },
        {
          "output_type": "stream",
          "name": "stderr",
          "text": [
            "/usr/local/lib/python3.7/dist-packages/sklearn/model_selection/_validation.py:774: UserWarning: Scoring failed. The score on this train-test partition for these parameters will be set to nan. Details: \n",
            "Traceback (most recent call last):\n",
            "  File \"/usr/local/lib/python3.7/dist-packages/sklearn/model_selection/_validation.py\", line 761, in _score\n",
            "    scores = scorer(estimator, X_test, y_test)\n",
            "  File \"/usr/local/lib/python3.7/dist-packages/sklearn/metrics/_scorer.py\", line 221, in __call__\n",
            "    sample_weight=sample_weight,\n",
            "  File \"/usr/local/lib/python3.7/dist-packages/sklearn/metrics/_scorer.py\", line 264, in _score\n",
            "    return self._sign * self._score_func(y_true, y_pred, **self._kwargs)\n",
            "  File \"/usr/local/lib/python3.7/dist-packages/sklearn/metrics/_regression.py\", line 439, in mean_squared_error\n",
            "    y_true, y_pred, multioutput\n",
            "  File \"/usr/local/lib/python3.7/dist-packages/sklearn/metrics/_regression.py\", line 107, in _check_reg_targets\n",
            "    y_true.shape[1], y_pred.shape[1]\n",
            "ValueError: y_true and y_pred have different number of output (1!=7)\n",
            "\n",
            "  UserWarning,\n"
          ]
        },
        {
          "output_type": "stream",
          "name": "stdout",
          "text": [
            "5/5 [==============================] - 3s 7ms/step - loss: 0.2038 - mean_squared_error: 0.2038\n"
          ]
        },
        {
          "output_type": "stream",
          "name": "stderr",
          "text": [
            "/usr/local/lib/python3.7/dist-packages/sklearn/model_selection/_validation.py:774: UserWarning: Scoring failed. The score on this train-test partition for these parameters will be set to nan. Details: \n",
            "Traceback (most recent call last):\n",
            "  File \"/usr/local/lib/python3.7/dist-packages/sklearn/model_selection/_validation.py\", line 761, in _score\n",
            "    scores = scorer(estimator, X_test, y_test)\n",
            "  File \"/usr/local/lib/python3.7/dist-packages/sklearn/metrics/_scorer.py\", line 221, in __call__\n",
            "    sample_weight=sample_weight,\n",
            "  File \"/usr/local/lib/python3.7/dist-packages/sklearn/metrics/_scorer.py\", line 264, in _score\n",
            "    return self._sign * self._score_func(y_true, y_pred, **self._kwargs)\n",
            "  File \"/usr/local/lib/python3.7/dist-packages/sklearn/metrics/_regression.py\", line 439, in mean_squared_error\n",
            "    y_true, y_pred, multioutput\n",
            "  File \"/usr/local/lib/python3.7/dist-packages/sklearn/metrics/_regression.py\", line 107, in _check_reg_targets\n",
            "    y_true.shape[1], y_pred.shape[1]\n",
            "ValueError: y_true and y_pred have different number of output (1!=7)\n",
            "\n",
            "  UserWarning,\n"
          ]
        },
        {
          "output_type": "stream",
          "name": "stdout",
          "text": [
            "5/5 [==============================] - 3s 6ms/step - loss: 0.1949 - mean_squared_error: 0.1949\n"
          ]
        },
        {
          "output_type": "stream",
          "name": "stderr",
          "text": [
            "/usr/local/lib/python3.7/dist-packages/sklearn/model_selection/_validation.py:774: UserWarning: Scoring failed. The score on this train-test partition for these parameters will be set to nan. Details: \n",
            "Traceback (most recent call last):\n",
            "  File \"/usr/local/lib/python3.7/dist-packages/sklearn/model_selection/_validation.py\", line 761, in _score\n",
            "    scores = scorer(estimator, X_test, y_test)\n",
            "  File \"/usr/local/lib/python3.7/dist-packages/sklearn/metrics/_scorer.py\", line 221, in __call__\n",
            "    sample_weight=sample_weight,\n",
            "  File \"/usr/local/lib/python3.7/dist-packages/sklearn/metrics/_scorer.py\", line 264, in _score\n",
            "    return self._sign * self._score_func(y_true, y_pred, **self._kwargs)\n",
            "  File \"/usr/local/lib/python3.7/dist-packages/sklearn/metrics/_regression.py\", line 439, in mean_squared_error\n",
            "    y_true, y_pred, multioutput\n",
            "  File \"/usr/local/lib/python3.7/dist-packages/sklearn/metrics/_regression.py\", line 107, in _check_reg_targets\n",
            "    y_true.shape[1], y_pred.shape[1]\n",
            "ValueError: y_true and y_pred have different number of output (1!=7)\n",
            "\n",
            "  UserWarning,\n"
          ]
        },
        {
          "output_type": "stream",
          "name": "stdout",
          "text": [
            "5/5 [==============================] - 3s 6ms/step - loss: 0.2134 - mean_squared_error: 0.2134\n"
          ]
        },
        {
          "output_type": "stream",
          "name": "stderr",
          "text": [
            "/usr/local/lib/python3.7/dist-packages/sklearn/model_selection/_validation.py:774: UserWarning: Scoring failed. The score on this train-test partition for these parameters will be set to nan. Details: \n",
            "Traceback (most recent call last):\n",
            "  File \"/usr/local/lib/python3.7/dist-packages/sklearn/model_selection/_validation.py\", line 761, in _score\n",
            "    scores = scorer(estimator, X_test, y_test)\n",
            "  File \"/usr/local/lib/python3.7/dist-packages/sklearn/metrics/_scorer.py\", line 221, in __call__\n",
            "    sample_weight=sample_weight,\n",
            "  File \"/usr/local/lib/python3.7/dist-packages/sklearn/metrics/_scorer.py\", line 264, in _score\n",
            "    return self._sign * self._score_func(y_true, y_pred, **self._kwargs)\n",
            "  File \"/usr/local/lib/python3.7/dist-packages/sklearn/metrics/_regression.py\", line 439, in mean_squared_error\n",
            "    y_true, y_pred, multioutput\n",
            "  File \"/usr/local/lib/python3.7/dist-packages/sklearn/metrics/_regression.py\", line 107, in _check_reg_targets\n",
            "    y_true.shape[1], y_pred.shape[1]\n",
            "ValueError: y_true and y_pred have different number of output (1!=7)\n",
            "\n",
            "  UserWarning,\n"
          ]
        },
        {
          "output_type": "stream",
          "name": "stdout",
          "text": [
            "5/5 [==============================] - 3s 6ms/step - loss: 0.0875 - mean_squared_error: 0.0875\n"
          ]
        },
        {
          "output_type": "stream",
          "name": "stderr",
          "text": [
            "/usr/local/lib/python3.7/dist-packages/sklearn/model_selection/_validation.py:774: UserWarning: Scoring failed. The score on this train-test partition for these parameters will be set to nan. Details: \n",
            "Traceback (most recent call last):\n",
            "  File \"/usr/local/lib/python3.7/dist-packages/sklearn/model_selection/_validation.py\", line 761, in _score\n",
            "    scores = scorer(estimator, X_test, y_test)\n",
            "  File \"/usr/local/lib/python3.7/dist-packages/sklearn/metrics/_scorer.py\", line 221, in __call__\n",
            "    sample_weight=sample_weight,\n",
            "  File \"/usr/local/lib/python3.7/dist-packages/sklearn/metrics/_scorer.py\", line 264, in _score\n",
            "    return self._sign * self._score_func(y_true, y_pred, **self._kwargs)\n",
            "  File \"/usr/local/lib/python3.7/dist-packages/sklearn/metrics/_regression.py\", line 439, in mean_squared_error\n",
            "    y_true, y_pred, multioutput\n",
            "  File \"/usr/local/lib/python3.7/dist-packages/sklearn/metrics/_regression.py\", line 107, in _check_reg_targets\n",
            "    y_true.shape[1], y_pred.shape[1]\n",
            "ValueError: y_true and y_pred have different number of output (1!=7)\n",
            "\n",
            "  UserWarning,\n"
          ]
        },
        {
          "output_type": "stream",
          "name": "stdout",
          "text": [
            "5/5 [==============================] - 3s 7ms/step - loss: 0.1003 - mean_squared_error: 0.1003\n"
          ]
        },
        {
          "output_type": "stream",
          "name": "stderr",
          "text": [
            "/usr/local/lib/python3.7/dist-packages/sklearn/model_selection/_validation.py:774: UserWarning: Scoring failed. The score on this train-test partition for these parameters will be set to nan. Details: \n",
            "Traceback (most recent call last):\n",
            "  File \"/usr/local/lib/python3.7/dist-packages/sklearn/model_selection/_validation.py\", line 761, in _score\n",
            "    scores = scorer(estimator, X_test, y_test)\n",
            "  File \"/usr/local/lib/python3.7/dist-packages/sklearn/metrics/_scorer.py\", line 221, in __call__\n",
            "    sample_weight=sample_weight,\n",
            "  File \"/usr/local/lib/python3.7/dist-packages/sklearn/metrics/_scorer.py\", line 264, in _score\n",
            "    return self._sign * self._score_func(y_true, y_pred, **self._kwargs)\n",
            "  File \"/usr/local/lib/python3.7/dist-packages/sklearn/metrics/_regression.py\", line 439, in mean_squared_error\n",
            "    y_true, y_pred, multioutput\n",
            "  File \"/usr/local/lib/python3.7/dist-packages/sklearn/metrics/_regression.py\", line 107, in _check_reg_targets\n",
            "    y_true.shape[1], y_pred.shape[1]\n",
            "ValueError: y_true and y_pred have different number of output (1!=7)\n",
            "\n",
            "  UserWarning,\n"
          ]
        },
        {
          "output_type": "stream",
          "name": "stdout",
          "text": [
            "5/5 [==============================] - 3s 7ms/step - loss: 0.1425 - mean_squared_error: 0.1425\n"
          ]
        },
        {
          "output_type": "stream",
          "name": "stderr",
          "text": [
            "/usr/local/lib/python3.7/dist-packages/sklearn/model_selection/_validation.py:774: UserWarning: Scoring failed. The score on this train-test partition for these parameters will be set to nan. Details: \n",
            "Traceback (most recent call last):\n",
            "  File \"/usr/local/lib/python3.7/dist-packages/sklearn/model_selection/_validation.py\", line 761, in _score\n",
            "    scores = scorer(estimator, X_test, y_test)\n",
            "  File \"/usr/local/lib/python3.7/dist-packages/sklearn/metrics/_scorer.py\", line 221, in __call__\n",
            "    sample_weight=sample_weight,\n",
            "  File \"/usr/local/lib/python3.7/dist-packages/sklearn/metrics/_scorer.py\", line 264, in _score\n",
            "    return self._sign * self._score_func(y_true, y_pred, **self._kwargs)\n",
            "  File \"/usr/local/lib/python3.7/dist-packages/sklearn/metrics/_regression.py\", line 439, in mean_squared_error\n",
            "    y_true, y_pred, multioutput\n",
            "  File \"/usr/local/lib/python3.7/dist-packages/sklearn/metrics/_regression.py\", line 107, in _check_reg_targets\n",
            "    y_true.shape[1], y_pred.shape[1]\n",
            "ValueError: y_true and y_pred have different number of output (1!=7)\n",
            "\n",
            "  UserWarning,\n"
          ]
        },
        {
          "output_type": "stream",
          "name": "stdout",
          "text": [
            "5/5 [==============================] - 3s 8ms/step - loss: 0.4016 - mean_squared_error: 0.4016\n"
          ]
        },
        {
          "output_type": "stream",
          "name": "stderr",
          "text": [
            "/usr/local/lib/python3.7/dist-packages/sklearn/model_selection/_validation.py:774: UserWarning: Scoring failed. The score on this train-test partition for these parameters will be set to nan. Details: \n",
            "Traceback (most recent call last):\n",
            "  File \"/usr/local/lib/python3.7/dist-packages/sklearn/model_selection/_validation.py\", line 761, in _score\n",
            "    scores = scorer(estimator, X_test, y_test)\n",
            "  File \"/usr/local/lib/python3.7/dist-packages/sklearn/metrics/_scorer.py\", line 221, in __call__\n",
            "    sample_weight=sample_weight,\n",
            "  File \"/usr/local/lib/python3.7/dist-packages/sklearn/metrics/_scorer.py\", line 264, in _score\n",
            "    return self._sign * self._score_func(y_true, y_pred, **self._kwargs)\n",
            "  File \"/usr/local/lib/python3.7/dist-packages/sklearn/metrics/_regression.py\", line 439, in mean_squared_error\n",
            "    y_true, y_pred, multioutput\n",
            "  File \"/usr/local/lib/python3.7/dist-packages/sklearn/metrics/_regression.py\", line 107, in _check_reg_targets\n",
            "    y_true.shape[1], y_pred.shape[1]\n",
            "ValueError: y_true and y_pred have different number of output (1!=7)\n",
            "\n",
            "  UserWarning,\n"
          ]
        },
        {
          "output_type": "stream",
          "name": "stdout",
          "text": [
            "5/5 [==============================] - 3s 8ms/step - loss: 0.1825 - mean_squared_error: 0.1825\n"
          ]
        },
        {
          "output_type": "stream",
          "name": "stderr",
          "text": [
            "/usr/local/lib/python3.7/dist-packages/sklearn/model_selection/_validation.py:774: UserWarning: Scoring failed. The score on this train-test partition for these parameters will be set to nan. Details: \n",
            "Traceback (most recent call last):\n",
            "  File \"/usr/local/lib/python3.7/dist-packages/sklearn/model_selection/_validation.py\", line 761, in _score\n",
            "    scores = scorer(estimator, X_test, y_test)\n",
            "  File \"/usr/local/lib/python3.7/dist-packages/sklearn/metrics/_scorer.py\", line 221, in __call__\n",
            "    sample_weight=sample_weight,\n",
            "  File \"/usr/local/lib/python3.7/dist-packages/sklearn/metrics/_scorer.py\", line 264, in _score\n",
            "    return self._sign * self._score_func(y_true, y_pred, **self._kwargs)\n",
            "  File \"/usr/local/lib/python3.7/dist-packages/sklearn/metrics/_regression.py\", line 439, in mean_squared_error\n",
            "    y_true, y_pred, multioutput\n",
            "  File \"/usr/local/lib/python3.7/dist-packages/sklearn/metrics/_regression.py\", line 107, in _check_reg_targets\n",
            "    y_true.shape[1], y_pred.shape[1]\n",
            "ValueError: y_true and y_pred have different number of output (1!=7)\n",
            "\n",
            "  UserWarning,\n"
          ]
        },
        {
          "output_type": "stream",
          "name": "stdout",
          "text": [
            "5/5 [==============================] - 3s 7ms/step - loss: 0.1248 - mean_squared_error: 0.1248\n"
          ]
        },
        {
          "output_type": "stream",
          "name": "stderr",
          "text": [
            "/usr/local/lib/python3.7/dist-packages/sklearn/model_selection/_validation.py:774: UserWarning: Scoring failed. The score on this train-test partition for these parameters will be set to nan. Details: \n",
            "Traceback (most recent call last):\n",
            "  File \"/usr/local/lib/python3.7/dist-packages/sklearn/model_selection/_validation.py\", line 761, in _score\n",
            "    scores = scorer(estimator, X_test, y_test)\n",
            "  File \"/usr/local/lib/python3.7/dist-packages/sklearn/metrics/_scorer.py\", line 221, in __call__\n",
            "    sample_weight=sample_weight,\n",
            "  File \"/usr/local/lib/python3.7/dist-packages/sklearn/metrics/_scorer.py\", line 264, in _score\n",
            "    return self._sign * self._score_func(y_true, y_pred, **self._kwargs)\n",
            "  File \"/usr/local/lib/python3.7/dist-packages/sklearn/metrics/_regression.py\", line 439, in mean_squared_error\n",
            "    y_true, y_pred, multioutput\n",
            "  File \"/usr/local/lib/python3.7/dist-packages/sklearn/metrics/_regression.py\", line 107, in _check_reg_targets\n",
            "    y_true.shape[1], y_pred.shape[1]\n",
            "ValueError: y_true and y_pred have different number of output (1!=7)\n",
            "\n",
            "  UserWarning,\n",
            "/usr/local/lib/python3.7/dist-packages/sklearn/model_selection/_search.py:972: UserWarning: One or more of the test scores are non-finite: [nan nan nan nan nan nan nan nan nan nan nan nan nan nan nan nan nan nan]\n",
            "  category=UserWarning,\n"
          ]
        },
        {
          "output_type": "stream",
          "name": "stdout",
          "text": [
            "42/42 [==============================] - 3s 4ms/step - loss: 0.1746 - mean_squared_error: 0.1746\n"
          ]
        }
      ]
    },
    {
      "cell_type": "code",
      "source": [
        "print(best_parameters)\n",
        "print(best_mse)"
      ],
      "metadata": {
        "colab": {
          "base_uri": "https://localhost:8080/"
        },
        "id": "wHKAsX9ecya_",
        "outputId": "2d6b2c74-9b3c-4a2a-d154-624fab5e9990"
      },
      "execution_count": null,
      "outputs": [
        {
          "output_type": "stream",
          "name": "stdout",
          "text": [
            "{'batch_size': 2, 'nb_epoch': 20, 'optimizer': 'adam'}\n",
            "nan\n"
          ]
        }
      ]
    },
    {
      "cell_type": "code",
      "metadata": {
        "id": "8gVfdvyk6xaK"
      },
      "source": [
        "history = model.fit(\n",
        "      x = X_train,\n",
        "      y = y_train,\n",
        "      validation_data = [X_test, y_test],\n",
        "      epochs = 20,\n",
        "      batch_size = 8,\n",
        "      callbacks=[earlystopping], #Al final no ocupe el scheduler porque no daba mejor\n",
        "      verbose=0,\n",
        "      shuffle = False)"
      ],
      "execution_count": null,
      "outputs": []
    },
    {
      "cell_type": "code",
      "source": [
        "#Check best epoch\n",
        "best = np.argmin(history.history[\"val_loss\"])\n",
        "print(\"Optimal Epoch: {}\",best)"
      ],
      "metadata": {
        "colab": {
          "base_uri": "https://localhost:8080/"
        },
        "id": "5fr4WTLktH3g",
        "outputId": "563d0398-28ac-4ffc-813b-9128ad1d9656"
      },
      "execution_count": null,
      "outputs": [
        {
          "output_type": "stream",
          "name": "stdout",
          "text": [
            "Optimal Epoch: {} 18\n"
          ]
        }
      ]
    },
    {
      "cell_type": "code",
      "source": [
        "# Visualize History for Loss.\n",
        "plt.title('Keras model loss')\n",
        "plt.plot(history.history['loss'])\n",
        "plt.plot(history.history['val_loss'])\n",
        "plt.ylabel('loss')\n",
        "plt.xlabel('epoch')\n",
        "plt.legend(['training', 'validation'], loc='upper right')\n",
        "plt.show()"
      ],
      "metadata": {
        "colab": {
          "base_uri": "https://localhost:8080/",
          "height": 295
        },
        "id": "vrC3ISj_Rx05",
        "outputId": "dd8b8822-f494-44fe-d892-130fef4b74dd"
      },
      "execution_count": null,
      "outputs": [
        {
          "output_type": "display_data",
          "data": {
            "text/plain": [
              "<Figure size 432x288 with 1 Axes>"
            ],
            "image/png": "[encoded data removed]"
          },
          "metadata": {
            "needs_background": "light"
          }
        }
      ]
    },
    {
      "cell_type": "markdown",
      "source": [
        "No logré obtener el resultado menor a 2% y e incluso, tengo algo de overfiting.\n",
        "\n",
        "Entre las prubeas que realicé fue con Scheduler de Learning Rate que terminó sin dar resultado, modificando el valor de Dropout dentro de la LSTM, con distintas épocas (nunca más de 70 porque me lo frenaba el Early Stopping) y con batch_size de 1,3,7,8,16,32."
      ],
      "metadata": {
        "id": "sKn3JOLa1pda"
      }
    },
    {
      "cell_type": "markdown",
      "source": [
        "Hubo momentos en el que obtuve 2% en el entrenamiento y 6% en el test, pero al reiniciar la notebook para volverla a correr se me cayó nuevamente.\n",
        "\n",
        "A esto le encuentro dos potenciales explicaciones: quizás tenga que ver con los parámetros iniciales de la red o en algún momento, no reinicié el entorno de ejecución y tuve en realidad había reentrado.\n",
        "\n",
        "De todas formas, esos valores también presentaban cierto overfiting.\n",
        "\n",
        "![Red.jpeg](data:image/jpeg;base64,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)"
      ],
      "metadata": {
        "id": "av3GzkDb2MX7"
      }
    },
    {
      "cell_type": "markdown",
      "metadata": {
        "id": "W52-gZHg7BRF"
      },
      "source": [
        "###Parte 5: Medir la performance del modelo\n",
        "Ahora estamos en condiciones de hacer una predicción"
      ]
    },
    {
      "cell_type": "code",
      "metadata": {
        "id": "-6bFrjyN65zU"
      },
      "source": [
        "### @TODO\n",
        "# Hacer la predicción con el modelo entrenado\n",
        "train_predict = model.predict(X_train)\n",
        "test_predict = model.predict(X_test)"
      ],
      "execution_count": null,
      "outputs": []
    },
    {
      "cell_type": "markdown",
      "metadata": {
        "id": "8VmgFxfR7Ifz"
      },
      "source": [
        "Se debería obtener un error sobre los datos de entrenamiento como de test menor al 2%. Si no se consigue este valor, se puede aumentar el número de epochs y re-entrenar el modelo o ajustar el tamaño del batch. Estudiar en la documentación que otros hiper-parámetros se pueden modificar para mejorar la precisión."
      ]
    },
    {
      "cell_type": "code",
      "metadata": {
        "id": "mB6rI3UT7HJa",
        "colab": {
          "base_uri": "https://localhost:8080/"
        },
        "outputId": "56ffdc47-21c7-4312-f845-f9e96fdf5a0a"
      },
      "source": [
        "# Medir la precisión\n",
        "training_error = model.evaluate(X_train, y_train, verbose=0)\n",
        "print('Error de entrenamiento = ' + str(training_error[0]))\n",
        "\n",
        "testing_error = model.evaluate(X_test, y_test, verbose=0)\n",
        "print('Error de test = ' + str(testing_error[0]))"
      ],
      "execution_count": null,
      "outputs": [
        {
          "output_type": "stream",
          "name": "stdout",
          "text": [
            "Error de entrenamiento = 0.045983701944351196\n",
            "Error de test = 0.14744718372821808\n"
          ]
        }
      ]
    },
    {
      "cell_type": "markdown",
      "metadata": {
        "id": "rteaX5F97UVa"
      },
      "source": [
        "Nota:[Aquí](https://datamarket.com/data/list/?q=provider%3Atsdl) se pueden encontrar otras series ordenadas con las que probar"
      ]
    },
    {
      "cell_type": "markdown",
      "metadata": {
        "id": "LOwpkpF3V9AY"
      },
      "source": [
        "### Puntos de mejora\n",
        "A continuación listar o llevar adelante los puntos que se entiende pueden mejorar la solución alcanzada."
      ]
    },
    {
      "cell_type": "markdown",
      "source": [
        "En primer lugar, no usaría en la función window_transform_series dos for anidados por la complejidad n2."
      ],
      "metadata": {
        "id": "UHQS8bCeVeW2"
      }
    },
    {
      "cell_type": "markdown",
      "metadata": {
        "id": "LsL6HKNuWLF9"
      },
      "source": [
        "Si bien, no pude lograr le objetivo, Keras tiene un Tunner para hacer una optimziación de capas ocultas, de esta forma podría reconfigurarse la red.\n",
        "\n",
        "Sino, podría heurísticamente pobrarse tocar la arquitectura buscando mejores resultados. Algo que haría, sería agregar una capa de dropout para evitar el overfiting y probar con una BiLSTM (en la bibliografía he visto buenos resultados)."
      ]
    },
    {
      "cell_type": "code",
      "source": [
        "from keras.layers import Bidirectional\n",
        "\n",
        "new_model = Sequential()\n",
        "new_model.add(Bidirectional(LSTM(50, activation='relu'), input_shape=(window_size,1)))\n",
        "new_model.add(Dense(1))\n",
        "new_model.compile(optimizer=\"adam\", loss=\"mse\")\n",
        "\n",
        "history = new_model.fit(X_train, y_train, epochs=200, validation_split=0.2, verbose=0)\n",
        "\n",
        "testing_error = new_model.evaluate(X_test, y_test, verbose=0)\n",
        "print('Error de test = ' + str(testing_error))"
      ],
      "metadata": {
        "colab": {
          "base_uri": "https://localhost:8080/"
        },
        "id": "NiIBlj0cAZOH",
        "outputId": "ba059c73-b98b-4547-a6ab-eb1803908dd3"
      },
      "execution_count": null,
      "outputs": [
        {
          "output_type": "stream",
          "name": "stdout",
          "text": [
            "Error de test = 0.06799954921007156\n"
          ]
        }
      ]
    },
    {
      "cell_type": "markdown",
      "source": [
        "Con esta arquitectura, tampoco pude llegar al 2% esperado, pero si mejoraron bastante mis métricas.\n",
        "Podría haber realizado otras pruebas como Tunner de Keras o GridSearch, pero por cuestiones de tiempo, no llegué realmente a hacerlo."
      ],
      "metadata": {
        "id": "YkFMWYJZ4GO1"
      }
    },
    {
      "cell_type": "markdown",
      "source": [
        "Importante: hay que re-escalar la salida para tener el dato real."
      ],
      "metadata": {
        "id": "F3yZjNLVCbAc"
      }
    }
  ]
}